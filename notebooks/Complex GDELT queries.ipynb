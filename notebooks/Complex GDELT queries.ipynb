{
 "cells": [
  {
   "cell_type": "markdown",
   "metadata": {},
   "source": [
    "# Query the events, mentions and knowledge table"
   ]
  },
  {
   "cell_type": "code",
   "execution_count": 50,
   "metadata": {},
   "outputs": [],
   "source": [
    "from datetime import date, timedelta\n",
    "from gdelt import gdelt as gdelt_client\n",
    "import pandas as pd\n",
    "import re"
   ]
  },
  {
   "cell_type": "code",
   "execution_count": 124,
   "metadata": {},
   "outputs": [],
   "source": [
    "def document_has_theme(document, themes=[]):\n",
    "    document_themes = str(document[\"Themes\"]).split(\";\")\n",
    "    for theme in themes:\n",
    "        if theme in document_themes:\n",
    "            return True\n",
    "        \n",
    "    return False\n",
    "\n",
    "def query_documents(graphs, mentions, themes=[]):\n",
    "    mentioned_documents = graphs.loc[graphs[\"DocumentIdentifier\"].isin(mentions[\"MentionIdentifier\"])]\n",
    "    if 0 < len(themes):\n",
    "        return mentioned_documents[mentioned_documents.apply(document_has_theme, args=[themes], axis=1)]\n",
    "    else:\n",
    "        return mentioned_documents\n",
    "    \n",
    "def query_mentions(mentions, events):\n",
    "    return mentions.loc[mentions[\"GLOBALEVENTID\"].isin(events[\"GLOBALEVENTID\"])]\n",
    "\n",
    "def query_top_most_events(mentions, events, max_count):\n",
    "    top_most = mentions[\"GLOBALEVENTID\"].value_counts(sort=True)[:max_count]\n",
    "    top_most_event_ids = top_most.index.tolist()\n",
    "    return events.loc[events[\"GLOBALEVENTID\"].isin(top_most_event_ids)]\n",
    "\n",
    "def query_complex(date_of_interest=date.today(), max_count=3, full_day=True, trusted_sources=[], min_confidence=100, themes=[]):\n",
    "    client = gdelt_client(version=2)\n",
    "    events = client.Search(date_of_interest.strftime(\"%Y %m %d\"), table=\"events\", coverage=full_day)\n",
    "    mentions = client.Search(date_of_interest.strftime(\"%Y %m %d\"), table=\"mentions\", coverage=full_day)\n",
    "    graphs = client.Search(date_of_interest.strftime(\"%Y %m %d\"), table=\"gkg\", coverage=full_day) \n",
    "    del client\n",
    "    \n",
    "    if 0 < len(trusted_sources):\n",
    "        trusted_mentions = mentions.loc[(mentions[\"MentionSourceName\"].isin(trusted_sources)) & (mentions[\"Confidence\"] >= min_confidence)]\n",
    "    else:\n",
    "        trusted_mentions = mentions.loc[mentions[\"Confidence\"] >= min_confidence]\n",
    "    \n",
    "    top_most_events = query_top_most_events(trusted_mentions, events, max_count)\n",
    "    events_mentions = query_mentions(trusted_mentions, top_most_events)\n",
    "    events_documents = query_documents(graphs, events_mentions, themes)\n",
    "    return (top_most_events,  events_mentions, events_documents)\n",
    "\n",
    "def describe_gdelt_result(gdelt_result):\n",
    "    (events, mentions, documents) = gdelt_result    \n",
    "    document_source = documents[\"SourceCommonName\"].values\n",
    "    document_extras = documents[\"Extras\"].values\n",
    "    document_image_urls = documents[\"SharingImage\"].values\n",
    "    news = []\n",
    "    unique_links = {}\n",
    "    document_index = 0\n",
    "    for document_extra in document_extras:\n",
    "        news_entry = {\n",
    "            \"title\": None,\n",
    "            \"source\": document_source[document_index],\n",
    "            \"links\": [],\n",
    "            \"image\": None\n",
    "        }\n",
    "        \n",
    "        for title_match in re.finditer(\"<PAGE_TITLE>(.+)</PAGE_TITLE>\", document_extra):\n",
    "            (title,) = title_match.groups(1)\n",
    "            news_entry[\"title\"] = title\n",
    "        for links_match in re.finditer(\"<PAGE_LINKS>(.+)</PAGE_LINKS>\", document_extra):\n",
    "            (links,) = links_match.groups(1)\n",
    "            links = links.split(\";\")\n",
    "            for link in links:\n",
    "                if re.match(\"https?://\", link):\n",
    "                    if not link in unique_links:\n",
    "                        news_entry[\"links\"].append(link)\n",
    "                        unique_links[link] = link\n",
    "        \n",
    "        document_image_url = document_image_urls[document_index]\n",
    "        if re.match(\"https?://\", str(document_image_url)):\n",
    "            news_entry[\"image\"] = document_image_url\n",
    "        \n",
    "        if (not None is news_entry[\"title\"] \n",
    "            and not None is news_entry[\"source\"] \n",
    "            and 0 < len(news_entry[\"links\"]) \n",
    "            and not None is news_entry[\"image\"]):\n",
    "            news.append(news_entry)\n",
    "        document_index += 1\n",
    "    \n",
    "    return { \n",
    "        \"locations\": events[\"ActionGeo_FullName\"].values,\n",
    "        \"news\": news\n",
    "    }\n",
    "    \n",
    "def gdelt_result_tohtml(gdelt_result):\n",
    "    description = describe_gdelt_result(gdelt_result)\n",
    "    locations = description[\"locations\"]\n",
    "    html_news = \"\"\n",
    "    html_news += \"<p>Locations: \"\n",
    "    for location in locations:\n",
    "        html_news += \"{} \".format(location)\n",
    "    html_news += \"</p>\"\n",
    "    \n",
    "    news = description[\"news\"]\n",
    "    for news_entry in news:\n",
    "        html_news += \"<p><b>{}</b></p>\".format(news_entry[\"title\"])\n",
    "        html_news += \"<p>Source: {}</p>\".format(news_entry[\"source\"])\n",
    "        html_news += \"<p><img src='{}'/></p>\".format(news_entry[\"image\"])\n",
    "        html_news += \"<p>Links:\".format(news_entry[\"source\"])\n",
    "        html_news += \"<ul>\"\n",
    "        for link in news_entry[\"links\"]:\n",
    "            html_news += \"<li><a href='{0}'>{0}</a></li>\".format(link)\n",
    "        html_news += \"</ul></p>\"\n",
    "    return html_news"
   ]
  },
  {
   "cell_type": "code",
   "execution_count": 42,
   "metadata": {
    "scrolled": false
   },
   "outputs": [
    {
     "name": "stdout",
     "output_type": "stream",
     "text": [
      "66243    https://www.msn.com/en-us/news/world/un-team-m...\n",
      "Name: SOURCEURL, dtype: object\n",
      "183157    https://www.msn.com/en-us/news/world/un-team-m...\n",
      "187225    https://uk.reuters.com/article/uk-mali-securit...\n",
      "187226    https://www.reuters.com/article/us-mali-securi...\n",
      "191300    https://in.reuters.com/article/mali-security/u...\n",
      "195797    https://www.swissinfo.ch/eng/u-n--team-meets-d...\n",
      "200318    http://www.msn.com/en-nz/news/world/u-n-team-m...\n",
      "204416    https://af.reuters.com/article/worldNews/idAFK...\n",
      "204417    https://af.reuters.com/article/topNews/idAFKBN...\n",
      "217786    https://www.reuters.com/article/us-mali-securi...\n",
      "217787    https://uk.reuters.com/article/uk-mali-securit...\n",
      "233028    https://af.reuters.com/article/topNews/idAFKBN...\n",
      "233029    https://in.reuters.com/article/mali-security/m...\n",
      "321131    https://uk.reuters.com/article/uk-mali-securit...\n",
      "326615    https://in.reuters.com/article/mali-security/u...\n",
      "331787    https://www.msn.com/en-us/news/world/us-halts-...\n",
      "337548    https://www.reuters.com/article/us-mali-securi...\n",
      "348362    https://uk.news.yahoo.com/us-halts-military-ti...\n",
      "353656    https://www.swissinfo.ch/eng/u-s--halts-milita...\n",
      "Name: MentionIdentifier, dtype: object\n",
      "60715     <PAGE_TITLE>U.N. team meets detained Mali pres...\n",
      "61401     <PAGE_LINKS>http://thomsonreuters.com/en/about...\n",
      "62134     <PAGE_LINKS>http://thomsonreuters.com/en/about...\n",
      "63268     <PAGE_LINKS>http://thomsonreuters.com/en/about...\n",
      "66006     <PAGE_TITLE>U.N. team meets detained Mali pres...\n",
      "66408     <PAGE_TITLE>U.N. team meets detained Mali pres...\n",
      "69935     <PAGE_ALTURL_AMP>https://mobile.reuters.com/ar...\n",
      "70196     <PAGE_ALTURL_AMP>https://mobile.reuters.com/ar...\n",
      "75990     <PAGE_LINKS>http://thomsonreuters.com/en/about...\n",
      "76189     <PAGE_LINKS>http://thomsonreuters.com/en/about...\n",
      "76805     <PAGE_ALTURL_AMP>https://mobile.reuters.com/ar...\n",
      "77174     <PAGE_LINKS>http://thomsonreuters.com/en/about...\n",
      "111027    <PAGE_LINKS>http://thomsonreuters.com/en/about...\n",
      "112255    <PAGE_TITLE>U.S. halts military cooperation wi...\n",
      "116027    <PAGE_LINKS>http://thomsonreuters.com/en/about...\n",
      "119174    <PAGE_LINKS>http://thomsonreuters.com/en/about...\n",
      "123767    <PAGE_TITLE>U.S. halts military cooperation wi...\n",
      "125443    <PAGE_LINKS>http://www.france24.com/en/2020081...\n",
      "Name: Extras, dtype: object\n"
     ]
    }
   ],
   "source": [
    "trusted_sources = [\"bbc.co.uk\",\n",
    "                   \"cbsnews.com\",\n",
    "                   \"dailymail.co.uk\",\n",
    "                   \"latimes.com\",\n",
    "                   \"msn.com\",\n",
    "                   \"nytimes.com\",\n",
    "                   \"reuters.com\",\n",
    "                   \"sputniknews.com\",\n",
    "                   \"swissinfo.ch\",\n",
    "                   \"usatoday.com\",\n",
    "                   \"washingtonpost.com\",\n",
    "                   \"washingtontimes.com\",\n",
    "                   \"yahoo.com\"]\n",
    "themes = []\n",
    "yesterday = date.today()-timedelta(days=1)\n",
    "gdelt_result = query_complex(yesterday, max_count=1, full_day=True, trusted_sources=trusted_sources, themes=themes)\n",
    "describe_gdelt_result(gdelt_result)"
   ]
  },
  {
   "cell_type": "code",
   "execution_count": 121,
   "metadata": {},
   "outputs": [
    {
     "data": {
      "text/plain": [
       "array([['20200821104500-689', 20200821104500, 1, 'msn.com',\n",
       "        'https://www.msn.com/en-us/news/world/un-team-meets-detained-mali-president-as-coup-supporters-plan-to-rally/ar-BB18dT7o',\n",
       "        nan, nan,\n",
       "        'TAX_WORLDMAMMALS;TAX_WORLDMAMMALS_HUMAN;SELF_IDENTIFIED_HUMAN_RIGHTS;WB_2203_HUMAN_RIGHTS;WB_2432_FRAGILITY_CONFLICT_AND_VIOLENCE;UNGP_CRIME_VIOLENCE;TAX_FNCACT;TAX_FNCACT_OFFICIALS;TAX_ETHNICITY;TAX_ETHNICITY_MALI;LEADER;TAX_FNCACT_PRESIDENT;USPEC_POLITICS_GENERAL1;REBELLION;GENERAL_GOVERNMENT;RESIGNATION;ARREST;CRISISLEX_C07_SAFETY;CRISISLEX_CRISISLEXREC;INSURGENCY;WB_2433_CONFLICT_AND_VIOLENCE;WB_2464_INSURGENCY;WB_2462_POLITICAL_VIOLENCE_AND_WAR;TERROR;ARMEDCONFLICT;PEACEKEEPING;SECURITY_SERVICES;WB_2470_PEACE_OPERATIONS_AND_CONFLICT_MANAGEMENT;WB_2471_PEACEKEEPING;MEDIA_SOCIAL;ALLIANCE;TAX_FNCACT_LEADERS;ELECTION;EPU_CATS_MIGRATION_FEAR_FEAR;TAX_ETHNICITY_FRENCH;TAX_WORLDLANGUAGES;TAX_WORLDLANGUAGES_FRENCH;TAX_RELIGION;TAX_RELIGION_ISLAMIC;TAX_TERROR_GROUP;TAX_TERROR_GROUP_ISLAMIC_STATE;EPU_ECONOMY;EPU_ECONOMY_HISTORIC;CONSTITUTIONAL;EPU_POLICY;EPU_POLICY_GOVERNMENT;TAX_FNCACT_SPOKESMAN;CRISISLEX_C04_LOGISTICS_TRANSPORT;',\n",
       "        'EPU_POLICY_GOVERNMENT,1765;EPU_CATS_MIGRATION_FEAR_FEAR,1106;TAX_WORLDMAMMALS_HUMAN,36;TAX_WORLDMAMMALS_HUMAN,490;TAX_FNCACT_LEADERS,938;REBELLION,189;ELECTION,989;EPU_ECONOMY,1411;EPU_ECONOMY_HISTORIC,1411;CONSTITUTIONAL,1754;TERROR,477;TERROR,1279;ARMEDCONFLICT,477;ARMEDCONFLICT,1279;PEACEKEEPING,570;SECURITY_SERVICES,570;WB_2470_PEACE_OPERATIONS_AND_CONFLICT_MANAGEMENT,570;WB_2471_PEACEKEEPING,570;TAX_FNCACT_SPOKESMAN,1786;TAX_ETHNICITY_MALI,12;TAX_ETHNICITY_MALI,77;TAX_ETHNICITY_MALI,734;TAX_ETHNICITY_MALI,1251;TAX_ETHNICITY_MALI,1494;TAX_ETHNICITY_MALI,1887;INSURGENCY,455;WB_2433_CONFLICT_AND_VIOLENCE,455;WB_2464_INSURGENCY,455;WB_2462_POLITICAL_VIOLENCE_AND_WAR,455;TAX_ETHNICITY_FRENCH,1153;TAX_WORLDLANGUAGES_FRENCH,1153;TAX_RELIGION_ISLAMIC,1302;SELF_IDENTIFIED_HUMAN_RIGHTS,43;SELF_IDENTIFIED_HUMAN_RIGHTS,497;WB_2203_HUMAN_RIGHTS,43;WB_2203_HUMAN_RIGHTS,497;WB_2432_FRAGILITY_CONFLICT_AND_VIOLENCE,43;WB_2432_FRAGILITY_CONFLICT_AND_VIOLENCE,497;UNGP_CRIME_VIOLENCE,43;UNGP_CRIME_VIOLENCE,497;RESIGNATION,345;GENERAL_GOVERNMENT,329;CRISISLEX_CRISISLEXREC,401;MEDIA_SOCIAL,615;CRISISLEX_C04_LOGISTICS_TRANSPORT,1882;LEADER,94;LEADER,1626;LEADER,1706;TAX_FNCACT_PRESIDENT,94;TAX_FNCACT_PRESIDENT,1626;TAX_FNCACT_PRESIDENT,1706;USPEC_POLITICS_GENERAL1,94;USPEC_POLITICS_GENERAL1,1626;USPEC_POLITICS_GENERAL1,1706;TAX_TERROR_GROUP_ISLAMIC_STATE,1308;ARREST,366;CRISISLEX_C07_SAFETY,366;TAX_FNCACT_OFFICIALS,53;TAX_FNCACT_OFFICIALS,135;ALLIANCE,838;',\n",
       "        '1#Nigeria#NI#NI#10#8#NI;4#Bamako, Bamako, Mali#ML#ML01#12.65#-8#-1064708;1#Mali#ML#ML#17#-4#ML;4#Abuja, Abuja Federal Capital Territory, Nigeria#NI#NI11#9.08333#7.53333#-1997013;1#France#FR#FR#46#2#FR',\n",
       "        '1#Mali#ML#ML##17#-4#ML#12;1#Mali#ML#ML##17#-4#ML#77;1#Mali#ML#ML##17#-4#ML#734;1#Mali#ML#ML##17#-4#ML#1251;1#Mali#ML#ML##17#-4#ML#1494;1#Mali#ML#ML##17#-4#ML#1887;1#Nigerian#NI#NI##10#8#NI#1616;1#French#FR#FR##46#2#FR#1153;4#Abuja, Abuja Federal Capital Territory, Nigeria#NI#NI11#191147#9.08333#7.53333#-1997013#2046;4#Bamako, Bamako, Mali#ML#ML01#81878#12.65#-8#-1064708#6;4#Bamako, Bamako, Mali#ML#ML01#81878#12.65#-8#-1064708#728;4#Bamako, Bamako, Mali#ML#ML01#81878#12.65#-8#-1064708#1488',\n",
       "        'tiemoko diallo;toby chopra;alessandra prentice;ibrahim boubacar keita;aaron ross;goodluck jonathan;felix onuah',\n",
       "        'Tiemoko Diallo,1986;Toby Chopra,2113;Alessandra Prentice,2088;Ibrahim Boubacar Keita,117;Aaron Ross,1999;Goodluck Jonathan,1644;Felix Onuah,2037',\n",
       "        'twitter;economic community of west african states;reuters',\n",
       "        'Twitter,615;Economic Community Of West African States,1444;Reuters,23',\n",
       "        '-5.20231213872832,1.15606936416185,6.35838150289017,7.51445086705202,18.2080924855491,0,316',\n",
       "        '4#8#21#0#8;1#0#0#2012#1207',\n",
       "        'wc:316,c1.2:1,c1.3:1,c12.1:13,c12.10:21,c12.12:7,c12.13:4,c12.14:12,c12.3:5,c12.4:3,c12.5:6,c12.7:12,c12.8:5,c12.9:15,c13.10:1,c13.12:1,c13.4:1,c14.1:10,c14.10:14,c14.11:22,c14.2:12,c14.3:11,c14.4:1,c14.5:19,c14.7:3,c14.8:1,c14.9:3,c15.102:2,c15.111:1,c15.112:1,c15.121:1,c15.143:1,c15.148:2,c15.149:1,c15.153:1,c15.166:1,c15.197:1,c15.198:2,c15.204:1,c15.209:1,c15.22:1,c15.225:1,c15.226:1,c15.231:1,c15.233:2,c15.249:1,c15.25:1,c15.258:1,c15.261:1,c15.262:1,c15.42:1,c15.51:1,c15.62:1,c15.64:1,c15.7:1,c15.71:1,c15.86:1,c15.9:1,c16.100:7,c16.101:5,c16.103:2,c16.105:2,c16.106:9,c16.109:12,c16.11:3,c16.110:38,c16.111:2,c16.114:13,c16.115:1,c16.116:6,c16.117:11,c16.118:10,c16.12:19,c16.120:10,c16.121:29,c16.122:1,c16.124:1,c16.125:14,c16.126:11,c16.127:22,c16.128:3,c16.129:27,c16.130:2,c16.131:9,c16.133:1,c16.134:32,c16.138:10,c16.139:9,c16.14:1,c16.140:7,c16.145:14,c16.146:14,c16.151:1,c16.153:7,c16.156:1,c16.157:3,c16.159:23,c16.16:5,c16.161:18,c16.162:10,c16.163:14,c16.164:6,c16.165:1,c16.18:2,c16.19:4,c16.2:23,c16.20:1,c16.21:1,c16.22:2,c16.23:1,c16.24:2,c16.26:24,c16.27:1,c16.31:10,c16.32:2,c16.33:22,c16.35:11,c16.37:22,c16.38:2,c16.4:17,c16.41:9,c16.45:11,c16.46:1,c16.47:47,c16.52:21,c16.53:2,c16.54:2,c16.56:7,c16.57:164,c16.58:16,c16.6:20,c16.60:3,c16.62:9,c16.63:2,c16.64:1,c16.65:8,c16.66:1,c16.68:13,c16.69:9,c16.7:8,c16.70:19,c16.71:7,c16.72:4,c16.74:2,c16.75:12,c16.76:2,c16.78:12,c16.79:1,c16.82:3,c16.84:5,c16.86:2,c16.87:23,c16.88:26,c16.89:5,c16.90:6,c16.91:5,c16.92:19,c16.93:3,c16.94:16,c16.95:23,c16.96:4,c16.98:17,c16.99:2,c17.1:61,c17.10:18,c17.11:31,c17.12:9,c17.13:3,c17.14:4,c17.15:27,c17.16:16,c17.18:3,c17.19:11,c17.2:9,c17.20:2,c17.22:5,c17.23:4,c17.24:19,c17.25:8,c17.27:25,c17.28:1,c17.29:7,c17.3:2,c17.30:5,c17.31:11,c17.32:4,c17.33:11,c17.34:3,c17.35:2,c17.36:6,c17.37:4,c17.38:2,c17.39:9,c17.4:79,c17.40:2,c17.41:4,c17.42:15,c17.43:5,c17.5:51,c17.6:3,c17.7:22,c17.8:21,c17.9:2,c18.116:2,c18.138:1,c18.139:3,c18.14:1,c18.140:1,c18.141:1,c18.143:1,c18.179:1,c18.180:5,c18.193:7,c18.194:1,c18.201:1,c18.204:1,c18.342:3,c18.345:2,c18.35:3,c18.69:1,c18.71:1,c18.75:2,c18.76:2,c18.77:1,c2.1:10,c2.100:1,c2.101:3,c2.102:11,c2.103:6,c2.104:39,c2.106:6,c2.107:1,c2.108:3,c2.109:3,c2.11:3,c2.110:6,c2.112:1,c2.113:2,c2.114:11,c2.115:3,c2.116:8,c2.117:2,c2.119:77,c2.12:11,c2.120:3,c2.121:10,c2.122:6,c2.123:2,c2.125:16,c2.126:13,c2.127:27,c2.128:13,c2.129:35,c2.130:1,c2.132:6,c2.133:7,c2.134:1,c2.135:7,c2.136:3,c2.137:1,c2.139:1,c2.14:14,c2.140:1,c2.141:5,c2.142:3,c2.143:34,c2.144:7,c2.145:2,c2.146:5,c2.147:55,c2.148:17,c2.149:1,c2.15:9,c2.152:1,c2.153:3,c2.154:19,c2.155:24,c2.156:16,c2.157:17,c2.158:17,c2.159:1,c2.160:12,c2.162:4,c2.166:4,c2.168:1,c2.169:4,c2.170:5,c2.172:6,c2.173:3,c2.176:5,c2.177:15,c2.179:3,c2.18:9,c2.180:9,c2.181:9,c2.183:9,c2.185:46,c2.186:3,c2.187:18,c2.191:3,c2.192:5,c2.193:21,c2.194:1,c2.195:23,c2.196:6,c2.197:7,c2.198:40,c2.199:6,c2.200:2,c2.201:1,c2.203:6,c2.204:34,c2.205:1,c2.206:4,c2.209:6,c2.210:23,c2.211:1,c2.213:4,c2.214:6,c2.215:1,c2.216:1,c2.218:2,c2.220:3,c2.221:3,c2.223:3,c2.225:5,c2.226:2,c2.23:16,c2.25:13,c2.26:10,c2.27:10,c2.28:4,c2.30:12,c2.31:9,c2.32:3,c2.34:11,c2.35:7,c2.36:3,c2.37:3,c2.38:4,c2.39:45,c2.44:15,c2.45:23,c2.46:29,c2.47:2,c2.48:6,c2.5:2,c2.50:6,c2.52:18,c2.53:1,c2.54:20,c2.55:3,c2.57:2,c2.58:3,c2.6:2,c2.60:1,c2.61:2,c2.62:10,c2.64:8,c2.65:3,c2.66:2,c2.70:2,c2.71:1,c2.75:38,c2.76:202,c2.77:31,c2.78:29,c2.79:9,c2.8:1,c2.80:20,c2.81:2,c2.82:6,c2.83:4,c2.84:3,c2.86:7,c2.87:1,c2.88:5,c2.89:3,c2.9:6,c2.90:4,c2.93:3,c2.95:54,c2.97:4,c2.98:19,c2.99:1,c25.1:1,c25.3:3,c25.5:1,c25.7:1,c3.1:17,c3.2:15,c35.1:1,c35.11:2,c35.12:1,c35.13:1,c35.14:3,c35.15:4,c35.2:1,c35.20:14,c35.21:1,c35.22:1,c35.24:7,c35.3:1,c35.30:3,c35.31:9,c35.32:8,c35.33:26,c35.5:2,c35.9:1,c39.10:1,c39.12:3,c39.13:2,c39.14:2,c39.17:3,c39.18:1,c39.19:1,c39.2:12,c39.28:3,c39.29:1,c39.3:21,c39.30:1,c39.36:9,c39.37:17,c39.39:7,c39.4:24,c39.40:2,c39.41:6,c39.5:6,c39.9:7,c4.2:2,c4.23:9,c40.7:1,c40.8:2,c41.1:16,c42.1:100,c5.10:28,c5.11:6,c5.12:56,c5.16:1,c5.17:1,c5.19:5,c5.21:5,c5.22:1,c5.23:2,c5.24:4,c5.25:1,c5.27:2,c5.28:8,c5.29:2,c5.30:21,c5.31:2,c5.32:1,c5.33:2,c5.34:6,c5.35:7,c5.36:11,c5.37:2,c5.4:2,c5.40:18,c5.42:1,c5.43:2,c5.44:3,c5.45:4,c5.46:54,c5.47:7,c5.49:21,c5.50:28,c5.51:18,c5.52:31,c5.53:34,c5.54:10,c5.56:1,c5.6:10,c5.60:1,c5.61:11,c5.62:128,c5.7:10,c5.8:16,c5.9:21,c6.1:2,c6.3:1,c6.4:12,c6.5:2,c6.6:2,c7.1:12,c7.2:10,c8.1:1,c8.10:1,c8.14:1,c8.17:1,c8.2:3,c8.22:3,c8.23:15,c8.25:1,c8.28:2,c8.3:2,c8.37:3,c8.38:1,c8.39:2,c8.4:9,c8.40:2,c8.41:5,c8.42:11,c8.43:19,c8.8:1,c9.1:9,c9.10:2,c9.100:1,c9.1005:1,c9.101:1,c9.1011:3,c9.1012:1,c9.1018:2,c9.102:1,c9.1024:1,c9.1036:1,c9.1041:1,c9.109:5,c9.11:1,c9.111:4,c9.113:2,c9.117:1,c9.118:2,c9.119:6,c9.122:10,c9.123:5,c9.124:3,c9.125:3,c9.127:1,c9.128:19,c9.129:1,c9.13:1,c9.130:3,c9.132:1,c9.134:1,c9.138:5,c9.139:1,c9.14:2,c9.141:3,c9.142:2,c9.143:2,c9.145:2,c9.149:1,c9.15:1,c9.151:1,c9.152:1,c9.157:1,c9.158:5,c9.159:1,c9.162:4,c9.164:1,c9.165:2,c9.166:1,c9.167:1,c9.169:1,c9.170:1,c9.174:2,c9.175:1,c9.178:2,c9.181:2,c9.182:2,c9.183:1,c9.184:2,c9.187:2,c9.188:1,c9.190:2,c9.192:2,c9.193:1,c9.195:3,c9.197:1,c9.198:5,c9.20:2,c9.200:1,c9.201:1,c9.205:3,c9.207:1,c9.208:1,c9.209:1,c9.212:1,c9.215:1,c9.219:2,c9.221:1,c9.222:1,c9.223:2,c9.231:1,c9.233:3,c9.243:1,c9.244:2,c9.245:2,c9.246:2,c9.247:4,c9.256:1,c9.26:1,c9.27:2,c9.271:1,c9.275:2,c9.276:3,c9.28:1,c9.280:1,c9.282:1,c9.284:2,c9.288:5,c9.290:4,c9.291:3,c9.292:1,c9.294:1,c9.296:1,c9.3:9,c9.300:1,c9.302:4,c9.313:1,c9.318:1,c9.32:3,c9.325:1,c9.33:4,c9.331:1,c9.34:1,c9.343:1,c9.35:1,c9.351:2,c9.358:1,c9.37:2,c9.370:1,c9.371:1,c9.375:2,c9.382:3,c9.383:4,c9.384:1,c9.39:5,c9.4:2,c9.41:1,c9.415:2,c9.420:1,c9.421:1,c9.428:2,c9.429:1,c9.430:2,c9.433:1,c9.437:1,c9.44:1,c9.447:1,c9.46:1,c9.474:1,c9.478:1,c9.479:1,c9.48:1,c9.480:4,c9.488:1,c9.489:1,c9.491:3,c9.494:1,c9.496:1,c9.497:2,c9.498:4,c9.501:3,c9.511:2,c9.513:4,c9.519:5,c9.521:2,c9.522:1,c9.525:1,c9.53:2,c9.530:1,c9.537:3,c9.54:1,c9.548:1,c9.549:1,c9.55:1,c9.550:2,c9.551:4,c9.556:1,c9.557:3,c9.560:6,c9.561:1,c9.566:1,c9.567:1,c9.570:2,c9.576:1,c9.579:9,c9.580:2,c9.586:2,c9.587:1,c9.588:1,c9.589:1,c9.591:1,c9.594:1,c9.599:1,c9.603:1,c9.604:1,c9.606:1,c9.607:1,c9.609:1,c9.613:1,c9.615:1,c9.616:1,c9.618:1,c9.619:1,c9.62:1,c9.625:1,c9.631:1,c9.635:1,c9.638:1,c9.64:1,c9.640:1,c9.642:3,c9.643:1,c9.644:1,c9.648:3,c9.649:1,c9.650:2,c9.653:12,c9.654:5,c9.656:1,c9.66:7,c9.660:2,c9.665:1,c9.667:1,c9.668:3,c9.669:2,c9.67:2,c9.670:3,c9.671:3,c9.672:1,c9.673:1,c9.676:2,c9.677:1,c9.678:1,c9.682:1,c9.683:3,c9.686:2,c9.687:1,c9.688:2,c9.693:2,c9.7:2,c9.70:2,c9.701:3,c9.704:1,c9.708:4,c9.710:3,c9.712:2,c9.713:2,c9.717:1,c9.720:2,c9.721:1,c9.722:3,c9.723:3,c9.724:5,c9.726:11,c9.73:3,c9.730:10,c9.732:3,c9.734:1,c9.735:3,c9.736:3,c9.737:1,c9.738:1,c9.739:2,c9.740:3,c9.741:2,c9.745:2,c9.747:1,c9.748:3,c9.749:1,c9.750:2,c9.752:1,c9.753:1,c9.757:1,c9.759:1,c9.76:3,c9.760:1,c9.762:9,c9.765:1,c9.766:12,c9.767:16,c9.771:2,c9.773:1,c9.775:3,c9.778:1,c9.780:1,c9.785:4,c9.789:1,c9.790:1,c9.796:1,c9.798:2,c9.799:1,c9.8:8,c9.800:1,c9.801:1,c9.802:1,c9.808:4,c9.809:1,c9.812:4,c9.815:1,c9.816:1,c9.817:1,c9.822:2,c9.826:1,c9.83:5,c9.834:3,c9.837:1,c9.841:1,c9.846:3,c9.849:2,c9.851:1,c9.858:1,c9.860:1,c9.863:2,c9.864:9,c9.866:1,c9.867:1,c9.868:10,c9.869:1,c9.87:1,c9.874:1,c9.877:1,c9.879:1,c9.882:1,c9.894:1,c9.896:2,c9.898:1,c9.899:2,c9.90:2,c9.900:2,c9.908:2,c9.909:1,c9.911:1,c9.913:1,c9.917:1,c9.920:1,c9.921:1,c9.923:1,c9.924:1,c9.926:1,c9.930:2,c9.932:1,c9.933:1,c9.935:2,c9.946:1,c9.954:1,c9.955:1,c9.958:1,c9.96:1,c9.962:3,c9.964:1,c9.966:1,c9.968:1,c9.969:1,c9.971:1,c9.972:2,c9.977:1,c9.978:1,c9.98:1,c9.980:2,c9.981:1,c9.984:2,c9.986:1,v10.1:0.269099206349206,v10.2:0.272355248917749,v11.1:0.0373484223918575,v19.1:5.31636363636364,v19.2:5.29409090909091,v19.3:4.99545454545455,v19.4:5.48681818181818,v19.5:5.27181818181818,v19.6:5.46454545454545,v19.7:5.17045454545455,v19.8:5.365,v19.9:4.49863636363636,v20.1:0.281,v20.10:-0.7625,v20.11:0.5575,v20.12:-0.71,v20.13:0.393777777777778,v20.14:-0.5765,v20.15:0.308818181818182,v20.16:-0.5765,v20.2:-0.3,v20.3:0.313,v20.4:-0.3,v20.5:0.594,v20.6:-0.766666666666667,v20.7:0.594,v20.8:-0.7625,v20.9:0.576666666666667,v21.1:5.26661417322835,v26.1:-0.570588235294118,v42.10:-0.08853933628,v42.11:-0.06828028452,v42.2:0.10427416753,v42.3:0.1011901791,v42.4:0.10255824859,v42.5:0.11829165084,v42.6:0.07608392666,v42.7:-0.1241947689,v42.8:-0.0900491804699999,v42.9:-0.03301119471',\n",
       "        nan, nan, nan, nan, nan,\n",
       "        'President Ibrahim Boubacar Keita,124;West Africa,1204;Islamic State,1350;Economic Community,1465;West African States,1488;Nigerian President Goodluck Jonathan,1688;Tiemoko Diallo,2048;Aaron Ross,2063;Felix Onuah,2102;Alessandra Prentice,2145;Toby Chopra,2171',\n",
       "        nan, nan,\n",
       "        '<PAGE_TITLE>U.N. team meets detained Mali president as coup supporters plan to rally</PAGE_TITLE>'],\n",
       "       ['20200821110000-27', 20200821110000, 1, 'reuters.com',\n",
       "        'https://www.reuters.com/article/us-mali-security/u-n-team-meets-detained-mali-president-as-coup-supporters-plan-to-rally-idUSKBN25H190',\n",
       "        nan, nan,\n",
       "        'TAX_ETHNICITY;TAX_ETHNICITY_MALI;LEADER;TAX_FNCACT;TAX_FNCACT_PRESIDENT;USPEC_POLITICS_GENERAL1;TAX_ETHNICITY_MAURITANIA;TAX_WORLDMAMMALS;TAX_WORLDMAMMALS_HUMAN;SELF_IDENTIFIED_HUMAN_RIGHTS;WB_2203_HUMAN_RIGHTS;WB_2432_FRAGILITY_CONFLICT_AND_VIOLENCE;UNGP_CRIME_VIOLENCE;TAX_FNCACT_OFFICIALS;REBELLION;GENERAL_GOVERNMENT;RESIGNATION;ARREST;CRISISLEX_C07_SAFETY;CRISISLEX_CRISISLEXREC;INSURGENCY;WB_2433_CONFLICT_AND_VIOLENCE;WB_2464_INSURGENCY;WB_2462_POLITICAL_VIOLENCE_AND_WAR;TERROR;ARMEDCONFLICT;PEACEKEEPING;SECURITY_SERVICES;WB_2470_PEACE_OPERATIONS_AND_CONFLICT_MANAGEMENT;WB_2471_PEACEKEEPING;MEDIA_SOCIAL;ALLIANCE;TAX_FNCACT_LEADERS;ELECTION;EPU_CATS_MIGRATION_FEAR_FEAR;TAX_ETHNICITY_FRENCH;TAX_WORLDLANGUAGES;TAX_WORLDLANGUAGES_FRENCH;TAX_RELIGION;TAX_RELIGION_ISLAMIC;TAX_TERROR_GROUP;TAX_TERROR_GROUP_ISLAMIC_STATE;EPU_ECONOMY;EPU_ECONOMY_HISTORIC;CONSTITUTIONAL;EPU_POLICY;EPU_POLICY_GOVERNMENT;TAX_FNCACT_SPOKESMAN;CRISISLEX_C04_LOGISTICS_TRANSPORT;IDEOLOGY;',\n",
       "        'IDEOLOGY,2340;EPU_POLICY_GOVERNMENT,1935;EPU_CATS_MIGRATION_FEAR_FEAR,1276;TAX_WORLDMAMMALS_HUMAN,206;TAX_WORLDMAMMALS_HUMAN,660;TAX_FNCACT_LEADERS,1108;REBELLION,359;ELECTION,1159;EPU_ECONOMY,1581;EPU_ECONOMY_HISTORIC,1581;CONSTITUTIONAL,1924;TERROR,647;TERROR,1449;ARMEDCONFLICT,647;ARMEDCONFLICT,1449;PEACEKEEPING,740;SECURITY_SERVICES,740;WB_2470_PEACE_OPERATIONS_AND_CONFLICT_MANAGEMENT,740;WB_2471_PEACEKEEPING,740;TAX_FNCACT_SPOKESMAN,1956;TAX_ETHNICITY_MALI,17;TAX_ETHNICITY_MALI,185;TAX_ETHNICITY_MALI,247;TAX_ETHNICITY_MALI,904;TAX_ETHNICITY_MALI,1421;TAX_ETHNICITY_MALI,1664;TAX_ETHNICITY_MALI,2057;INSURGENCY,625;WB_2433_CONFLICT_AND_VIOLENCE,625;WB_2464_INSURGENCY,625;WB_2462_POLITICAL_VIOLENCE_AND_WAR,625;TAX_ETHNICITY_FRENCH,1323;TAX_WORLDLANGUAGES_FRENCH,1323;TAX_RELIGION_ISLAMIC,1472;SELF_IDENTIFIED_HUMAN_RIGHTS,213;SELF_IDENTIFIED_HUMAN_RIGHTS,667;WB_2203_HUMAN_RIGHTS,213;WB_2203_HUMAN_RIGHTS,667;WB_2432_FRAGILITY_CONFLICT_AND_VIOLENCE,213;WB_2432_FRAGILITY_CONFLICT_AND_VIOLENCE,667;UNGP_CRIME_VIOLENCE,213;UNGP_CRIME_VIOLENCE,667;RESIGNATION,515;GENERAL_GOVERNMENT,499;CRISISLEX_CRISISLEXREC,571;MEDIA_SOCIAL,785;CRISISLEX_C04_LOGISTICS_TRANSPORT,2052;LEADER,27;LEADER,264;LEADER,1796;LEADER,1876;TAX_FNCACT_PRESIDENT,27;TAX_FNCACT_PRESIDENT,264;TAX_FNCACT_PRESIDENT,1796;TAX_FNCACT_PRESIDENT,1876;USPEC_POLITICS_GENERAL1,27;USPEC_POLITICS_GENERAL1,264;USPEC_POLITICS_GENERAL1,1796;USPEC_POLITICS_GENERAL1,1876;TAX_TERROR_GROUP_ISLAMIC_STATE,1478;TAX_ETHNICITY_MAURITANIA,123;TAX_ETHNICITY_MAURITANIA,136;ARREST,536;CRISISLEX_C07_SAFETY,536;TAX_FNCACT_OFFICIALS,223;TAX_FNCACT_OFFICIALS,305;ALLIANCE,1008;',\n",
       "        '4#Nouakchott, Trarza, Mauritania#MR#MR06#18.1194#-16.0406#-1402901;1#Nigeria#NI#NI#10#8#NI;4#Bamako, Bamako, Mali#ML#ML01#12.65#-8#-1064708;1#Mali#ML#ML#17#-4#ML;4#Abuja, Abuja Federal Capital Territory, Nigeria#NI#NI11#9.08333#7.53333#-1997013;1#France#FR#FR#46#2#FR',\n",
       "        '1#Mali#ML#ML##17#-4#ML#17;1#Mali#ML#ML##17#-4#ML#185;1#Mali#ML#ML##17#-4#ML#247;1#Mali#ML#ML##17#-4#ML#904;1#Mali#ML#ML##17#-4#ML#1421;1#Mali#ML#ML##17#-4#ML#1664;1#Mali#ML#ML##17#-4#ML#2057;1#Nigerian#NI#NI##10#8#NI#1786;1#French#FR#FR##46#2#FR#1323;4#Nouakchott, Trarza, Mauritania#MR#MR06#19532#18.1194#-16.0406#-1402901#111;4#Abuja, Abuja Federal Capital Territory, Nigeria#NI#NI11#191147#9.08333#7.53333#-1997013#2218;4#Bamako, Bamako, Mali#ML#ML01#81878#12.65#-8#-1064708#179;4#Bamako, Bamako, Mali#ML#ML01#81878#12.65#-8#-1064708#898;4#Bamako, Bamako, Mali#ML#ML01#81878#12.65#-8#-1064708#1658',\n",
       "        'tiemoko diallo;toby chopra;alessandra prentice;ibrahim boubacar keita;aaron ross;goodluck jonathan;felix onuah',\n",
       "        'Tiemoko Diallo,2158;Toby Chopra,2285;Alessandra Prentice,2260;Ibrahim Boubacar Keita,50;Ibrahim Boubacar Keita,287;Aaron Ross,2171;Goodluck Jonathan,1814;Felix Onuah,2209',\n",
       "        'thomson reuters trust principles;twitter;economic community of west african states;reuters',\n",
       "        'Thomson Reuters Trust Principles,2340;Twitter,785;Economic Community Of West African States,1614;Reuters,170;Reuters,193;Reuters,2323',\n",
       "        '-4.4973544973545,1.32275132275132,5.82010582010582,7.14285714285714,17.7248677248677,0.264550264550265,349',\n",
       "        '1#0#0#2012#1370',\n",
       "        'wc:349,c1.2:1,c1.3:1,c12.1:14,c12.10:23,c12.12:7,c12.13:4,c12.14:14,c12.3:5,c12.4:3,c12.5:7,c12.7:12,c12.8:5,c12.9:17,c13.10:1,c13.12:1,c13.3:1,c13.4:1,c14.1:11,c14.10:14,c14.11:23,c14.2:12,c14.3:12,c14.4:1,c14.5:22,c14.7:3,c14.8:1,c14.9:3,c15.10:1,c15.102:2,c15.11:1,c15.111:1,c15.112:1,c15.121:1,c15.143:1,c15.148:2,c15.149:1,c15.153:1,c15.166:1,c15.197:1,c15.198:2,c15.204:1,c15.209:1,c15.22:1,c15.225:1,c15.226:1,c15.231:1,c15.233:2,c15.249:1,c15.25:1,c15.258:1,c15.261:1,c15.262:1,c15.42:1,c15.51:1,c15.62:1,c15.64:1,c15.7:1,c15.71:1,c15.86:1,c15.9:1,c16.100:7,c16.101:5,c16.103:2,c16.105:2,c16.106:10,c16.109:14,c16.11:3,c16.110:42,c16.111:2,c16.114:14,c16.115:4,c16.116:6,c16.117:12,c16.118:10,c16.12:21,c16.120:11,c16.121:30,c16.122:1,c16.124:1,c16.125:15,c16.126:12,c16.127:24,c16.128:3,c16.129:27,c16.13:1,c16.130:4,c16.131:10,c16.132:2,c16.133:1,c16.134:33,c16.138:10,c16.139:9,c16.14:1,c16.140:7,c16.145:17,c16.146:15,c16.150:1,c16.151:1,c16.153:10,c16.156:1,c16.157:3,c16.159:23,c16.16:5,c16.161:18,c16.162:11,c16.163:16,c16.164:7,c16.165:1,c16.18:2,c16.19:4,c16.2:26,c16.20:1,c16.21:2,c16.22:2,c16.23:1,c16.24:2,c16.26:25,c16.27:2,c16.31:11,c16.32:2,c16.33:22,c16.35:13,c16.37:24,c16.38:3,c16.4:17,c16.41:9,c16.45:12,c16.46:1,c16.47:51,c16.52:22,c16.53:2,c16.54:2,c16.56:7,c16.57:173,c16.58:16,c16.6:21,c16.60:3,c16.62:9,c16.63:2,c16.64:1,c16.65:9,c16.66:2,c16.68:13,c16.69:9,c16.7:8,c16.70:21,c16.71:8,c16.72:4,c16.74:2,c16.75:12,c16.76:2,c16.78:12,c16.79:1,c16.82:3,c16.84:7,c16.86:2,c16.87:25,c16.88:26,c16.89:6,c16.90:6,c16.91:5,c16.92:19,c16.93:3,c16.94:16,c16.95:24,c16.96:5,c16.98:18,c16.99:3,c17.1:64,c17.10:20,c17.11:33,c17.12:9,c17.13:3,c17.14:4,c17.15:31,c17.16:18,c17.18:5,c17.19:12,c17.2:9,c17.20:2,c17.22:7,c17.23:4,c17.24:20,c17.25:8,c17.27:28,c17.28:1,c17.29:7,c17.3:3,c17.30:5,c17.31:11,c17.32:5,c17.33:12,c17.34:4,c17.35:2,c17.36:7,c17.37:5,c17.38:3,c17.39:11,c17.4:81,c17.40:2,c17.41:6,c17.42:16,c17.43:5,c17.5:55,c17.6:3,c17.7:26,c17.8:22,c17.9:2,c18.116:2,c18.138:1,c18.139:4,c18.14:1,c18.140:1,c18.141:1,c18.143:1,c18.179:1,c18.180:9,c18.193:8,c18.194:1,c18.197:1,c18.201:1,c18.204:1,c18.342:3,c18.345:2,c18.35:3,c18.69:1,c18.71:1,c18.75:2,c18.76:2,c18.77:1,c2.1:10,c2.100:1,c2.101:3,c2.102:12,c2.103:6,c2.104:40,c2.106:8,c2.107:1,c2.108:3,c2.109:3,c2.11:3,c2.110:6,c2.112:1,c2.113:2,c2.114:11,c2.115:3,c2.116:8,c2.117:2,c2.119:86,c2.12:11,c2.120:3,c2.121:13,c2.122:6,c2.123:2,c2.124:1,c2.125:16,c2.126:13,c2.127:27,c2.128:17,c2.129:38,c2.130:1,c2.131:1,c2.132:7,c2.133:7,c2.134:1,c2.135:7,c2.136:3,c2.137:1,c2.139:1,c2.14:14,c2.140:1,c2.141:5,c2.142:3,c2.143:35,c2.144:7,c2.145:2,c2.146:5,c2.147:59,c2.148:18,c2.149:1,c2.15:12,c2.152:1,c2.153:3,c2.154:20,c2.155:26,c2.156:18,c2.157:18,c2.158:18,c2.159:1,c2.16:1,c2.160:12,c2.162:5,c2.163:1,c2.166:5,c2.168:1,c2.169:4,c2.17:1,c2.170:5,c2.172:6,c2.173:4,c2.176:5,c2.177:16,c2.179:3,c2.18:9,c2.180:9,c2.181:9,c2.183:9,c2.185:49,c2.186:3,c2.187:18,c2.191:3,c2.192:5,c2.193:23,c2.194:1,c2.195:25,c2.196:7,c2.197:7,c2.198:41,c2.199:7,c2.200:2,c2.201:1,c2.203:6,c2.204:35,c2.205:2,c2.206:4,c2.209:6,c2.210:23,c2.211:1,c2.213:4,c2.214:7,c2.215:1,c2.216:1,c2.218:2,c2.220:3,c2.221:4,c2.222:1,c2.223:4,c2.225:5,c2.226:3,c2.23:17,c2.25:15,c2.26:11,c2.27:11,c2.28:4,c2.30:12,c2.31:11,c2.32:3,c2.34:11,c2.35:7,c2.36:3,c2.37:3,c2.38:4,c2.39:49,c2.4:1,c2.44:15,c2.45:26,c2.46:29,c2.47:3,c2.48:6,c2.5:2,c2.50:6,c2.52:18,c2.53:1,c2.54:20,c2.55:3,c2.57:2,c2.58:4,c2.6:3,c2.60:1,c2.61:2,c2.62:12,c2.64:8,c2.65:3,c2.66:2,c2.70:2,c2.71:1,c2.73:1,c2.75:39,c2.76:216,c2.77:33,c2.78:29,c2.79:9,c2.8:1,c2.80:23,c2.81:2,c2.82:6,c2.83:4,c2.84:3,c2.86:7,c2.87:1,c2.88:5,c2.89:4,c2.9:6,c2.90:4,c2.93:3,c2.95:56,c2.97:4,c2.98:21,c2.99:1,c25.1:1,c25.11:1,c25.3:3,c25.5:1,c25.7:1,c3.1:17,c3.2:17,c35.1:1,c35.11:2,c35.12:1,c35.13:1,c35.14:3,c35.15:7,c35.2:1,c35.20:15,c35.21:1,c35.22:1,c35.24:7,c35.3:1,c35.30:3,c35.31:9,c35.32:11,c35.33:27,c35.5:2,c35.9:1,c39.1:1,c39.10:1,c39.12:3,c39.13:2,c39.14:2,c39.17:3,c39.18:1,c39.19:1,c39.2:13,c39.28:3,c39.29:1,c39.3:22,c39.30:1,c39.36:10,c39.37:17,c39.39:7,c39.4:25,c39.40:2,c39.41:6,c39.5:6,c39.9:7,c4.2:2,c4.23:9,c40.3:1,c40.7:1,c40.8:3,c41.1:18,c42.1:107,c5.10:29,c5.11:6,c5.12:58,c5.16:1,c5.17:1,c5.19:5,c5.20:1,c5.21:6,c5.22:1,c5.23:2,c5.24:4,c5.25:1,c5.27:2,c5.28:8,c5.29:2,c5.30:21,c5.31:2,c5.32:1,c5.33:2,c5.34:6,c5.35:8,c5.36:12,c5.37:2,c5.4:2,c5.40:19,c5.42:1,c5.43:2,c5.44:3,c5.45:4,c5.46:57,c5.47:7,c5.49:21,c5.50:28,c5.51:18,c5.52:31,c5.53:37,c5.54:10,c5.56:1,c5.58:1,c5.6:11,c5.60:2,c5.61:12,c5.62:135,c5.7:11,c5.8:17,c5.9:22,c6.1:2,c6.3:1,c6.4:13,c6.5:2,c6.6:2,c7.1:12,c7.2:12,c8.1:1,c8.10:1,c8.14:1,c8.17:2,c8.18:1,c8.2:3,c8.22:3,c8.23:15,c8.25:1,c8.28:2,c8.3:2,c8.36:1,c8.37:3,c8.38:1,c8.39:3,c8.4:9,c8.40:3,c8.41:5,c8.42:11,c8.43:20,c8.5:1,c8.8:1,c9.1:9,c9.10:2,c9.100:1,c9.1005:1,c9.101:1,c9.1011:3,c9.1012:1,c9.1018:2,c9.102:1,c9.1024:1,c9.1036:1,c9.1041:1,c9.109:5,c9.11:1,c9.111:5,c9.113:2,c9.117:1,c9.118:2,c9.119:6,c9.122:10,c9.123:5,c9.124:3,c9.125:3,c9.127:1,c9.128:19,c9.129:1,c9.13:1,c9.130:3,c9.132:1,c9.134:1,c9.138:5,c9.139:1,c9.14:2,c9.141:3,c9.142:2,c9.143:2,c9.145:2,c9.149:1,c9.15:1,c9.151:1,c9.152:1,c9.157:1,c9.158:5,c9.159:1,c9.162:5,c9.164:1,c9.165:2,c9.166:1,c9.167:1,c9.169:1,c9.170:1,c9.174:2,c9.175:1,c9.178:2,c9.181:2,c9.182:2,c9.183:1,c9.184:3,c9.187:2,c9.188:1,c9.190:2,c9.192:2,c9.193:1,c9.195:3,c9.197:1,c9.198:5,c9.20:2,c9.200:1,c9.201:1,c9.204:1,c9.205:3,c9.207:1,c9.208:1,c9.209:1,c9.212:1,c9.215:2,c9.219:3,c9.221:1,c9.222:1,c9.223:2,c9.23:2,c9.231:1,c9.233:3,c9.243:1,c9.244:2,c9.245:2,c9.246:2,c9.247:4,c9.256:1,c9.26:1,c9.265:1,c9.27:2,c9.271:1,c9.275:2,c9.276:4,c9.28:1,c9.280:1,c9.282:1,c9.284:2,c9.288:6,c9.290:4,c9.291:3,c9.292:1,c9.294:1,c9.296:1,c9.3:9,c9.300:1,c9.302:4,c9.313:1,c9.318:1,c9.32:3,c9.325:1,c9.33:4,c9.331:1,c9.34:1,c9.340:1,c9.341:1,c9.343:1,c9.35:2,c9.351:2,c9.353:1,c9.358:1,c9.37:2,c9.370:1,c9.371:1,c9.375:2,c9.382:3,c9.383:4,c9.384:1,c9.39:5,c9.4:2,c9.40:1,c9.41:1,c9.415:2,c9.420:1,c9.421:1,c9.428:2,c9.429:1,c9.430:2,c9.433:1,c9.437:1,c9.44:1,c9.447:1,c9.46:1,c9.466:1,c9.474:1,c9.478:1,c9.479:2,c9.48:1,c9.480:4,c9.488:1,c9.489:1,c9.491:3,c9.494:1,c9.496:1,c9.497:2,c9.498:5,c9.501:3,c9.507:1,c9.511:2,c9.513:4,c9.519:5,c9.521:2,c9.522:1,c9.525:1,c9.53:2,c9.530:2,c9.537:3,c9.539:1,c9.54:1,c9.548:1,c9.549:1,c9.55:1,c9.550:2,c9.551:4,c9.556:1,c9.557:5,c9.560:6,c9.561:1,c9.566:1,c9.567:1,c9.570:2,c9.576:2,c9.579:11,c9.580:2,c9.581:1,c9.586:2,c9.587:1,c9.588:1,c9.589:1,c9.591:1,c9.594:1,c9.599:1,c9.603:1,c9.604:1,c9.606:1,c9.607:1,c9.609:1,c9.613:1,c9.615:1,c9.616:1,c9.618:1,c9.619:2,c9.62:1,c9.625:1,c9.631:1,c9.635:1,c9.638:1,c9.64:2,c9.640:1,c9.642:4,c9.643:1,c9.644:1,c9.648:4,c9.649:1,c9.650:2,c9.653:12,c9.654:5,c9.655:1,c9.656:1,c9.66:7,c9.660:2,c9.664:1,c9.665:1,c9.667:1,c9.668:3,c9.669:2,c9.67:2,c9.670:3,c9.671:3,c9.672:1,c9.673:1,c9.676:2,c9.677:1,c9.678:2,c9.682:1,c9.683:3,c9.686:2,c9.687:1,c9.688:2,c9.693:2,c9.7:2,c9.70:2,c9.701:4,c9.704:2,c9.708:4,c9.710:3,c9.712:2,c9.713:2,c9.717:1,c9.720:2,c9.721:1,c9.722:4,c9.723:4,c9.724:5,c9.726:11,c9.73:4,c9.730:10,c9.732:3,c9.734:1,c9.735:3,c9.736:3,c9.737:2,c9.738:1,c9.739:2,c9.740:4,c9.741:2,c9.745:2,c9.747:1,c9.748:4,c9.749:1,c9.750:2,c9.752:1,c9.753:1,c9.754:1,c9.757:1,c9.759:1,c9.76:3,c9.760:1,c9.762:9,c9.765:1,c9.766:13,c9.767:16,c9.771:2,c9.773:1,c9.775:4,c9.778:1,c9.780:1,c9.785:4,c9.789:1,c9.790:1,c9.796:1,c9.798:2,c9.799:1,c9.8:8,c9.800:1,c9.801:1,c9.802:1,c9.806:1,c9.808:4,c9.809:1,c9.811:1,c9.812:5,c9.815:1,c9.816:1,c9.817:1,c9.822:2,c9.826:1,c9.83:5,c9.834:3,c9.837:1,c9.839:1,c9.841:1,c9.846:3,c9.849:2,c9.851:1,c9.858:1,c9.860:2,c9.863:2,c9.864:9,c9.866:1,c9.867:1,c9.868:10,c9.869:1,c9.87:1,c9.874:1,c9.877:2,c9.879:1,c9.882:1,c9.894:1,c9.896:3,c9.898:1,c9.899:2,c9.90:3,c9.900:2,c9.908:2,c9.909:1,c9.911:1,c9.913:1,c9.917:1,c9.920:1,c9.921:1,c9.923:1,c9.924:1,c9.926:1,c9.930:2,c9.932:1,c9.933:1,c9.935:3,c9.946:1,c9.954:1,c9.955:1,c9.958:1,c9.96:1,c9.962:3,c9.964:1,c9.966:1,c9.968:1,c9.969:1,c9.971:1,c9.972:2,c9.977:1,c9.978:2,c9.98:1,c9.980:3,c9.981:1,c9.984:2,c9.986:1,v10.1:0.276043550331525,v10.2:0.265344634230504,v11.1:0.0477268225419664,v19.1:5.51192307692308,v19.2:5.34346153846154,v19.3:5.11192307692308,v19.4:5.60730769230769,v19.5:5.31384615384616,v19.6:5.50961538461539,v19.7:5.42153846153846,v19.8:5.41461538461538,v19.9:4.67538461538461,v20.1:0.281,v20.10:-0.7625,v20.11:0.5575,v20.12:-0.71,v20.13:0.393777777777778,v20.14:-0.5765,v20.15:0.308818181818182,v20.16:-0.5765,v20.2:-0.3,v20.3:0.313,v20.4:-0.3,v20.5:0.594,v20.6:-0.766666666666667,v20.7:0.594,v20.8:-0.7625,v20.9:0.576666666666667,v21.1:5.29750915750916,v26.1:-0.411111111111111,v42.10:-0.0832775793084112,v42.11:-0.0619710216635514,v42.2:0.102529040757009,v42.3:0.100709345906542,v42.4:0.101334172242991,v42.5:0.119369885140187,v42.6:0.0772505002897196,v42.7:-0.11282450628972,v42.8:-0.0728057655140187,v42.9:-0.0249293173738318',\n",
       "        'https://s2.reutersmedia.net/resources/r/?m=02&d=20200821&t=2&i=1530485786&r=LYNXMPEG7K0TC',\n",
       "        nan, nan,\n",
       "        'https://youtube.com/user/ReutersVideo;https://youtube.com/iframe_api;',\n",
       "        nan,\n",
       "        'Mali President Ibrahim Boubacar Keita,45;Mauritania June,128;President Ibrahim Boubacar Keita,280;West Africa,1368;Islamic State,1515;Economic Community,1633;West African States,1656;Nigerian President Goodluck Jonathan,1857;Tiemoko Diallo,2217;Aaron Ross,2232;Felix Onuah,2271;Alessandra Prentice,2314;Thomson Reuters Trust,2383',\n",
       "        nan, nan,\n",
       "        '<PAGE_LINKS>http://thomsonreuters.com/en/about-us/trust-principles.html</PAGE_LINKS><PAGE_ALTURL_AMP>https://mobile.reuters.com/article/amp/idUSKBN25H190</PAGE_ALTURL_AMP><PAGE_TITLE>U.N. team meets detained Mali president as coup supporters plan to rally</PAGE_TITLE>'],\n",
       "       ['20200821110000-760', 20200821110000, 1, 'reuters.com',\n",
       "        'https://uk.reuters.com/article/uk-mali-security/u-n-team-meets-detained-mali-president-as-coup-supporters-plan-to-rally-idUKKBN25H19P',\n",
       "        nan, nan,\n",
       "        'TAX_ETHNICITY;TAX_ETHNICITY_MALI;LEADER;TAX_FNCACT;TAX_FNCACT_PRESIDENT;USPEC_POLITICS_GENERAL1;TAX_ETHNICITY_MAURITANIA;TAX_WORLDMAMMALS;TAX_WORLDMAMMALS_HUMAN;SELF_IDENTIFIED_HUMAN_RIGHTS;WB_2203_HUMAN_RIGHTS;WB_2432_FRAGILITY_CONFLICT_AND_VIOLENCE;UNGP_CRIME_VIOLENCE;TAX_FNCACT_OFFICIALS;REBELLION;GENERAL_GOVERNMENT;RESIGNATION;ARREST;CRISISLEX_C07_SAFETY;CRISISLEX_CRISISLEXREC;INSURGENCY;WB_2433_CONFLICT_AND_VIOLENCE;WB_2464_INSURGENCY;WB_2462_POLITICAL_VIOLENCE_AND_WAR;TERROR;ARMEDCONFLICT;PEACEKEEPING;SECURITY_SERVICES;WB_2470_PEACE_OPERATIONS_AND_CONFLICT_MANAGEMENT;WB_2471_PEACEKEEPING;MEDIA_SOCIAL;ALLIANCE;TAX_FNCACT_LEADERS;ELECTION;EPU_CATS_MIGRATION_FEAR_FEAR;TAX_ETHNICITY_FRENCH;TAX_WORLDLANGUAGES;TAX_WORLDLANGUAGES_FRENCH;TAX_RELIGION;TAX_RELIGION_ISLAMIC;TAX_TERROR_GROUP;TAX_TERROR_GROUP_ISLAMIC_STATE;EPU_ECONOMY;EPU_ECONOMY_HISTORIC;CONSTITUTIONAL;EPU_POLICY;EPU_POLICY_GOVERNMENT;TAX_FNCACT_SPOKESMAN;CRISISLEX_C04_LOGISTICS_TRANSPORT;IDEOLOGY;',\n",
       "        'IDEOLOGY,2351;EPU_POLICY_GOVERNMENT,1946;EPU_CATS_MIGRATION_FEAR_FEAR,1287;TAX_WORLDMAMMALS_HUMAN,217;TAX_WORLDMAMMALS_HUMAN,671;TAX_FNCACT_LEADERS,1119;REBELLION,370;ELECTION,1170;EPU_ECONOMY,1592;EPU_ECONOMY_HISTORIC,1592;CONSTITUTIONAL,1935;TERROR,658;TERROR,1460;ARMEDCONFLICT,658;ARMEDCONFLICT,1460;PEACEKEEPING,751;SECURITY_SERVICES,751;WB_2470_PEACE_OPERATIONS_AND_CONFLICT_MANAGEMENT,751;WB_2471_PEACEKEEPING,751;TAX_FNCACT_SPOKESMAN,1967;TAX_ETHNICITY_MALI,17;TAX_ETHNICITY_MALI,196;TAX_ETHNICITY_MALI,258;TAX_ETHNICITY_MALI,915;TAX_ETHNICITY_MALI,1432;TAX_ETHNICITY_MALI,1675;TAX_ETHNICITY_MALI,2068;INSURGENCY,636;WB_2433_CONFLICT_AND_VIOLENCE,636;WB_2464_INSURGENCY,636;WB_2462_POLITICAL_VIOLENCE_AND_WAR,636;TAX_ETHNICITY_FRENCH,1334;TAX_WORLDLANGUAGES_FRENCH,1334;TAX_RELIGION_ISLAMIC,1483;SELF_IDENTIFIED_HUMAN_RIGHTS,224;SELF_IDENTIFIED_HUMAN_RIGHTS,678;WB_2203_HUMAN_RIGHTS,224;WB_2203_HUMAN_RIGHTS,678;WB_2432_FRAGILITY_CONFLICT_AND_VIOLENCE,224;WB_2432_FRAGILITY_CONFLICT_AND_VIOLENCE,678;UNGP_CRIME_VIOLENCE,224;UNGP_CRIME_VIOLENCE,678;RESIGNATION,526;GENERAL_GOVERNMENT,510;CRISISLEX_CRISISLEXREC,582;MEDIA_SOCIAL,796;CRISISLEX_C04_LOGISTICS_TRANSPORT,2063;LEADER,27;LEADER,275;LEADER,1807;LEADER,1887;TAX_FNCACT_PRESIDENT,27;TAX_FNCACT_PRESIDENT,275;TAX_FNCACT_PRESIDENT,1807;TAX_FNCACT_PRESIDENT,1887;USPEC_POLITICS_GENERAL1,27;USPEC_POLITICS_GENERAL1,275;USPEC_POLITICS_GENERAL1,1807;USPEC_POLITICS_GENERAL1,1887;TAX_TERROR_GROUP_ISLAMIC_STATE,1489;TAX_ETHNICITY_MAURITANIA,123;TAX_ETHNICITY_MAURITANIA,136;ARREST,547;CRISISLEX_C07_SAFETY,547;TAX_FNCACT_OFFICIALS,234;TAX_FNCACT_OFFICIALS,316;ALLIANCE,1019;',\n",
       "        '4#Nouakchott, Trarza, Mauritania#MR#MR06#18.1194#-16.0406#-1402901;1#Nigeria#NI#NI#10#8#NI;4#Bamako, Bamako, Mali#ML#ML01#12.65#-8#-1064708;1#Mali#ML#ML#17#-4#ML;4#Abuja, Abuja Federal Capital Territory, Nigeria#NI#NI11#9.08333#7.53333#-1997013;1#France#FR#FR#46#2#FR',\n",
       "        '1#Mali#ML#ML##17#-4#ML#17;1#Mali#ML#ML##17#-4#ML#196;1#Mali#ML#ML##17#-4#ML#258;1#Mali#ML#ML##17#-4#ML#915;1#Mali#ML#ML##17#-4#ML#1432;1#Mali#ML#ML##17#-4#ML#1675;1#Mali#ML#ML##17#-4#ML#2068;1#Nigerian#NI#NI##10#8#NI#1797;1#French#FR#FR##46#2#FR#1334;4#Nouakchott, Trarza, Mauritania#MR#MR06#19532#18.1194#-16.0406#-1402901#111;4#Abuja, Abuja Federal Capital Territory, Nigeria#NI#NI11#191147#9.08333#7.53333#-1997013#2229;4#Bamako, Bamako, Mali#ML#ML01#81878#12.65#-8#-1064708#190;4#Bamako, Bamako, Mali#ML#ML01#81878#12.65#-8#-1064708#909;4#Bamako, Bamako, Mali#ML#ML01#81878#12.65#-8#-1064708#1669',\n",
       "        'tiemoko diallo;toby chopra;alessandra prentice;ibrahim boubacar keita;aaron ross;goodluck jonathan;felix onuah',\n",
       "        'Tiemoko Diallo,2169;Toby Chopra,2296;Alessandra Prentice,2271;Ibrahim Boubacar Keita,50;Ibrahim Boubacar Keita,298;Aaron Ross,2182;Goodluck Jonathan,1825;Felix Onuah,2220',\n",
       "        'thomson reuters trust principles;twitter;economic community of west african states;reuters',\n",
       "        'Thomson Reuters Trust Principles,2351;Twitter,796;Economic Community Of West African States,1625;Reuters,170;Reuters,204;Reuters,2334',\n",
       "        '-4.47368421052632,1.31578947368421,5.78947368421053,7.10526315789474,17.8947368421053,0.263157894736842,351',\n",
       "        '1#0#0#2012#1381',\n",
       "        'wc:351,c1.2:1,c1.3:1,c12.1:14,c12.10:23,c12.12:7,c12.13:4,c12.14:14,c12.3:5,c12.4:3,c12.5:7,c12.7:12,c12.8:5,c12.9:17,c13.10:1,c13.12:1,c13.3:1,c13.4:1,c14.1:11,c14.10:14,c14.11:23,c14.2:12,c14.3:12,c14.4:1,c14.5:23,c14.7:3,c14.8:1,c14.9:3,c15.10:1,c15.102:2,c15.11:1,c15.111:1,c15.112:1,c15.121:1,c15.143:1,c15.148:2,c15.149:1,c15.153:1,c15.166:1,c15.197:1,c15.198:2,c15.204:1,c15.209:1,c15.22:1,c15.225:1,c15.226:1,c15.231:1,c15.233:2,c15.249:1,c15.25:1,c15.258:1,c15.261:1,c15.262:1,c15.42:1,c15.51:1,c15.62:1,c15.64:1,c15.7:1,c15.71:1,c15.86:1,c15.9:1,c16.100:7,c16.101:5,c16.103:2,c16.105:2,c16.106:10,c16.109:14,c16.11:3,c16.110:43,c16.111:2,c16.114:14,c16.115:5,c16.116:6,c16.117:12,c16.118:10,c16.12:21,c16.120:11,c16.121:30,c16.122:1,c16.124:1,c16.125:15,c16.126:12,c16.127:25,c16.128:3,c16.129:27,c16.13:2,c16.130:5,c16.131:10,c16.132:3,c16.133:1,c16.134:33,c16.138:10,c16.139:9,c16.14:1,c16.140:7,c16.145:18,c16.146:15,c16.150:1,c16.151:1,c16.153:12,c16.156:1,c16.157:3,c16.159:23,c16.16:5,c16.161:18,c16.162:11,c16.163:17,c16.164:7,c16.165:1,c16.18:2,c16.19:4,c16.2:27,c16.20:1,c16.21:2,c16.22:2,c16.23:1,c16.24:2,c16.26:25,c16.27:3,c16.31:12,c16.32:2,c16.33:22,c16.35:14,c16.37:24,c16.38:4,c16.4:17,c16.41:9,c16.45:12,c16.46:1,c16.47:52,c16.52:22,c16.53:2,c16.54:2,c16.56:7,c16.57:175,c16.58:16,c16.6:21,c16.60:3,c16.62:9,c16.63:2,c16.64:1,c16.65:9,c16.66:3,c16.68:13,c16.69:9,c16.7:8,c16.70:21,c16.71:8,c16.72:4,c16.74:2,c16.75:12,c16.76:2,c16.78:12,c16.79:1,c16.82:3,c16.84:8,c16.86:2,c16.87:26,c16.88:26,c16.89:6,c16.90:6,c16.91:5,c16.92:19,c16.93:3,c16.94:16,c16.95:25,c16.96:5,c16.98:18,c16.99:3,c17.1:64,c17.10:20,c17.11:34,c17.12:9,c17.13:3,c17.14:4,c17.15:32,c17.16:18,c17.18:6,c17.19:12,c17.2:9,c17.20:2,c17.22:7,c17.23:4,c17.24:20,c17.25:8,c17.27:28,c17.28:1,c17.29:7,c17.3:3,c17.30:5,c17.31:11,c17.32:5,c17.33:13,c17.34:4,c17.35:2,c17.36:8,c17.37:5,c17.38:3,c17.39:12,c17.4:81,c17.40:2,c17.41:6,c17.42:16,c17.43:5,c17.5:56,c17.6:3,c17.7:28,c17.8:22,c17.9:2,c18.116:2,c18.138:1,c18.139:4,c18.14:1,c18.140:1,c18.141:1,c18.143:1,c18.179:1,c18.180:9,c18.193:8,c18.194:1,c18.197:1,c18.201:1,c18.204:1,c18.342:3,c18.345:2,c18.35:3,c18.69:1,c18.71:1,c18.75:2,c18.76:2,c18.77:1,c2.1:10,c2.100:1,c2.101:3,c2.102:12,c2.103:6,c2.104:40,c2.106:8,c2.107:1,c2.108:3,c2.109:3,c2.11:3,c2.110:6,c2.112:1,c2.113:2,c2.114:11,c2.115:3,c2.116:8,c2.117:2,c2.119:88,c2.12:11,c2.120:3,c2.121:15,c2.122:6,c2.123:2,c2.124:1,c2.125:16,c2.126:13,c2.127:27,c2.128:17,c2.129:38,c2.130:1,c2.131:1,c2.132:7,c2.133:7,c2.134:1,c2.135:7,c2.136:3,c2.137:1,c2.139:1,c2.14:14,c2.140:1,c2.141:5,c2.142:3,c2.143:35,c2.144:7,c2.145:2,c2.146:5,c2.147:59,c2.148:18,c2.149:1,c2.15:12,c2.152:1,c2.153:3,c2.154:20,c2.155:26,c2.156:18,c2.157:18,c2.158:18,c2.159:1,c2.16:1,c2.160:12,c2.162:5,c2.163:1,c2.166:5,c2.168:1,c2.169:4,c2.17:1,c2.170:5,c2.172:6,c2.173:4,c2.176:5,c2.177:16,c2.179:3,c2.18:9,c2.180:9,c2.181:9,c2.183:9,c2.185:50,c2.186:3,c2.187:18,c2.191:3,c2.192:5,c2.193:23,c2.194:1,c2.195:25,c2.196:7,c2.197:7,c2.198:41,c2.199:7,c2.200:2,c2.201:1,c2.203:6,c2.204:35,c2.205:3,c2.206:4,c2.209:6,c2.210:23,c2.211:1,c2.213:4,c2.214:7,c2.215:1,c2.216:1,c2.218:2,c2.220:3,c2.221:4,c2.222:1,c2.223:4,c2.225:5,c2.226:4,c2.23:17,c2.25:16,c2.26:11,c2.27:11,c2.28:4,c2.30:12,c2.31:12,c2.32:3,c2.34:11,c2.35:7,c2.36:3,c2.37:3,c2.38:4,c2.39:49,c2.4:1,c2.44:15,c2.45:26,c2.46:29,c2.47:3,c2.48:6,c2.5:2,c2.50:6,c2.52:18,c2.53:1,c2.54:20,c2.55:3,c2.57:2,c2.58:4,c2.6:3,c2.60:1,c2.61:2,c2.62:12,c2.64:8,c2.65:3,c2.66:2,c2.70:2,c2.71:1,c2.73:1,c2.75:39,c2.76:218,c2.77:33,c2.78:29,c2.79:9,c2.8:1,c2.80:24,c2.81:2,c2.82:6,c2.83:4,c2.84:3,c2.86:7,c2.87:1,c2.88:5,c2.89:4,c2.9:6,c2.90:4,c2.93:3,c2.95:56,c2.97:4,c2.98:21,c2.99:1,c25.1:1,c25.11:1,c25.3:3,c25.5:1,c25.7:1,c3.1:17,c3.2:17,c35.1:1,c35.11:2,c35.12:1,c35.13:1,c35.14:3,c35.15:7,c35.2:1,c35.20:15,c35.21:1,c35.22:1,c35.24:7,c35.3:1,c35.30:3,c35.31:9,c35.32:11,c35.33:27,c35.5:2,c35.9:1,c39.1:1,c39.10:1,c39.12:3,c39.13:2,c39.14:2,c39.17:3,c39.18:1,c39.19:1,c39.2:13,c39.28:3,c39.29:1,c39.3:22,c39.30:1,c39.36:10,c39.37:17,c39.39:7,c39.4:25,c39.40:2,c39.41:6,c39.5:6,c39.9:7,c4.2:2,c4.23:9,c40.3:1,c40.7:1,c40.8:3,c41.1:18,c42.1:109,c5.10:29,c5.11:6,c5.12:58,c5.16:1,c5.17:1,c5.19:5,c5.20:1,c5.21:6,c5.22:1,c5.23:2,c5.24:4,c5.25:1,c5.27:2,c5.28:8,c5.29:2,c5.30:21,c5.31:2,c5.32:1,c5.33:2,c5.34:6,c5.35:8,c5.36:12,c5.37:2,c5.4:2,c5.40:19,c5.42:1,c5.43:2,c5.44:3,c5.45:4,c5.46:57,c5.47:7,c5.49:21,c5.50:28,c5.51:18,c5.52:31,c5.53:37,c5.54:10,c5.56:1,c5.58:1,c5.6:11,c5.60:2,c5.61:12,c5.62:135,c5.7:11,c5.8:17,c5.9:22,c6.1:2,c6.3:1,c6.4:13,c6.5:2,c6.6:2,c7.1:12,c7.2:12,c8.1:1,c8.10:1,c8.14:1,c8.17:2,c8.18:1,c8.2:3,c8.22:3,c8.23:15,c8.25:1,c8.28:2,c8.3:2,c8.36:1,c8.37:3,c8.38:1,c8.39:3,c8.4:9,c8.40:3,c8.41:5,c8.42:11,c8.43:20,c8.5:1,c8.8:1,c9.1:9,c9.10:2,c9.100:1,c9.1005:1,c9.101:1,c9.1011:3,c9.1012:1,c9.1018:2,c9.102:1,c9.1024:1,c9.1036:1,c9.1041:1,c9.109:5,c9.11:1,c9.111:5,c9.113:2,c9.117:1,c9.118:2,c9.119:6,c9.122:10,c9.123:5,c9.124:3,c9.125:3,c9.127:1,c9.128:19,c9.129:1,c9.13:1,c9.130:3,c9.132:1,c9.134:1,c9.138:5,c9.139:1,c9.14:2,c9.141:3,c9.142:2,c9.143:2,c9.145:2,c9.149:1,c9.15:1,c9.151:1,c9.152:1,c9.157:1,c9.158:5,c9.159:1,c9.162:5,c9.164:1,c9.165:2,c9.166:1,c9.167:1,c9.169:1,c9.170:1,c9.174:2,c9.175:1,c9.178:2,c9.181:2,c9.182:2,c9.183:1,c9.184:3,c9.187:2,c9.188:1,c9.190:2,c9.192:2,c9.193:1,c9.195:3,c9.197:1,c9.198:5,c9.20:2,c9.200:1,c9.201:1,c9.204:2,c9.205:3,c9.207:1,c9.208:1,c9.209:1,c9.212:1,c9.215:2,c9.219:3,c9.221:1,c9.222:1,c9.223:2,c9.23:3,c9.231:1,c9.233:3,c9.243:1,c9.244:2,c9.245:2,c9.246:2,c9.247:4,c9.256:1,c9.26:1,c9.265:2,c9.27:2,c9.271:1,c9.275:2,c9.276:5,c9.28:1,c9.280:1,c9.282:1,c9.284:2,c9.288:6,c9.290:4,c9.291:3,c9.292:1,c9.294:1,c9.296:1,c9.3:9,c9.300:1,c9.302:4,c9.313:1,c9.318:1,c9.32:3,c9.325:1,c9.33:4,c9.331:1,c9.34:1,c9.340:2,c9.341:2,c9.343:1,c9.35:2,c9.351:2,c9.353:1,c9.358:1,c9.37:2,c9.370:1,c9.371:1,c9.375:2,c9.382:3,c9.383:4,c9.384:1,c9.39:5,c9.4:2,c9.40:2,c9.41:1,c9.415:2,c9.420:1,c9.421:1,c9.428:2,c9.429:1,c9.430:2,c9.433:1,c9.437:1,c9.44:1,c9.447:1,c9.46:1,c9.466:1,c9.474:1,c9.478:1,c9.479:2,c9.48:1,c9.480:4,c9.488:1,c9.489:1,c9.491:3,c9.494:1,c9.496:1,c9.497:2,c9.498:5,c9.501:3,c9.507:1,c9.511:2,c9.513:4,c9.519:5,c9.521:2,c9.522:1,c9.525:1,c9.53:2,c9.530:2,c9.537:3,c9.539:1,c9.54:1,c9.548:1,c9.549:1,c9.55:1,c9.550:2,c9.551:4,c9.556:1,c9.557:5,c9.560:6,c9.561:1,c9.566:1,c9.567:1,c9.570:2,c9.576:3,c9.579:12,c9.580:2,c9.581:1,c9.586:2,c9.587:1,c9.588:1,c9.589:1,c9.591:1,c9.594:1,c9.599:1,c9.603:1,c9.604:1,c9.606:1,c9.607:1,c9.609:1,c9.613:1,c9.615:1,c9.616:1,c9.618:1,c9.619:2,c9.62:1,c9.625:1,c9.631:1,c9.635:1,c9.638:1,c9.64:3,c9.640:1,c9.642:4,c9.643:1,c9.644:1,c9.648:4,c9.649:1,c9.650:2,c9.653:12,c9.654:5,c9.655:1,c9.656:1,c9.66:7,c9.660:2,c9.664:2,c9.665:1,c9.667:1,c9.668:3,c9.669:2,c9.67:2,c9.670:3,c9.671:3,c9.672:1,c9.673:1,c9.676:2,c9.677:1,c9.678:2,c9.682:1,c9.683:3,c9.686:2,c9.687:1,c9.688:2,c9.693:2,c9.7:2,c9.70:2,c9.701:4,c9.704:2,c9.708:4,c9.710:3,c9.712:2,c9.713:2,c9.717:1,c9.720:2,c9.721:1,c9.722:4,c9.723:4,c9.724:5,c9.726:11,c9.73:5,c9.730:10,c9.732:3,c9.734:1,c9.735:3,c9.736:3,c9.737:2,c9.738:1,c9.739:2,c9.740:4,c9.741:2,c9.745:2,c9.747:1,c9.748:4,c9.749:1,c9.750:2,c9.752:1,c9.753:1,c9.754:2,c9.757:1,c9.759:1,c9.76:3,c9.760:1,c9.762:9,c9.765:1,c9.766:13,c9.767:16,c9.771:2,c9.773:1,c9.775:4,c9.778:1,c9.780:1,c9.785:4,c9.789:1,c9.790:1,c9.796:1,c9.798:2,c9.799:1,c9.8:8,c9.800:1,c9.801:1,c9.802:1,c9.806:1,c9.808:4,c9.809:1,c9.811:1,c9.812:5,c9.815:1,c9.816:1,c9.817:1,c9.822:2,c9.826:1,c9.83:5,c9.834:3,c9.837:1,c9.839:1,c9.841:1,c9.846:3,c9.849:2,c9.851:1,c9.858:1,c9.860:2,c9.863:2,c9.864:9,c9.866:1,c9.867:1,c9.868:10,c9.869:1,c9.87:1,c9.874:1,c9.877:2,c9.879:1,c9.882:1,c9.894:1,c9.896:3,c9.898:1,c9.899:2,c9.90:4,c9.900:2,c9.908:2,c9.909:1,c9.911:1,c9.913:1,c9.917:1,c9.920:1,c9.921:1,c9.923:1,c9.924:1,c9.926:1,c9.930:2,c9.932:1,c9.933:1,c9.935:3,c9.946:1,c9.954:1,c9.955:1,c9.958:1,c9.96:1,c9.962:3,c9.964:1,c9.966:1,c9.968:1,c9.969:1,c9.971:1,c9.972:2,c9.977:1,c9.978:2,c9.98:1,c9.980:3,c9.981:1,c9.984:2,c9.986:1,v10.1:0.276043550331525,v10.2:0.265344634230504,v11.1:0.0506321867612293,v19.1:5.55851851851852,v19.2:5.35407407407407,v19.3:5.1337037037037,v19.4:5.64037037037037,v19.5:5.30925925925926,v19.6:5.50925925925926,v19.7:5.48259259259259,v19.8:5.44148148148148,v19.9:4.72185185185185,v20.1:0.281,v20.10:-0.7625,v20.11:0.5575,v20.12:-0.71,v20.13:0.393777777777778,v20.14:-0.5765,v20.15:0.308818181818182,v20.16:-0.5765,v20.2:-0.3,v20.3:0.313,v20.4:-0.3,v20.5:0.594,v20.6:-0.766666666666667,v20.7:0.594,v20.8:-0.7625,v20.9:0.576666666666667,v21.1:5.30298181818182,v26.1:-0.411111111111111,v42.10:-0.0858784494128441,v42.11:-0.0625372006788991,v42.2:0.101565205146789,v42.3:0.0994813539449541,v42.4:0.100143962697248,v42.5:0.120622424174312,v42.6:0.0768916343669725,v42.7:-0.109968093330275,v42.8:-0.0707513477981651,v42.9:-0.0265480454954128',\n",
       "        'https://s1.reutersmedia.net/resources/r/?m=02&d=20200821&t=2&i=1530487058&r=LYNXMPEG7K0U2',\n",
       "        nan, nan,\n",
       "        'https://youtube.com/user/ReutersVideo;https://youtube.com/iframe_api;',\n",
       "        nan,\n",
       "        'Mali President Ibrahim Boubacar Keita,45;Mauritania June,128;President Ibrahim Boubacar Keita,291;West Africa,1379;Islamic State,1526;Economic Community,1644;West African States,1667;Nigerian President Goodluck Jonathan,1868;Tiemoko Diallo,2228;Aaron Ross,2243;Felix Onuah,2282;Alessandra Prentice,2325;Thomson Reuters Trust,2394',\n",
       "        nan, nan,\n",
       "        '<PAGE_LINKS>http://thomsonreuters.com/en/about-us/trust-principles.html</PAGE_LINKS><PAGE_ALTURL_AMP>https://uk.mobile.reuters.com/article/amp/idUKKBN25H19P</PAGE_ALTURL_AMP><PAGE_TITLE>U.N. team meets detained Mali president as coup supporters plan to rally</PAGE_TITLE>'],\n",
       "       ['20200821111500-419', 20200821111500, 1, 'reuters.com',\n",
       "        'https://in.reuters.com/article/mali-security/u-n-team-meets-detained-mali-president-as-coup-supporters-plan-to-rally-idINKBN25H1A9',\n",
       "        nan, nan,\n",
       "        'TAX_ETHNICITY;TAX_ETHNICITY_MALI;LEADER;TAX_FNCACT;TAX_FNCACT_PRESIDENT;USPEC_POLITICS_GENERAL1;TAX_ETHNICITY_MAURITANIA;TAX_WORLDMAMMALS;TAX_WORLDMAMMALS_HUMAN;SELF_IDENTIFIED_HUMAN_RIGHTS;WB_2203_HUMAN_RIGHTS;WB_2432_FRAGILITY_CONFLICT_AND_VIOLENCE;UNGP_CRIME_VIOLENCE;TAX_FNCACT_OFFICIALS;REBELLION;GENERAL_GOVERNMENT;RESIGNATION;ARREST;CRISISLEX_C07_SAFETY;CRISISLEX_CRISISLEXREC;INSURGENCY;WB_2433_CONFLICT_AND_VIOLENCE;WB_2464_INSURGENCY;WB_2462_POLITICAL_VIOLENCE_AND_WAR;TERROR;ARMEDCONFLICT;PEACEKEEPING;SECURITY_SERVICES;WB_2470_PEACE_OPERATIONS_AND_CONFLICT_MANAGEMENT;WB_2471_PEACEKEEPING;MEDIA_SOCIAL;ALLIANCE;TAX_FNCACT_LEADERS;ELECTION;EPU_CATS_MIGRATION_FEAR_FEAR;TAX_ETHNICITY_FRENCH;TAX_WORLDLANGUAGES;TAX_WORLDLANGUAGES_FRENCH;TAX_RELIGION;TAX_RELIGION_ISLAMIC;TAX_TERROR_GROUP;TAX_TERROR_GROUP_ISLAMIC_STATE;EPU_ECONOMY;EPU_ECONOMY_HISTORIC;CONSTITUTIONAL;EPU_POLICY;EPU_POLICY_GOVERNMENT;TAX_FNCACT_SPOKESMAN;CRISISLEX_C04_LOGISTICS_TRANSPORT;IDEOLOGY;',\n",
       "        'IDEOLOGY,2340;EPU_POLICY_GOVERNMENT,1935;EPU_CATS_MIGRATION_FEAR_FEAR,1276;TAX_WORLDMAMMALS_HUMAN,206;TAX_WORLDMAMMALS_HUMAN,660;TAX_FNCACT_LEADERS,1108;REBELLION,359;ELECTION,1159;EPU_ECONOMY,1581;EPU_ECONOMY_HISTORIC,1581;CONSTITUTIONAL,1924;TERROR,647;TERROR,1449;ARMEDCONFLICT,647;ARMEDCONFLICT,1449;PEACEKEEPING,740;SECURITY_SERVICES,740;WB_2470_PEACE_OPERATIONS_AND_CONFLICT_MANAGEMENT,740;WB_2471_PEACEKEEPING,740;TAX_FNCACT_SPOKESMAN,1956;TAX_ETHNICITY_MALI,17;TAX_ETHNICITY_MALI,185;TAX_ETHNICITY_MALI,247;TAX_ETHNICITY_MALI,904;TAX_ETHNICITY_MALI,1421;TAX_ETHNICITY_MALI,1664;TAX_ETHNICITY_MALI,2057;INSURGENCY,625;WB_2433_CONFLICT_AND_VIOLENCE,625;WB_2464_INSURGENCY,625;WB_2462_POLITICAL_VIOLENCE_AND_WAR,625;TAX_ETHNICITY_FRENCH,1323;TAX_WORLDLANGUAGES_FRENCH,1323;TAX_RELIGION_ISLAMIC,1472;SELF_IDENTIFIED_HUMAN_RIGHTS,213;SELF_IDENTIFIED_HUMAN_RIGHTS,667;WB_2203_HUMAN_RIGHTS,213;WB_2203_HUMAN_RIGHTS,667;WB_2432_FRAGILITY_CONFLICT_AND_VIOLENCE,213;WB_2432_FRAGILITY_CONFLICT_AND_VIOLENCE,667;UNGP_CRIME_VIOLENCE,213;UNGP_CRIME_VIOLENCE,667;RESIGNATION,515;GENERAL_GOVERNMENT,499;CRISISLEX_CRISISLEXREC,571;MEDIA_SOCIAL,785;CRISISLEX_C04_LOGISTICS_TRANSPORT,2052;LEADER,27;LEADER,264;LEADER,1796;LEADER,1876;TAX_FNCACT_PRESIDENT,27;TAX_FNCACT_PRESIDENT,264;TAX_FNCACT_PRESIDENT,1796;TAX_FNCACT_PRESIDENT,1876;USPEC_POLITICS_GENERAL1,27;USPEC_POLITICS_GENERAL1,264;USPEC_POLITICS_GENERAL1,1796;USPEC_POLITICS_GENERAL1,1876;TAX_TERROR_GROUP_ISLAMIC_STATE,1478;TAX_ETHNICITY_MAURITANIA,123;TAX_ETHNICITY_MAURITANIA,136;ARREST,536;CRISISLEX_C07_SAFETY,536;TAX_FNCACT_OFFICIALS,223;TAX_FNCACT_OFFICIALS,305;ALLIANCE,1008;',\n",
       "        '4#Nouakchott, Trarza, Mauritania#MR#MR06#18.1194#-16.0406#-1402901;1#Nigeria#NI#NI#10#8#NI;4#Bamako, Bamako, Mali#ML#ML01#12.65#-8#-1064708;1#Mali#ML#ML#17#-4#ML;4#Abuja, Abuja Federal Capital Territory, Nigeria#NI#NI11#9.08333#7.53333#-1997013;1#France#FR#FR#46#2#FR',\n",
       "        '1#Mali#ML#ML##17#-4#ML#17;1#Mali#ML#ML##17#-4#ML#185;1#Mali#ML#ML##17#-4#ML#247;1#Mali#ML#ML##17#-4#ML#904;1#Mali#ML#ML##17#-4#ML#1421;1#Mali#ML#ML##17#-4#ML#1664;1#Mali#ML#ML##17#-4#ML#2057;1#Nigerian#NI#NI##10#8#NI#1786;1#French#FR#FR##46#2#FR#1323;4#Nouakchott, Trarza, Mauritania#MR#MR06#19532#18.1194#-16.0406#-1402901#111;4#Abuja, Abuja Federal Capital Territory, Nigeria#NI#NI11#191147#9.08333#7.53333#-1997013#2218;4#Bamako, Bamako, Mali#ML#ML01#81878#12.65#-8#-1064708#179;4#Bamako, Bamako, Mali#ML#ML01#81878#12.65#-8#-1064708#898;4#Bamako, Bamako, Mali#ML#ML01#81878#12.65#-8#-1064708#1658',\n",
       "        'tiemoko diallo;toby chopra;alessandra prentice;ibrahim boubacar keita;aaron ross;goodluck jonathan;felix onuah',\n",
       "        'Tiemoko Diallo,2158;Toby Chopra,2285;Alessandra Prentice,2260;Ibrahim Boubacar Keita,50;Ibrahim Boubacar Keita,287;Aaron Ross,2171;Goodluck Jonathan,1814;Felix Onuah,2209',\n",
       "        'thomson reuters trust principles;twitter;economic community of west african states;reuters',\n",
       "        'Thomson Reuters Trust Principles,2340;Twitter,785;Economic Community Of West African States,1614;Reuters,170;Reuters,193;Reuters,2323',\n",
       "        '-4.4973544973545,1.32275132275132,5.82010582010582,7.14285714285714,17.7248677248677,0.264550264550265,349',\n",
       "        '1#0#0#2012#1370',\n",
       "        'wc:349,c1.2:1,c1.3:1,c12.1:14,c12.10:23,c12.12:7,c12.13:4,c12.14:14,c12.3:5,c12.4:3,c12.5:7,c12.7:12,c12.8:5,c12.9:17,c13.10:1,c13.12:1,c13.3:1,c13.4:1,c14.1:11,c14.10:14,c14.11:23,c14.2:12,c14.3:12,c14.4:1,c14.5:22,c14.7:3,c14.8:1,c14.9:3,c15.10:1,c15.102:2,c15.11:1,c15.111:1,c15.112:1,c15.121:1,c15.143:1,c15.148:2,c15.149:1,c15.153:1,c15.166:1,c15.197:1,c15.198:2,c15.204:1,c15.209:1,c15.22:1,c15.225:1,c15.226:1,c15.231:1,c15.233:2,c15.249:1,c15.25:1,c15.258:1,c15.261:1,c15.262:1,c15.42:1,c15.51:1,c15.62:1,c15.64:1,c15.7:1,c15.71:1,c15.86:1,c15.9:1,c16.100:7,c16.101:5,c16.103:2,c16.105:2,c16.106:10,c16.109:14,c16.11:3,c16.110:42,c16.111:2,c16.114:14,c16.115:4,c16.116:6,c16.117:12,c16.118:10,c16.12:21,c16.120:11,c16.121:30,c16.122:1,c16.124:1,c16.125:15,c16.126:12,c16.127:24,c16.128:3,c16.129:27,c16.13:1,c16.130:4,c16.131:10,c16.132:2,c16.133:1,c16.134:33,c16.138:10,c16.139:9,c16.14:1,c16.140:7,c16.145:17,c16.146:15,c16.150:1,c16.151:1,c16.153:10,c16.156:1,c16.157:3,c16.159:23,c16.16:5,c16.161:18,c16.162:11,c16.163:16,c16.164:7,c16.165:1,c16.18:2,c16.19:4,c16.2:26,c16.20:1,c16.21:2,c16.22:2,c16.23:1,c16.24:2,c16.26:25,c16.27:2,c16.31:11,c16.32:2,c16.33:22,c16.35:13,c16.37:24,c16.38:3,c16.4:17,c16.41:9,c16.45:12,c16.46:1,c16.47:51,c16.52:22,c16.53:2,c16.54:2,c16.56:7,c16.57:173,c16.58:16,c16.6:21,c16.60:3,c16.62:9,c16.63:2,c16.64:1,c16.65:9,c16.66:2,c16.68:13,c16.69:9,c16.7:8,c16.70:21,c16.71:8,c16.72:4,c16.74:2,c16.75:12,c16.76:2,c16.78:12,c16.79:1,c16.82:3,c16.84:7,c16.86:2,c16.87:25,c16.88:26,c16.89:6,c16.90:6,c16.91:5,c16.92:19,c16.93:3,c16.94:16,c16.95:24,c16.96:5,c16.98:18,c16.99:3,c17.1:64,c17.10:20,c17.11:33,c17.12:9,c17.13:3,c17.14:4,c17.15:31,c17.16:18,c17.18:5,c17.19:12,c17.2:9,c17.20:2,c17.22:7,c17.23:4,c17.24:20,c17.25:8,c17.27:28,c17.28:1,c17.29:7,c17.3:3,c17.30:5,c17.31:11,c17.32:5,c17.33:12,c17.34:4,c17.35:2,c17.36:7,c17.37:5,c17.38:3,c17.39:11,c17.4:81,c17.40:2,c17.41:6,c17.42:16,c17.43:5,c17.5:55,c17.6:3,c17.7:26,c17.8:22,c17.9:2,c18.116:2,c18.138:1,c18.139:4,c18.14:1,c18.140:1,c18.141:1,c18.143:1,c18.179:1,c18.180:9,c18.193:8,c18.194:1,c18.197:1,c18.201:1,c18.204:1,c18.342:3,c18.345:2,c18.35:3,c18.69:1,c18.71:1,c18.75:2,c18.76:2,c18.77:1,c2.1:10,c2.100:1,c2.101:3,c2.102:12,c2.103:6,c2.104:40,c2.106:8,c2.107:1,c2.108:3,c2.109:3,c2.11:3,c2.110:6,c2.112:1,c2.113:2,c2.114:11,c2.115:3,c2.116:8,c2.117:2,c2.119:86,c2.12:11,c2.120:3,c2.121:13,c2.122:6,c2.123:2,c2.124:1,c2.125:16,c2.126:13,c2.127:27,c2.128:17,c2.129:38,c2.130:1,c2.131:1,c2.132:7,c2.133:7,c2.134:1,c2.135:7,c2.136:3,c2.137:1,c2.139:1,c2.14:14,c2.140:1,c2.141:5,c2.142:3,c2.143:35,c2.144:7,c2.145:2,c2.146:5,c2.147:59,c2.148:18,c2.149:1,c2.15:12,c2.152:1,c2.153:3,c2.154:20,c2.155:26,c2.156:18,c2.157:18,c2.158:18,c2.159:1,c2.16:1,c2.160:12,c2.162:5,c2.163:1,c2.166:5,c2.168:1,c2.169:4,c2.17:1,c2.170:5,c2.172:6,c2.173:4,c2.176:5,c2.177:16,c2.179:3,c2.18:9,c2.180:9,c2.181:9,c2.183:9,c2.185:49,c2.186:3,c2.187:18,c2.191:3,c2.192:5,c2.193:23,c2.194:1,c2.195:25,c2.196:7,c2.197:7,c2.198:41,c2.199:7,c2.200:2,c2.201:1,c2.203:6,c2.204:35,c2.205:2,c2.206:4,c2.209:6,c2.210:23,c2.211:1,c2.213:4,c2.214:7,c2.215:1,c2.216:1,c2.218:2,c2.220:3,c2.221:4,c2.222:1,c2.223:4,c2.225:5,c2.226:3,c2.23:17,c2.25:15,c2.26:11,c2.27:11,c2.28:4,c2.30:12,c2.31:11,c2.32:3,c2.34:11,c2.35:7,c2.36:3,c2.37:3,c2.38:4,c2.39:49,c2.4:1,c2.44:15,c2.45:26,c2.46:29,c2.47:3,c2.48:6,c2.5:2,c2.50:6,c2.52:18,c2.53:1,c2.54:20,c2.55:3,c2.57:2,c2.58:4,c2.6:3,c2.60:1,c2.61:2,c2.62:12,c2.64:8,c2.65:3,c2.66:2,c2.70:2,c2.71:1,c2.73:1,c2.75:39,c2.76:216,c2.77:33,c2.78:29,c2.79:9,c2.8:1,c2.80:23,c2.81:2,c2.82:6,c2.83:4,c2.84:3,c2.86:7,c2.87:1,c2.88:5,c2.89:4,c2.9:6,c2.90:4,c2.93:3,c2.95:56,c2.97:4,c2.98:21,c2.99:1,c25.1:1,c25.11:1,c25.3:3,c25.5:1,c25.7:1,c3.1:17,c3.2:17,c35.1:1,c35.11:2,c35.12:1,c35.13:1,c35.14:3,c35.15:7,c35.2:1,c35.20:15,c35.21:1,c35.22:1,c35.24:7,c35.3:1,c35.30:3,c35.31:9,c35.32:11,c35.33:27,c35.5:2,c35.9:1,c39.1:1,c39.10:1,c39.12:3,c39.13:2,c39.14:2,c39.17:3,c39.18:1,c39.19:1,c39.2:13,c39.28:3,c39.29:1,c39.3:22,c39.30:1,c39.36:10,c39.37:17,c39.39:7,c39.4:25,c39.40:2,c39.41:6,c39.5:6,c39.9:7,c4.2:2,c4.23:9,c40.3:1,c40.7:1,c40.8:3,c41.1:18,c42.1:107,c5.10:29,c5.11:6,c5.12:58,c5.16:1,c5.17:1,c5.19:5,c5.20:1,c5.21:6,c5.22:1,c5.23:2,c5.24:4,c5.25:1,c5.27:2,c5.28:8,c5.29:2,c5.30:21,c5.31:2,c5.32:1,c5.33:2,c5.34:6,c5.35:8,c5.36:12,c5.37:2,c5.4:2,c5.40:19,c5.42:1,c5.43:2,c5.44:3,c5.45:4,c5.46:57,c5.47:7,c5.49:21,c5.50:28,c5.51:18,c5.52:31,c5.53:37,c5.54:10,c5.56:1,c5.58:1,c5.6:11,c5.60:2,c5.61:12,c5.62:135,c5.7:11,c5.8:17,c5.9:22,c6.1:2,c6.3:1,c6.4:13,c6.5:2,c6.6:2,c7.1:12,c7.2:12,c8.1:1,c8.10:1,c8.14:1,c8.17:2,c8.18:1,c8.2:3,c8.22:3,c8.23:15,c8.25:1,c8.28:2,c8.3:2,c8.36:1,c8.37:3,c8.38:1,c8.39:3,c8.4:9,c8.40:3,c8.41:5,c8.42:11,c8.43:20,c8.5:1,c8.8:1,c9.1:9,c9.10:2,c9.100:1,c9.1005:1,c9.101:1,c9.1011:3,c9.1012:1,c9.1018:2,c9.102:1,c9.1024:1,c9.1036:1,c9.1041:1,c9.109:5,c9.11:1,c9.111:5,c9.113:2,c9.117:1,c9.118:2,c9.119:6,c9.122:10,c9.123:5,c9.124:3,c9.125:3,c9.127:1,c9.128:19,c9.129:1,c9.13:1,c9.130:3,c9.132:1,c9.134:1,c9.138:5,c9.139:1,c9.14:2,c9.141:3,c9.142:2,c9.143:2,c9.145:2,c9.149:1,c9.15:1,c9.151:1,c9.152:1,c9.157:1,c9.158:5,c9.159:1,c9.162:5,c9.164:1,c9.165:2,c9.166:1,c9.167:1,c9.169:1,c9.170:1,c9.174:2,c9.175:1,c9.178:2,c9.181:2,c9.182:2,c9.183:1,c9.184:3,c9.187:2,c9.188:1,c9.190:2,c9.192:2,c9.193:1,c9.195:3,c9.197:1,c9.198:5,c9.20:2,c9.200:1,c9.201:1,c9.204:1,c9.205:3,c9.207:1,c9.208:1,c9.209:1,c9.212:1,c9.215:2,c9.219:3,c9.221:1,c9.222:1,c9.223:2,c9.23:2,c9.231:1,c9.233:3,c9.243:1,c9.244:2,c9.245:2,c9.246:2,c9.247:4,c9.256:1,c9.26:1,c9.265:1,c9.27:2,c9.271:1,c9.275:2,c9.276:4,c9.28:1,c9.280:1,c9.282:1,c9.284:2,c9.288:6,c9.290:4,c9.291:3,c9.292:1,c9.294:1,c9.296:1,c9.3:9,c9.300:1,c9.302:4,c9.313:1,c9.318:1,c9.32:3,c9.325:1,c9.33:4,c9.331:1,c9.34:1,c9.340:1,c9.341:1,c9.343:1,c9.35:2,c9.351:2,c9.353:1,c9.358:1,c9.37:2,c9.370:1,c9.371:1,c9.375:2,c9.382:3,c9.383:4,c9.384:1,c9.39:5,c9.4:2,c9.40:1,c9.41:1,c9.415:2,c9.420:1,c9.421:1,c9.428:2,c9.429:1,c9.430:2,c9.433:1,c9.437:1,c9.44:1,c9.447:1,c9.46:1,c9.466:1,c9.474:1,c9.478:1,c9.479:2,c9.48:1,c9.480:4,c9.488:1,c9.489:1,c9.491:3,c9.494:1,c9.496:1,c9.497:2,c9.498:5,c9.501:3,c9.507:1,c9.511:2,c9.513:4,c9.519:5,c9.521:2,c9.522:1,c9.525:1,c9.53:2,c9.530:2,c9.537:3,c9.539:1,c9.54:1,c9.548:1,c9.549:1,c9.55:1,c9.550:2,c9.551:4,c9.556:1,c9.557:5,c9.560:6,c9.561:1,c9.566:1,c9.567:1,c9.570:2,c9.576:2,c9.579:11,c9.580:2,c9.581:1,c9.586:2,c9.587:1,c9.588:1,c9.589:1,c9.591:1,c9.594:1,c9.599:1,c9.603:1,c9.604:1,c9.606:1,c9.607:1,c9.609:1,c9.613:1,c9.615:1,c9.616:1,c9.618:1,c9.619:2,c9.62:1,c9.625:1,c9.631:1,c9.635:1,c9.638:1,c9.64:2,c9.640:1,c9.642:4,c9.643:1,c9.644:1,c9.648:4,c9.649:1,c9.650:2,c9.653:12,c9.654:5,c9.655:1,c9.656:1,c9.66:7,c9.660:2,c9.664:1,c9.665:1,c9.667:1,c9.668:3,c9.669:2,c9.67:2,c9.670:3,c9.671:3,c9.672:1,c9.673:1,c9.676:2,c9.677:1,c9.678:2,c9.682:1,c9.683:3,c9.686:2,c9.687:1,c9.688:2,c9.693:2,c9.7:2,c9.70:2,c9.701:4,c9.704:2,c9.708:4,c9.710:3,c9.712:2,c9.713:2,c9.717:1,c9.720:2,c9.721:1,c9.722:4,c9.723:4,c9.724:5,c9.726:11,c9.73:4,c9.730:10,c9.732:3,c9.734:1,c9.735:3,c9.736:3,c9.737:2,c9.738:1,c9.739:2,c9.740:4,c9.741:2,c9.745:2,c9.747:1,c9.748:4,c9.749:1,c9.750:2,c9.752:1,c9.753:1,c9.754:1,c9.757:1,c9.759:1,c9.76:3,c9.760:1,c9.762:9,c9.765:1,c9.766:13,c9.767:16,c9.771:2,c9.773:1,c9.775:4,c9.778:1,c9.780:1,c9.785:4,c9.789:1,c9.790:1,c9.796:1,c9.798:2,c9.799:1,c9.8:8,c9.800:1,c9.801:1,c9.802:1,c9.806:1,c9.808:4,c9.809:1,c9.811:1,c9.812:5,c9.815:1,c9.816:1,c9.817:1,c9.822:2,c9.826:1,c9.83:5,c9.834:3,c9.837:1,c9.839:1,c9.841:1,c9.846:3,c9.849:2,c9.851:1,c9.858:1,c9.860:2,c9.863:2,c9.864:9,c9.866:1,c9.867:1,c9.868:10,c9.869:1,c9.87:1,c9.874:1,c9.877:2,c9.879:1,c9.882:1,c9.894:1,c9.896:3,c9.898:1,c9.899:2,c9.90:3,c9.900:2,c9.908:2,c9.909:1,c9.911:1,c9.913:1,c9.917:1,c9.920:1,c9.921:1,c9.923:1,c9.924:1,c9.926:1,c9.930:2,c9.932:1,c9.933:1,c9.935:3,c9.946:1,c9.954:1,c9.955:1,c9.958:1,c9.96:1,c9.962:3,c9.964:1,c9.966:1,c9.968:1,c9.969:1,c9.971:1,c9.972:2,c9.977:1,c9.978:2,c9.98:1,c9.980:3,c9.981:1,c9.984:2,c9.986:1,v10.1:0.276043550331525,v10.2:0.265344634230504,v11.1:0.0477268225419664,v19.1:5.51192307692308,v19.2:5.34346153846154,v19.3:5.11192307692308,v19.4:5.60730769230769,v19.5:5.31384615384616,v19.6:5.50961538461539,v19.7:5.42153846153846,v19.8:5.41461538461538,v19.9:4.67538461538461,v20.1:0.281,v20.10:-0.7625,v20.11:0.5575,v20.12:-0.71,v20.13:0.393777777777778,v20.14:-0.5765,v20.15:0.308818181818182,v20.16:-0.5765,v20.2:-0.3,v20.3:0.313,v20.4:-0.3,v20.5:0.594,v20.6:-0.766666666666667,v20.7:0.594,v20.8:-0.7625,v20.9:0.576666666666667,v21.1:5.29750915750916,v26.1:-0.411111111111111,v42.10:-0.0832775793084112,v42.11:-0.0619710216635514,v42.2:0.102529040757009,v42.3:0.100709345906542,v42.4:0.101334172242991,v42.5:0.119369885140187,v42.6:0.0772505002897196,v42.7:-0.11282450628972,v42.8:-0.0728057655140187,v42.9:-0.0249293173738318',\n",
       "        'https://s4.reutersmedia.net/resources/r/?m=02&d=20200821&t=2&i=1530487329&r=LYNXMPEG7K0U9',\n",
       "        nan, nan,\n",
       "        'https://youtube.com/user/ReutersVideo;https://youtube.com/iframe_api;',\n",
       "        nan,\n",
       "        'Mali President Ibrahim Boubacar Keita,45;Mauritania June,128;President Ibrahim Boubacar Keita,280;West Africa,1368;Islamic State,1515;Economic Community,1633;West African States,1656;Nigerian President Goodluck Jonathan,1858;Tiemoko Diallo,2218;Aaron Ross,2233;Felix Onuah,2272;Alessandra Prentice,2315;Thomson Reuters Trust,2384',\n",
       "        nan, nan,\n",
       "        '<PAGE_LINKS>http://thomsonreuters.com/en/about-us/trust-principles.html</PAGE_LINKS><PAGE_ALTURL_AMP>https://in.mobile.reuters.com/article/amp/idINKBN25H1A9</PAGE_ALTURL_AMP><PAGE_TITLE>U.N. team meets detained Mali president as coup supporters plan to rally</PAGE_TITLE>'],\n",
       "       ['20200821113000-1499', 20200821113000, 1, 'swissinfo.ch',\n",
       "        'https://www.swissinfo.ch/eng/u-n--team-meets-detained-mali-president-as-coup-supporters-plan-to-rally/45982992',\n",
       "        nan, nan,\n",
       "        'TAX_ETHNICITY;TAX_ETHNICITY_MALI;TAX_WORLDMAMMALS;TAX_WORLDMAMMALS_HUMAN;SELF_IDENTIFIED_HUMAN_RIGHTS;WB_2203_HUMAN_RIGHTS;WB_2432_FRAGILITY_CONFLICT_AND_VIOLENCE;UNGP_CRIME_VIOLENCE;TAX_FNCACT;TAX_FNCACT_OFFICIALS;LEADER;TAX_FNCACT_PRESIDENT;USPEC_POLITICS_GENERAL1;REBELLION;GENERAL_GOVERNMENT;RESIGNATION;ARREST;CRISISLEX_C07_SAFETY;CRISISLEX_CRISISLEXREC;INSURGENCY;WB_2433_CONFLICT_AND_VIOLENCE;WB_2464_INSURGENCY;WB_2462_POLITICAL_VIOLENCE_AND_WAR;TERROR;ARMEDCONFLICT;PEACEKEEPING;SECURITY_SERVICES;WB_2470_PEACE_OPERATIONS_AND_CONFLICT_MANAGEMENT;WB_2471_PEACEKEEPING;MEDIA_SOCIAL;ALLIANCE;TAX_FNCACT_LEADERS;ELECTION;EPU_CATS_MIGRATION_FEAR_FEAR;TAX_ETHNICITY_FRENCH;TAX_WORLDLANGUAGES;TAX_WORLDLANGUAGES_FRENCH;TAX_RELIGION;TAX_RELIGION_ISLAMIC;TAX_TERROR_GROUP;TAX_TERROR_GROUP_ISLAMIC_STATE;EPU_ECONOMY;EPU_ECONOMY_HISTORIC;CONSTITUTIONAL;EPU_POLICY;EPU_POLICY_GOVERNMENT;TAX_FNCACT_SPOKESMAN;CRISISLEX_C04_LOGISTICS_TRANSPORT;',\n",
       "        'EPU_POLICY_GOVERNMENT,1807;EPU_CATS_MIGRATION_FEAR_FEAR,1148;TAX_WORLDMAMMALS_HUMAN,78;TAX_WORLDMAMMALS_HUMAN,532;TAX_FNCACT_LEADERS,980;REBELLION,231;ELECTION,1031;EPU_ECONOMY,1453;EPU_ECONOMY_HISTORIC,1453;CONSTITUTIONAL,1796;TERROR,519;TERROR,1321;ARMEDCONFLICT,519;ARMEDCONFLICT,1321;PEACEKEEPING,612;SECURITY_SERVICES,612;WB_2470_PEACE_OPERATIONS_AND_CONFLICT_MANAGEMENT,612;WB_2471_PEACEKEEPING,612;TAX_FNCACT_SPOKESMAN,1828;TAX_ETHNICITY_MALI,57;TAX_ETHNICITY_MALI,119;TAX_ETHNICITY_MALI,776;TAX_ETHNICITY_MALI,1293;TAX_ETHNICITY_MALI,1536;TAX_ETHNICITY_MALI,1929;INSURGENCY,497;WB_2433_CONFLICT_AND_VIOLENCE,497;WB_2464_INSURGENCY,497;WB_2462_POLITICAL_VIOLENCE_AND_WAR,497;TAX_ETHNICITY_FRENCH,1195;TAX_WORLDLANGUAGES_FRENCH,1195;TAX_RELIGION_ISLAMIC,1344;SELF_IDENTIFIED_HUMAN_RIGHTS,85;SELF_IDENTIFIED_HUMAN_RIGHTS,539;WB_2203_HUMAN_RIGHTS,85;WB_2203_HUMAN_RIGHTS,539;WB_2432_FRAGILITY_CONFLICT_AND_VIOLENCE,85;WB_2432_FRAGILITY_CONFLICT_AND_VIOLENCE,539;UNGP_CRIME_VIOLENCE,85;UNGP_CRIME_VIOLENCE,539;RESIGNATION,387;GENERAL_GOVERNMENT,371;CRISISLEX_CRISISLEXREC,443;MEDIA_SOCIAL,657;CRISISLEX_C04_LOGISTICS_TRANSPORT,1924;LEADER,136;LEADER,1668;LEADER,1748;TAX_FNCACT_PRESIDENT,136;TAX_FNCACT_PRESIDENT,1668;TAX_FNCACT_PRESIDENT,1748;USPEC_POLITICS_GENERAL1,136;USPEC_POLITICS_GENERAL1,1668;USPEC_POLITICS_GENERAL1,1748;TAX_TERROR_GROUP_ISLAMIC_STATE,1350;ARREST,408;CRISISLEX_C07_SAFETY,408;TAX_FNCACT_OFFICIALS,95;TAX_FNCACT_OFFICIALS,177;ALLIANCE,880;',\n",
       "        '1#Nigeria#NI#NI#10#8#NI;4#Bamako, Bamako, Mali#ML#ML01#12.65#-8#-1064708;1#Mali#ML#ML#17#-4#ML;4#Abuja, Abuja Federal Capital Territory, Nigeria#NI#NI11#9.08333#7.53333#-1997013;1#France#FR#FR#46#2#FR',\n",
       "        '1#Mali#ML#ML##17#-4#ML#57;1#Mali#ML#ML##17#-4#ML#119;1#Mali#ML#ML##17#-4#ML#776;1#Mali#ML#ML##17#-4#ML#1293;1#Mali#ML#ML##17#-4#ML#1536;1#Mali#ML#ML##17#-4#ML#1929;1#Nigerian#NI#NI##10#8#NI#1658;1#French#FR#FR##46#2#FR#1195;4#Abuja, Abuja Federal Capital Territory, Nigeria#NI#NI11#191147#9.08333#7.53333#-1997013#2090;4#Bamako, Bamako, Mali#ML#ML01#81878#12.65#-8#-1064708#51;4#Bamako, Bamako, Mali#ML#ML01#81878#12.65#-8#-1064708#770;4#Bamako, Bamako, Mali#ML#ML01#81878#12.65#-8#-1064708#1530',\n",
       "        'tiemoko diallo;toby chopra;alessandra prentice;ibrahim boubacar keita;aaron ross;goodluck jonathan;felix onuah',\n",
       "        'Tiemoko Diallo,2030;Toby Chopra,2157;Alessandra Prentice,2132;Ibrahim Boubacar Keita,159;Aaron Ross,2043;Goodluck Jonathan,1686;Felix Onuah,2081',\n",
       "        'twitter;economic community of west african states;reuters',\n",
       "        'Twitter,657;Economic Community Of West African States,1486;Reuters,65',\n",
       "        '-5.08474576271186,1.12994350282486,6.21468926553672,7.34463276836158,18.361581920904,0,324',\n",
       "        '1#0#0#2012#1253',\n",
       "        'wc:324,c1.2:1,c1.3:1,c12.1:14,c12.10:22,c12.12:7,c12.13:4,c12.14:13,c12.3:5,c12.4:3,c12.5:7,c12.7:12,c12.8:5,c12.9:16,c13.10:1,c13.12:1,c13.4:1,c14.1:11,c14.10:15,c14.11:23,c14.2:13,c14.3:11,c14.4:1,c14.5:20,c14.7:3,c14.8:1,c14.9:3,c15.102:2,c15.111:1,c15.112:1,c15.121:1,c15.137:1,c15.143:1,c15.148:2,c15.149:1,c15.153:1,c15.166:1,c15.197:1,c15.198:2,c15.204:1,c15.209:1,c15.22:1,c15.225:1,c15.226:1,c15.229:1,c15.231:1,c15.233:2,c15.245:1,c15.249:1,c15.25:1,c15.258:1,c15.261:1,c15.262:1,c15.42:1,c15.51:1,c15.55:1,c15.61:1,c15.62:1,c15.64:1,c15.7:1,c15.71:1,c15.86:1,c15.9:1,c16.100:7,c16.101:5,c16.103:2,c16.105:2,c16.106:10,c16.109:14,c16.11:3,c16.110:39,c16.111:2,c16.114:15,c16.115:2,c16.116:6,c16.117:11,c16.118:11,c16.12:21,c16.120:10,c16.121:29,c16.122:1,c16.124:2,c16.125:15,c16.126:11,c16.127:25,c16.128:3,c16.129:28,c16.130:2,c16.131:10,c16.133:1,c16.134:34,c16.138:10,c16.139:10,c16.14:1,c16.140:7,c16.145:14,c16.146:14,c16.151:1,c16.153:8,c16.156:1,c16.157:3,c16.159:24,c16.16:5,c16.161:19,c16.162:10,c16.163:14,c16.164:6,c16.165:1,c16.18:2,c16.19:4,c16.2:24,c16.20:1,c16.21:1,c16.22:2,c16.23:1,c16.24:2,c16.26:25,c16.27:1,c16.31:10,c16.32:2,c16.33:23,c16.35:12,c16.37:24,c16.38:3,c16.4:18,c16.41:10,c16.45:12,c16.46:1,c16.47:48,c16.52:23,c16.53:2,c16.54:2,c16.56:7,c16.57:167,c16.58:17,c16.6:21,c16.60:3,c16.62:10,c16.63:2,c16.64:1,c16.65:8,c16.66:1,c16.68:13,c16.69:10,c16.7:8,c16.70:19,c16.71:7,c16.72:4,c16.74:2,c16.75:13,c16.76:2,c16.78:12,c16.79:1,c16.82:3,c16.84:5,c16.86:2,c16.87:23,c16.88:28,c16.89:6,c16.90:6,c16.91:5,c16.92:19,c16.93:3,c16.94:18,c16.95:23,c16.96:4,c16.98:18,c16.99:2,c17.1:62,c17.10:20,c17.11:33,c17.12:9,c17.13:3,c17.14:4,c17.15:28,c17.16:16,c17.18:3,c17.19:11,c17.2:9,c17.20:2,c17.22:5,c17.23:4,c17.24:21,c17.25:9,c17.27:27,c17.28:1,c17.29:7,c17.3:2,c17.30:5,c17.31:11,c17.32:4,c17.33:11,c17.34:3,c17.35:3,c17.36:6,c17.37:4,c17.38:3,c17.39:9,c17.4:81,c17.40:2,c17.41:4,c17.42:15,c17.43:5,c17.5:53,c17.6:3,c17.7:24,c17.8:21,c17.9:2,c18.116:2,c18.138:1,c18.139:3,c18.14:1,c18.140:1,c18.141:1,c18.143:1,c18.179:1,c18.180:6,c18.193:7,c18.194:1,c18.201:1,c18.204:1,c18.342:4,c18.345:2,c18.35:3,c18.69:1,c18.71:1,c18.75:2,c18.76:2,c18.77:1,c2.1:10,c2.100:1,c2.101:3,c2.102:11,c2.103:6,c2.104:40,c2.106:7,c2.107:1,c2.108:3,c2.109:3,c2.11:3,c2.110:6,c2.112:1,c2.113:2,c2.114:11,c2.115:3,c2.116:8,c2.117:2,c2.119:80,c2.12:12,c2.120:3,c2.121:12,c2.122:6,c2.123:2,c2.125:16,c2.126:14,c2.127:29,c2.128:14,c2.129:36,c2.130:1,c2.132:6,c2.133:7,c2.134:1,c2.135:7,c2.136:3,c2.137:1,c2.139:1,c2.14:14,c2.140:1,c2.141:5,c2.142:3,c2.143:34,c2.144:7,c2.145:2,c2.146:5,c2.147:56,c2.148:18,c2.149:1,c2.15:9,c2.152:2,c2.153:4,c2.154:19,c2.155:26,c2.156:16,c2.157:19,c2.158:19,c2.159:1,c2.160:12,c2.162:4,c2.166:4,c2.168:1,c2.169:4,c2.170:5,c2.172:6,c2.173:3,c2.176:5,c2.177:16,c2.179:4,c2.18:10,c2.180:10,c2.181:10,c2.183:10,c2.185:48,c2.186:3,c2.187:19,c2.191:3,c2.192:5,c2.193:22,c2.194:1,c2.195:23,c2.196:6,c2.197:7,c2.198:41,c2.199:6,c2.200:3,c2.201:1,c2.203:7,c2.204:35,c2.205:1,c2.206:4,c2.209:6,c2.210:24,c2.211:1,c2.213:4,c2.214:6,c2.215:2,c2.216:1,c2.218:2,c2.220:4,c2.221:3,c2.223:3,c2.225:5,c2.226:2,c2.23:16,c2.25:14,c2.26:10,c2.27:10,c2.28:4,c2.30:12,c2.31:11,c2.32:3,c2.34:11,c2.35:7,c2.36:3,c2.37:3,c2.38:4,c2.39:46,c2.44:16,c2.45:24,c2.46:30,c2.47:3,c2.48:6,c2.5:2,c2.50:6,c2.52:19,c2.53:1,c2.54:21,c2.55:3,c2.57:2,c2.58:3,c2.6:2,c2.60:1,c2.61:2,c2.62:11,c2.64:8,c2.65:3,c2.66:2,c2.70:2,c2.71:1,c2.75:39,c2.76:206,c2.77:32,c2.78:30,c2.79:9,c2.8:1,c2.80:21,c2.81:2,c2.82:7,c2.83:4,c2.84:3,c2.86:8,c2.87:1,c2.88:5,c2.89:3,c2.9:6,c2.90:4,c2.93:4,c2.95:55,c2.97:4,c2.98:20,c2.99:1,c25.1:1,c25.3:3,c25.5:1,c25.7:1,c3.1:17,c3.2:16,c35.1:1,c35.11:2,c35.12:1,c35.13:1,c35.14:3,c35.15:4,c35.2:1,c35.20:14,c35.21:1,c35.22:1,c35.24:7,c35.3:1,c35.30:3,c35.31:9,c35.32:8,c35.33:26,c35.5:2,c35.9:1,c39.10:1,c39.12:3,c39.13:2,c39.14:2,c39.17:3,c39.18:1,c39.19:1,c39.2:12,c39.28:3,c39.29:1,c39.3:21,c39.30:1,c39.36:10,c39.37:17,c39.39:7,c39.4:24,c39.40:2,c39.41:6,c39.5:6,c39.9:7,c4.2:2,c4.23:10,c40.7:1,c40.8:2,c41.1:16,c42.1:102,c5.10:29,c5.11:6,c5.12:57,c5.16:1,c5.17:1,c5.19:5,c5.21:5,c5.22:1,c5.23:2,c5.24:4,c5.25:1,c5.27:2,c5.28:8,c5.29:2,c5.30:21,c5.31:2,c5.32:1,c5.33:2,c5.34:6,c5.35:8,c5.36:12,c5.37:2,c5.4:2,c5.40:18,c5.42:1,c5.43:2,c5.44:3,c5.45:4,c5.46:55,c5.47:7,c5.49:22,c5.50:29,c5.51:19,c5.52:32,c5.53:34,c5.54:11,c5.56:1,c5.6:11,c5.60:1,c5.61:12,c5.62:131,c5.7:10,c5.8:16,c5.9:21,c6.1:2,c6.3:1,c6.4:12,c6.5:2,c6.6:2,c7.1:12,c7.2:10,c8.1:1,c8.10:2,c8.14:1,c8.17:1,c8.2:3,c8.22:3,c8.23:15,c8.25:1,c8.28:2,c8.3:2,c8.37:3,c8.38:1,c8.39:2,c8.4:10,c8.40:2,c8.41:5,c8.42:11,c8.43:19,c8.8:1,c9.1:10,c9.10:2,c9.100:1,c9.1005:1,c9.101:1,c9.1011:3,c9.1012:1,c9.1018:2,c9.102:1,c9.1024:1,c9.1036:1,c9.1041:1,c9.109:5,c9.11:1,c9.111:4,c9.113:2,c9.117:1,c9.118:2,c9.119:6,c9.122:10,c9.123:5,c9.124:3,c9.125:3,c9.127:1,c9.128:20,c9.129:1,c9.13:1,c9.130:3,c9.132:1,c9.134:1,c9.138:5,c9.139:1,c9.14:2,c9.141:3,c9.142:2,c9.143:2,c9.145:2,c9.149:1,c9.15:1,c9.151:1,c9.152:1,c9.157:1,c9.158:5,c9.159:1,c9.162:4,c9.164:1,c9.165:2,c9.166:1,c9.167:1,c9.169:1,c9.170:1,c9.174:2,c9.175:1,c9.178:2,c9.181:2,c9.182:2,c9.183:1,c9.184:2,c9.187:2,c9.188:1,c9.190:2,c9.192:2,c9.193:1,c9.195:3,c9.197:1,c9.198:5,c9.199:1,c9.20:2,c9.200:1,c9.201:1,c9.205:3,c9.207:1,c9.208:1,c9.209:1,c9.212:1,c9.215:1,c9.219:2,c9.221:1,c9.222:1,c9.223:2,c9.231:2,c9.233:3,c9.243:1,c9.244:2,c9.245:2,c9.246:2,c9.247:4,c9.256:1,c9.26:1,c9.27:2,c9.271:1,c9.275:2,c9.276:3,c9.28:1,c9.280:1,c9.282:1,c9.284:2,c9.288:5,c9.290:4,c9.291:3,c9.292:1,c9.294:1,c9.296:1,c9.3:10,c9.300:1,c9.302:4,c9.313:1,c9.318:1,c9.32:3,c9.325:1,c9.33:4,c9.331:1,c9.34:1,c9.343:1,c9.35:1,c9.351:2,c9.358:1,c9.37:2,c9.370:1,c9.371:1,c9.375:2,c9.382:3,c9.383:4,c9.384:1,c9.39:5,c9.4:2,c9.41:1,c9.415:2,c9.420:1,c9.421:1,c9.428:2,c9.429:1,c9.430:2,c9.433:1,c9.437:1,c9.44:1,c9.447:1,c9.46:1,c9.474:1,c9.478:1,c9.479:1,c9.48:1,c9.480:4,c9.488:1,c9.489:1,c9.491:3,c9.494:1,c9.496:1,c9.497:2,c9.498:4,c9.501:3,c9.511:3,c9.512:1,c9.513:4,c9.519:5,c9.521:2,c9.522:1,c9.525:1,c9.53:2,c9.530:1,c9.537:3,c9.54:1,c9.548:1,c9.549:1,c9.55:1,c9.550:2,c9.551:5,c9.556:2,c9.557:3,c9.560:6,c9.561:1,c9.566:1,c9.567:1,c9.570:2,c9.576:1,c9.579:10,c9.580:2,c9.586:2,c9.587:1,c9.588:1,c9.589:1,c9.59:1,c9.591:1,c9.594:1,c9.599:1,c9.603:1,c9.604:1,c9.606:1,c9.607:1,c9.609:1,c9.613:1,c9.615:1,c9.616:1,c9.618:1,c9.619:1,c9.62:1,c9.621:1,c9.625:1,c9.627:1,c9.631:1,c9.635:1,c9.638:1,c9.64:1,c9.640:1,c9.642:3,c9.643:1,c9.644:1,c9.648:3,c9.649:1,c9.650:2,c9.653:13,c9.654:5,c9.656:1,c9.66:7,c9.660:2,c9.665:1,c9.667:1,c9.668:3,c9.669:2,c9.67:2,c9.670:3,c9.671:3,c9.672:1,c9.673:1,c9.676:2,c9.677:1,c9.678:1,c9.682:1,c9.683:3,c9.686:2,c9.687:1,c9.688:2,c9.693:2,c9.7:2,c9.70:2,c9.701:3,c9.704:1,c9.708:4,c9.710:3,c9.712:2,c9.713:2,c9.717:1,c9.720:2,c9.721:1,c9.722:3,c9.723:3,c9.724:5,c9.726:12,c9.73:3,c9.730:11,c9.732:3,c9.734:1,c9.735:3,c9.736:3,c9.737:1,c9.738:1,c9.739:2,c9.740:3,c9.741:2,c9.745:2,c9.747:1,c9.748:3,c9.749:1,c9.750:2,c9.752:1,c9.753:1,c9.757:1,c9.759:1,c9.76:3,c9.760:1,c9.762:10,c9.765:1,c9.766:12,c9.767:17,c9.771:2,c9.773:1,c9.775:3,c9.778:1,c9.780:1,c9.785:4,c9.789:1,c9.790:1,c9.796:1,c9.798:2,c9.799:1,c9.8:8,c9.800:1,c9.801:1,c9.802:1,c9.808:4,c9.809:1,c9.812:4,c9.815:1,c9.816:1,c9.817:1,c9.822:2,c9.826:1,c9.83:6,c9.830:1,c9.834:3,c9.837:1,c9.841:1,c9.846:3,c9.849:2,c9.851:1,c9.858:1,c9.860:1,c9.863:3,c9.864:11,c9.866:1,c9.867:1,c9.868:12,c9.869:1,c9.87:1,c9.874:1,c9.877:1,c9.879:1,c9.882:1,c9.894:1,c9.896:2,c9.898:1,c9.899:2,c9.90:3,c9.900:2,c9.908:2,c9.909:1,c9.911:1,c9.913:1,c9.917:1,c9.920:1,c9.921:1,c9.923:1,c9.924:1,c9.926:1,c9.930:2,c9.932:1,c9.933:1,c9.935:2,c9.946:1,c9.954:1,c9.955:1,c9.958:1,c9.96:1,c9.962:3,c9.964:1,c9.966:1,c9.968:1,c9.969:1,c9.971:1,c9.972:2,c9.977:1,c9.978:1,c9.98:1,c9.980:2,c9.981:1,c9.984:2,c9.986:1,v10.1:0.270226499690785,v10.2:0.272355248917749,v11.1:0.039426144278607,v19.1:5.31636363636364,v19.2:5.29409090909091,v19.3:4.99545454545455,v19.4:5.48681818181818,v19.5:5.27181818181818,v19.6:5.46454545454545,v19.7:5.17045454545455,v19.8:5.365,v19.9:4.49863636363636,v20.1:0.328,v20.10:-0.7625,v20.11:0.571,v20.12:-0.71,v20.13:0.4169,v20.14:-0.5765,v20.15:0.322565217391304,v20.16:-0.5765,v20.2:-0.3,v20.3:0.469,v20.4:-0.3,v20.5:0.604333333333333,v20.6:-0.766666666666667,v20.7:0.604333333333333,v20.8:-0.7625,v20.9:0.58875,v21.1:5.27135135135135,v26.1:-0.570588235294118,v42.10:-0.0873625845882353,v42.11:-0.0733725828627451,v42.2:0.102754499558824,v42.3:0.100741798823529,v42.4:0.101663543607843,v42.5:0.116798178117647,v42.6:0.0760000540980392,v42.7:-0.130230655784314,v42.8:-0.0893816895392156,v42.9:-0.028804847754902',\n",
       "        'https://www.swissinfo.ch/resource/image/45982994/landscape_ratio16x9/1920/1080/23f05750e647b8f1409fbde3dfbcf74a/LO/image_kbn25h19o.jpg',\n",
       "        nan, nan, 'https://youtube.com/c/swissinfo;', nan,\n",
       "        'President Ibrahim Boubacar Keita,179;West Africa,1261;Islamic State,1407;Economic Community,1523;West African States,1546;Nigerian President Goodluck Jonathan,1746;Tiemoko Diallo,2109;Aaron Ross,2124;Felix Onuah,2163;Alessandra Prentice,2206;Toby Chopra,2232',\n",
       "        nan, nan,\n",
       "        '<PAGE_TITLE>U.N. team meets detained Mali president as coup supporters plan to rally</PAGE_TITLE>']],\n",
       "      dtype=object)"
      ]
     },
     "execution_count": 121,
     "metadata": {},
     "output_type": "execute_result"
    }
   ],
   "source": [
    "gdelt_result[2].values[0:5]"
   ]
  },
  {
   "cell_type": "code",
   "execution_count": 55,
   "metadata": {},
   "outputs": [
    {
     "data": {
      "text/plain": [
       "array([nan,\n",
       "       'https://s2.reutersmedia.net/resources/r/?m=02&d=20200821&t=2&i=1530485786&r=LYNXMPEG7K0TC',\n",
       "       'https://s1.reutersmedia.net/resources/r/?m=02&d=20200821&t=2&i=1530487058&r=LYNXMPEG7K0U2',\n",
       "       'https://s4.reutersmedia.net/resources/r/?m=02&d=20200821&t=2&i=1530487329&r=LYNXMPEG7K0U9',\n",
       "       'https://www.swissinfo.ch/resource/image/45982994/landscape_ratio16x9/1920/1080/23f05750e647b8f1409fbde3dfbcf74a/LO/image_kbn25h19o.jpg'],\n",
       "      dtype=object)"
      ]
     },
     "execution_count": 55,
     "metadata": {},
     "output_type": "execute_result"
    }
   ],
   "source": [
    "gdelt_result[2][\"SharingImage\"].values[0:5]"
   ]
  },
  {
   "cell_type": "code",
   "execution_count": 122,
   "metadata": {},
   "outputs": [
    {
     "data": {
      "text/plain": [
       "{'locations': array(['Bamako, Bamako, Mali'], dtype=object),\n",
       " 'news': [{'image': 'https://s2.reutersmedia.net/resources/r/?m=02&d=20200821&t=2&i=1530485786&r=LYNXMPEG7K0TC',\n",
       "   'links': ['http://thomsonreuters.com/en/about-us/trust-principles.html'],\n",
       "   'source': 'reuters.com',\n",
       "   'title': 'U.N. team meets detained Mali president as coup supporters plan to rally'},\n",
       "  {'image': 'https://s.yimg.com/uu/api/res/1.2/ApRWaFNJfrafM0vVD.hpMQ--~B/aD01NzY7dz0xMDI0O3NtPTE7YXBwaWQ9eXRhY2h5b24-/https://media.zenfs.com/en/france_24_english_articles_100/01b8407d87873d0818657e38244ee12e',\n",
       "   'links': ['http://www.france24.com/en/20200818-ecowas-calls-on-mali-soldiers-to-end-the-mutiny',\n",
       "    'http://www.france24.com/en/20200820-a-transitional-civilian-or-military-president-will-take-power-in-mali-junta-tells-france-24',\n",
       "    'http://www.france24.com/en/20200821-un-team-meets-mali-s-deposed-president-keita-following-coup',\n",
       "    'http://www.france24.com/en/tag/Ibrahim-Boubacar-Keita/',\n",
       "    'http://www.france24.com/en/tag/emmanuel-macron/',\n",
       "    'http://www.france24.com/en/tag/mali/'],\n",
       "   'source': 'yahoo.com',\n",
       "   'title': 'US halts military ties with Mali as crowds hail junta takeover'}]}"
      ]
     },
     "execution_count": 122,
     "metadata": {},
     "output_type": "execute_result"
    }
   ],
   "source": [
    "describe_gdelt_result(gdelt_result)"
   ]
  },
  {
   "cell_type": "code",
   "execution_count": 123,
   "metadata": {},
   "outputs": [
    {
     "data": {
      "text/html": [
       "<p>Locations: Bamako, Bamako, Mali </p><b>U.N. team meets detained Mali president as coup supporters plan to rally</b><br><p>Source: reuters.com</p><p><img src='https://s2.reutersmedia.net/resources/r/?m=02&d=20200821&t=2&i=1530485786&r=LYNXMPEG7K0TC'/></p><p>Links:<ul><li><a href='http://thomsonreuters.com/en/about-us/trust-principles.html'>http://thomsonreuters.com/en/about-us/trust-principles.html</a></li></ul></p><b>US halts military ties with Mali as crowds hail junta takeover</b><br><p>Source: yahoo.com</p><p><img src='https://s.yimg.com/uu/api/res/1.2/ApRWaFNJfrafM0vVD.hpMQ--~B/aD01NzY7dz0xMDI0O3NtPTE7YXBwaWQ9eXRhY2h5b24-/https://media.zenfs.com/en/france_24_english_articles_100/01b8407d87873d0818657e38244ee12e'/></p><p>Links:<ul><li><a href='http://www.france24.com/en/20200818-ecowas-calls-on-mali-soldiers-to-end-the-mutiny'>http://www.france24.com/en/20200818-ecowas-calls-on-mali-soldiers-to-end-the-mutiny</a></li><li><a href='http://www.france24.com/en/20200820-a-transitional-civilian-or-military-president-will-take-power-in-mali-junta-tells-france-24'>http://www.france24.com/en/20200820-a-transitional-civilian-or-military-president-will-take-power-in-mali-junta-tells-france-24</a></li><li><a href='http://www.france24.com/en/20200821-un-team-meets-mali-s-deposed-president-keita-following-coup'>http://www.france24.com/en/20200821-un-team-meets-mali-s-deposed-president-keita-following-coup</a></li><li><a href='http://www.france24.com/en/tag/Ibrahim-Boubacar-Keita/'>http://www.france24.com/en/tag/Ibrahim-Boubacar-Keita/</a></li><li><a href='http://www.france24.com/en/tag/emmanuel-macron/'>http://www.france24.com/en/tag/emmanuel-macron/</a></li><li><a href='http://www.france24.com/en/tag/mali/'>http://www.france24.com/en/tag/mali/</a></li></ul></p>"
      ],
      "text/plain": [
       "<IPython.core.display.HTML object>"
      ]
     },
     "metadata": {},
     "output_type": "display_data"
    }
   ],
   "source": [
    "from IPython.display import display, HTML\n",
    "html_news = gdelt_result_tohtml(gdelt_result)\n",
    "display(HTML(html_news))"
   ]
  },
  {
   "cell_type": "code",
   "execution_count": null,
   "metadata": {},
   "outputs": [],
   "source": []
  }
 ],
 "metadata": {
  "kernelspec": {
   "display_name": "Python 3",
   "language": "python",
   "name": "python3"
  },
  "language_info": {
   "codemirror_mode": {
    "name": "ipython",
    "version": 3
   },
   "file_extension": ".py",
   "mimetype": "text/x-python",
   "name": "python",
   "nbconvert_exporter": "python",
   "pygments_lexer": "ipython3",
   "version": "3.6.4"
  }
 },
 "nbformat": 4,
 "nbformat_minor": 2
}
