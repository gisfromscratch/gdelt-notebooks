{
 "cells": [
  {
   "cell_type": "markdown",
   "metadata": {},
   "source": [
    "# Collect GDELT events"
   ]
  },
  {
   "cell_type": "markdown",
   "metadata": {},
   "source": [
    "## Requirements"
   ]
  },
  {
   "cell_type": "code",
   "execution_count": null,
   "metadata": {},
   "outputs": [],
   "source": [
    "!pip install --user gdelt"
   ]
  },
  {
   "cell_type": "code",
   "execution_count": 6,
   "metadata": {},
   "outputs": [],
   "source": [
    "from datetime import date, timedelta \n",
    "from gdelt import gdelt as gdelt_client\n",
    "import os\n",
    "import tempfile"
   ]
  },
  {
   "cell_type": "markdown",
   "metadata": {},
   "source": [
    "## Getting GDELT events"
   ]
  },
  {
   "cell_type": "code",
   "execution_count": 30,
   "metadata": {},
   "outputs": [],
   "source": [
    "def get_events(event_date):\n",
    "    version_date = date(2015, 2, 18)\n",
    "    if event_date < version_date:\n",
    "        client = gdelt_client(version=1)\n",
    "    else:\n",
    "        client = gdelt_client(version=2)\n",
    "    events = client.Search(event_date.strftime(\"%Y %m %d\"), table=\"events\", coverage=True)\n",
    "    del client\n",
    "    return events"
   ]
  },
  {
   "cell_type": "markdown",
   "metadata": {},
   "source": [
    "## Filter events by country code (FIPS-4)"
   ]
  },
  {
   "cell_type": "code",
   "execution_count": 35,
   "metadata": {},
   "outputs": [
    {
     "name": "stdout",
     "output_type": "stream",
     "text": [
      "1990-01-01\n",
      "C:\\Users\\DEVELO~1\\AppData\\Local\\Temp\\AJ_1990_01_01.csv\n"
     ]
    }
   ],
   "source": [
    "def filter_events(country_code, event_date=date.today()):\n",
    "    '''FIPS-4 country code'''\n",
    "    events = get_events(event_date)\n",
    "    return events[events.ActionGeo_CountryCode == country_code]\n",
    "\n",
    "def save_events(country_code, start_date=date.today(), max_days=365, out_dir=tempfile.gettempdir()):\n",
    "    file_path = os.path.join(out_dir, \"{0}_{1}.csv\".format(country_code, start_date.strftime(\"%Y_%m_%d\")))\n",
    "    filter_date = start_date\n",
    "    has_events = False\n",
    "    for day_count in range(0, max_days):\n",
    "        try:\n",
    "            events = filter_events(country_code, filter_date)\n",
    "            print(filter_date)\n",
    "            if not events.empty:\n",
    "                if not os.path.exists(file_path):\n",
    "                    events.to_csv(file_path, index=False)\n",
    "                    has_events = True\n",
    "                else:\n",
    "                    events.to_csv(file_path, index=False, header=False, mode=\"a\")\n",
    "        except ValueError as err:\n",
    "            print(err)\n",
    "        filter_date -= timedelta(days=1)\n",
    "    \n",
    "    if has_events:\n",
    "        print(file_path)\n",
    "    else:\n",
    "        print(\"No events obtained.\")\n",
    "    \n",
    "def wayback_events(country_code, start_date=date.today(), out_dir=tempfile.gettempdir()):\n",
    "    min_date = date(1979, 1, 1)\n",
    "    if start_date < min_date:\n",
    "        raise ValueError(\"GDELT only supports 'Jan 01 1979 - Present' queries currently. Try another date!\")\n",
    "    \n",
    "    date_diff = start_date - min_date\n",
    "    max_days = date_diff.days + 1\n",
    "    save_events(country_code, start_date, max_days, out_dir)\n",
    "\n",
    "country_code = \"AJ\"\n",
    "#start_date = date.today()\n",
    "start_date = date(1990, 1, 1)\n",
    "filter_events(country_code, start_date)\n",
    "#save_events(country_code, start_date, 1)\n",
    "#wayback_events(country_code, start_date)"
   ]
  },
  {
   "cell_type": "code",
   "execution_count": null,
   "metadata": {},
   "outputs": [],
   "source": []
  }
 ],
 "metadata": {
  "kernelspec": {
   "display_name": "Python 3",
   "language": "python",
   "name": "python3"
  },
  "language_info": {
   "codemirror_mode": {
    "name": "ipython",
    "version": 3
   },
   "file_extension": ".py",
   "mimetype": "text/x-python",
   "name": "python",
   "nbconvert_exporter": "python",
   "pygments_lexer": "ipython3",
   "version": "3.6.4"
  }
 },
 "nbformat": 4,
 "nbformat_minor": 2
}
