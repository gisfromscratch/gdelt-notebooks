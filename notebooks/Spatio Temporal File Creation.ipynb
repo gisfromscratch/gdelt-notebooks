{
 "cells": [
  {
   "cell_type": "markdown",
   "metadata": {},
   "source": [
    "# Spatio Temporal Files using extracted locations from the GDELT Knowledge Graph\n",
    "We are reading the CSV files into a pandas dataframe.\n",
    "The pandas dataframes are converted into a netcdf file using latitude, longitude and time.\n",
    "We are using xarray for the conversion from dataframe to netcdf."
   ]
  },
  {
   "cell_type": "code",
   "execution_count": 1,
   "metadata": {},
   "outputs": [
    {
     "name": "stdout",
     "output_type": "stream",
     "text": [
      "Requirement already satisfied: arcgis in c:\\program files\\arcgis\\pro\\bin\\python\\envs\\arcgispro-py3\\lib\\site-packages (1.7.0)\n",
      "Requirement already satisfied: netcdf4 in c:\\program files\\arcgis\\pro\\bin\\python\\envs\\arcgispro-py3\\lib\\site-packages (1.5.1.2)\n",
      "Requirement already satisfied: numpy>=1.7 in c:\\program files\\arcgis\\pro\\bin\\python\\envs\\arcgispro-py3\\lib\\site-packages (from netcdf4) (1.16.5)\n",
      "Requirement already satisfied: cftime in c:\\program files\\arcgis\\pro\\bin\\python\\envs\\arcgispro-py3\\lib\\site-packages (from netcdf4) (1.0.0b1)\n",
      "Requirement already satisfied: setuptools>=18.0 in c:\\program files\\arcgis\\pro\\bin\\python\\envs\\arcgispro-py3\\lib\\site-packages (from cftime->netcdf4) (41.2.0)\n",
      "Collecting cython (from cftime->netcdf4)\n",
      "  Downloading https://files.pythonhosted.org/packages/79/18/260304dd0108f550eb4c26aac14ee19050e0a028155a93cc41f8782b5395/Cython-0.29.15-cp36-cp36m-win_amd64.whl (1.7MB)\n",
      "Installing collected packages: cython\n",
      "Successfully installed cython-0.29.15\n"
     ]
    },
    {
     "name": "stderr",
     "output_type": "stream",
     "text": [
      "  WARNING: The scripts cygdb.exe, cython.exe and cythonize.exe are installed in 'C:\\Users\\jts\\AppData\\Roaming\\Python\\Python36\\Scripts' which is not on PATH.\n",
      "  Consider adding this directory to PATH or, if you prefer to suppress this warning, use --no-warn-script-location.\n"
     ]
    },
    {
     "name": "stdout",
     "output_type": "stream",
     "text": [
      "Collecting xarray\n",
      "  Downloading https://files.pythonhosted.org/packages/e3/25/cc8ccc40d21638ae8514ce2aef1f1db3036e31c2adea797c7501302726fa/xarray-0.15.0-py3-none-any.whl (650kB)\n",
      "Requirement already satisfied: pandas>=0.25 in c:\\program files\\arcgis\\pro\\bin\\python\\envs\\arcgispro-py3\\lib\\site-packages (from xarray) (0.25.1)\n",
      "Requirement already satisfied: numpy>=1.15 in c:\\program files\\arcgis\\pro\\bin\\python\\envs\\arcgispro-py3\\lib\\site-packages (from xarray) (1.16.5)\n",
      "Requirement already satisfied: pytz>=2017.2 in c:\\program files\\arcgis\\pro\\bin\\python\\envs\\arcgispro-py3\\lib\\site-packages\\pytz-2019.2-py3.6.egg (from pandas>=0.25->xarray) (2019.2)\n",
      "Requirement already satisfied: python-dateutil>=2.6.1 in c:\\program files\\arcgis\\pro\\bin\\python\\envs\\arcgispro-py3\\lib\\site-packages (from pandas>=0.25->xarray) (2.8.0)\n",
      "Requirement already satisfied: six>=1.5 in c:\\program files\\arcgis\\pro\\bin\\python\\envs\\arcgispro-py3\\lib\\site-packages (from python-dateutil>=2.6.1->pandas>=0.25->xarray) (1.12.0)\n",
      "Installing collected packages: xarray\n",
      "Successfully installed xarray-0.15.0\n"
     ]
    }
   ],
   "source": [
    "!pip install --user arcgis\n",
    "!pip install --user netcdf4\n",
    "!pip install --user xarray"
   ]
  },
  {
   "cell_type": "code",
   "execution_count": 2,
   "metadata": {},
   "outputs": [],
   "source": [
    "from datetime import date\n",
    "import os\n",
    "import pandas\n",
    "import tempfile\n",
    "import xarray"
   ]
  },
  {
   "cell_type": "markdown",
   "metadata": {},
   "source": [
    "# Read the extracted locations from the temp folder into a dataframe"
   ]
  },
  {
   "cell_type": "code",
   "execution_count": 3,
   "metadata": {},
   "outputs": [],
   "source": [
    "def read_gkg_locations_from_temp():\n",
    "    gkg_locations = None\n",
    "    with os.scandir(tempfile.gettempdir()) as dir_scanner:\n",
    "        for dir_entry in dir_scanner:\n",
    "            if dir_entry.is_file():\n",
    "                if dir_entry.name.endswith(\".gkg.csv\"):\n",
    "                        gkg_locations_temp = pandas.read_csv(dir_entry.path)\n",
    "                        if gkg_locations is None:\n",
    "                             gkg_locations = gkg_locations_temp\n",
    "                        else:\n",
    "                            gkg_locations = pandas.concat([gkg_locations, gkg_locations_temp], axis=0)\n",
    "    return gkg_locations"
   ]
  },
  {
   "cell_type": "code",
   "execution_count": 4,
   "metadata": {},
   "outputs": [],
   "source": [
    "corona_locations = read_gkg_locations_from_temp()\n",
    "corona_locations"
   ]
  },
  {
   "cell_type": "markdown",
   "metadata": {},
   "source": [
    "# Convert the DATE column to datetime values\n",
    "- Drop the original DATE column\n",
    "- Rename the columns"
   ]
  },
  {
   "cell_type": "code",
   "execution_count": 5,
   "metadata": {},
   "outputs": [
    {
     "ename": "AttributeError",
     "evalue": "'NoneType' object has no attribute 'apply'",
     "output_type": "error",
     "traceback": [
      "\u001b[1;31m---------------------------------------------------------------------------\u001b[0m",
      "\u001b[1;31mAttributeError\u001b[0m                            Traceback (most recent call last)",
      "\u001b[1;32m<ipython-input-5-3eac178fd588>\u001b[0m in \u001b[0;36m<module>\u001b[1;34m\u001b[0m\n\u001b[1;32m----> 1\u001b[1;33m \u001b[0mcorona_locations\u001b[0m\u001b[1;33m[\u001b[0m\u001b[1;34m\"time\"\u001b[0m\u001b[1;33m]\u001b[0m \u001b[1;33m=\u001b[0m \u001b[0mcorona_locations\u001b[0m\u001b[1;33m.\u001b[0m\u001b[0mapply\u001b[0m\u001b[1;33m(\u001b[0m\u001b[1;32mlambda\u001b[0m \u001b[0mrecord\u001b[0m\u001b[1;33m:\u001b[0m \u001b[0mpandas\u001b[0m\u001b[1;33m.\u001b[0m\u001b[0mto_datetime\u001b[0m\u001b[1;33m(\u001b[0m\u001b[0mstr\u001b[0m\u001b[1;33m(\u001b[0m\u001b[0mrecord\u001b[0m\u001b[1;33m[\u001b[0m\u001b[1;34m\"DATE\"\u001b[0m\u001b[1;33m]\u001b[0m\u001b[1;33m)\u001b[0m\u001b[1;33m,\u001b[0m \u001b[0mformat\u001b[0m\u001b[1;33m=\u001b[0m\u001b[1;34m\"%Y%m%d%H%M%S\"\u001b[0m\u001b[1;33m)\u001b[0m\u001b[1;33m,\u001b[0m \u001b[0maxis\u001b[0m\u001b[1;33m=\u001b[0m\u001b[1;36m1\u001b[0m\u001b[1;33m)\u001b[0m\u001b[1;33m\u001b[0m\u001b[1;33m\u001b[0m\u001b[0m\n\u001b[0m\u001b[0;32m      2\u001b[0m \u001b[0mcorona_locations\u001b[0m\u001b[1;33m.\u001b[0m\u001b[0mdrop\u001b[0m\u001b[1;33m(\u001b[0m\u001b[1;34m\"DATE\"\u001b[0m\u001b[1;33m,\u001b[0m \u001b[0maxis\u001b[0m\u001b[1;33m=\u001b[0m\u001b[1;36m1\u001b[0m\u001b[1;33m,\u001b[0m \u001b[0minplace\u001b[0m\u001b[1;33m=\u001b[0m\u001b[1;32mTrue\u001b[0m\u001b[1;33m)\u001b[0m\u001b[1;33m\u001b[0m\u001b[1;33m\u001b[0m\u001b[0m\n\u001b[0;32m      3\u001b[0m \u001b[0mcorona_locations\u001b[0m\u001b[1;33m.\u001b[0m\u001b[0mrename\u001b[0m\u001b[1;33m(\u001b[0m\u001b[0mcolumns\u001b[0m \u001b[1;33m=\u001b[0m \u001b[1;33m{\u001b[0m\u001b[1;34m\"Location_Lat\"\u001b[0m\u001b[1;33m:\u001b[0m\u001b[1;34m\"y\"\u001b[0m\u001b[1;33m,\u001b[0m \u001b[1;34m\"Location_Lon\"\u001b[0m\u001b[1;33m:\u001b[0m\u001b[1;34m\"x\"\u001b[0m\u001b[1;33m}\u001b[0m\u001b[1;33m,\u001b[0m \u001b[0minplace\u001b[0m\u001b[1;33m=\u001b[0m\u001b[1;32mTrue\u001b[0m\u001b[1;33m)\u001b[0m\u001b[1;33m\u001b[0m\u001b[1;33m\u001b[0m\u001b[0m\n",
      "\u001b[1;31mAttributeError\u001b[0m: 'NoneType' object has no attribute 'apply'"
     ]
    }
   ],
   "source": [
    "corona_locations[\"time\"] = corona_locations.apply(lambda record: pandas.to_datetime(str(record[\"DATE\"]), format=\"%Y%m%d%H%M%S\"), axis=1)\n",
    "corona_locations.drop(\"DATE\", axis=1, inplace=True)\n",
    "corona_locations.rename(columns = {\"Location_Lat\":\"y\", \"Location_Lon\":\"x\"}, inplace=True)"
   ]
  },
  {
   "cell_type": "markdown",
   "metadata": {},
   "source": [
    "# Convert the dataframe to a multidimensional xarray\n",
    "**Warning:** Compute intensive, going to stress your CPU and memory!\n",
    "- Set the dataframes index using longitude, latitude and date => Reduced to Geometry and time where Geometry is a string of x#y\n",
    "- We cannot use WKB because bytes are not supported by dataframes, xarray needs hashable objects and netcdf does not support tuples and high level objects\n",
    "- Aggregate into a field named \"count\" and drop the duplicate multi-index entries\n",
    "- Convert to a xarray and fill \"not a number\" values in count with 0"
   ]
  },
  {
   "cell_type": "code",
   "execution_count": 335,
   "metadata": {},
   "outputs": [
    {
     "data": {
      "text/html": [
       "<pre>&lt;xarray.Dataset&gt;\n",
       "Dimensions:   (Geometry: 12171, time: 172)\n",
       "Coordinates:\n",
       "  * Geometry  (Geometry) object &#x27;-0.010375#51.4776&#x27; ... &#x27;99.9435#7.56991&#x27;\n",
       "  * time      (time) datetime64[ns] 2020-03-14 ... 2020-03-15T19:15:00\n",
       "Data variables:\n",
       "    count     (Geometry, time) float64 0.0 0.0 0.0 0.0 0.0 ... 0.0 0.0 0.0 0.0</pre>"
      ],
      "text/plain": [
       "<xarray.Dataset>\n",
       "Dimensions:   (Geometry: 12171, time: 172)\n",
       "Coordinates:\n",
       "  * Geometry  (Geometry) object '-0.010375#51.4776' ... '99.9435#7.56991'\n",
       "  * time      (time) datetime64[ns] 2020-03-14 ... 2020-03-15T19:15:00\n",
       "Data variables:\n",
       "    count     (Geometry, time) float64 0.0 0.0 0.0 0.0 0.0 ... 0.0 0.0 0.0 0.0"
      ]
     },
     "execution_count": 335,
     "metadata": {},
     "output_type": "execute_result"
    }
   ],
   "source": [
    "def index_by_coordinates_and_time(locations):\n",
    "    locations_multi = locations[[\"x\", \"y\", \"time\"]].set_index([\"x\", \"y\", \"time\"])\n",
    "    locations_multi[\"count\"] = locations_multi.groupby(level=[0,1,2]).size()\n",
    "    locations_multi = locations_multi.loc[~locations_multi.index.duplicated(keep=\"first\")]\n",
    "    locations_xarray = locations_multi.to_xarray()\n",
    "    locations_xarray = locations_xarray.fillna(0)\n",
    "    del locations_multi\n",
    "    return locations_xarray\n",
    "\n",
    "def index_by_location_and_time(locations):\n",
    "    locations_multi = locations[[\"Location_Name\", \"time\"]].set_index([\"Location_Name\", \"time\"])\n",
    "    locations_multi[\"count\"] = locations_multi.groupby(level=[0,1]).size()\n",
    "    locations_multi = locations_multi.loc[~locations_multi.index.duplicated(keep=\"first\")]\n",
    "    locations_xarray = locations_multi.to_xarray()\n",
    "    locations_xarray = locations_xarray.fillna(0)\n",
    "    del locations_multi\n",
    "    return locations_xarray\n",
    "\n",
    "def to_plaintext(x, y):\n",
    "    return \"{}#{}\".format(x, y)\n",
    "\n",
    "def index_by_geometry_and_time(locations):\n",
    "    locations_multi = locations[[\"x\", \"y\", \"time\"]].copy(deep=True)\n",
    "    locations_multi[\"Geometry\"] = locations_multi.apply(lambda record: to_plaintext(record[\"x\"], record[\"y\"]), axis=1)\n",
    "    locations_multi = locations_multi[[\"Geometry\", \"time\"]].set_index([\"Geometry\", \"time\"])\n",
    "    locations_multi[\"count\"] = locations_multi.groupby(level=[0,1]).size()\n",
    "    locations_multi = locations_multi.loc[~locations_multi.index.duplicated(keep=\"first\")]\n",
    "    locations_xarray = locations_multi.to_xarray()\n",
    "    locations_xarray = locations_xarray.fillna(0)\n",
    "    del locations_multi\n",
    "    return locations_xarray\n",
    "\n",
    "#corona_locations_xarray = index_by_coordinates_and_time(corona_locations)\n",
    "#corona_locations_xarray = index_by_location_and_time(corona_locations)\n",
    "corona_locations_xarray = index_by_geometry_and_time(corona_locations)\n",
    "corona_locations_xarray"
   ]
  },
  {
   "cell_type": "code",
   "execution_count": 336,
   "metadata": {},
   "outputs": [
    {
     "data": {
      "text/html": [
       "<pre>&lt;xarray.DataArray &#x27;count&#x27; ()&gt;\n",
       "array(0.1513596)</pre>"
      ],
      "text/plain": [
       "<xarray.DataArray 'count' ()>\n",
       "array(0.1513596)"
      ]
     },
     "execution_count": 336,
     "metadata": {},
     "output_type": "execute_result"
    }
   ],
   "source": [
    "corona_locations_xarray[\"count\"].mean()"
   ]
  },
  {
   "cell_type": "markdown",
   "metadata": {},
   "source": [
    "# Save the xarray as a netcdf file\n",
    "- **Error:** module 'dask.base' has no attribute 'get_scheduler'\n",
    "- **Note:** We had to update dask to version '2.12.0'"
   ]
  },
  {
   "cell_type": "code",
   "execution_count": 337,
   "metadata": {},
   "outputs": [],
   "source": [
    "corona_locations_xarray.to_netcdf(\"{}/corona_locations_{}.gkg.nc\".format(tempfile.gettempdir(), date.today().strftime(\"%Y%m%d\"), compute=True))\n",
    "\n",
    "del corona_locations\n",
    "del corona_locations_xarray"
   ]
  },
  {
   "cell_type": "code",
   "execution_count": null,
   "metadata": {},
   "outputs": [],
   "source": []
  }
 ],
 "metadata": {
  "kernelspec": {
   "display_name": "Python 3",
   "language": "python",
   "name": "python3"
  },
  "language_info": {
   "codemirror_mode": {
    "name": "ipython",
    "version": 3
   },
   "file_extension": ".py",
   "mimetype": "text/x-python",
   "name": "python",
   "nbconvert_exporter": "python",
   "pygments_lexer": "ipython3",
   "version": "3.6.9"
  }
 },
 "nbformat": 4,
 "nbformat_minor": 2
}
