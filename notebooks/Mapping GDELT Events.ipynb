{
 "cells": [
  {
   "cell_type": "markdown",
   "metadata": {},
   "source": [
    "# Mapping GDELT Events"
   ]
  },
  {
   "cell_type": "markdown",
   "metadata": {},
   "source": [
    "## Requirements"
   ]
  },
  {
   "cell_type": "code",
   "execution_count": null,
   "metadata": {},
   "outputs": [],
   "source": [
    "!pip install --user arcgis\n",
    "!pip install --user gdelt"
   ]
  },
  {
   "cell_type": "markdown",
   "metadata": {},
   "source": [
    "## Import modules"
   ]
  },
  {
   "cell_type": "code",
   "execution_count": 1,
   "metadata": {},
   "outputs": [],
   "source": [
    "from arcgis.gis import GIS\n",
    "from arcgis.features import GeoAccessor as geo\n",
    "from datetime import date, timedelta \n",
    "from gdelt import gdelt as gdelt_client\n",
    "import matplotlib.pyplot as plot\n",
    "import seaborn"
   ]
  },
  {
   "cell_type": "markdown",
   "metadata": {},
   "source": [
    "## Getting GDELT events of today or yesterday\n",
    "Date must be formatted as a string."
   ]
  },
  {
   "cell_type": "code",
   "execution_count": 2,
   "metadata": {},
   "outputs": [],
   "source": [
    "def get_events(date):\n",
    "    client = gdelt_client(version=2)\n",
    "    events = client.Search(date.strftime(\"%Y %m %d\"), table=\"events\", coverage=True)\n",
    "    del client\n",
    "    return events\n",
    "\n",
    "def get_today_events():\n",
    "    return get_events(date.today())\n",
    "\n",
    "def get_yesterday_events():\n",
    "    return get_events(date.today()-timedelta(days=1))"
   ]
  },
  {
   "cell_type": "code",
   "execution_count": 3,
   "metadata": {},
   "outputs": [
    {
     "data": {
      "text/html": [
       "<div>\n",
       "<style scoped>\n",
       "    .dataframe tbody tr th:only-of-type {\n",
       "        vertical-align: middle;\n",
       "    }\n",
       "\n",
       "    .dataframe tbody tr th {\n",
       "        vertical-align: top;\n",
       "    }\n",
       "\n",
       "    .dataframe thead th {\n",
       "        text-align: right;\n",
       "    }\n",
       "</style>\n",
       "<table border=\"1\" class=\"dataframe\">\n",
       "  <thead>\n",
       "    <tr style=\"text-align: right;\">\n",
       "      <th></th>\n",
       "      <th>GLOBALEVENTID</th>\n",
       "      <th>SQLDATE</th>\n",
       "      <th>MonthYear</th>\n",
       "      <th>Year</th>\n",
       "      <th>FractionDate</th>\n",
       "      <th>IsRootEvent</th>\n",
       "      <th>QuadClass</th>\n",
       "      <th>GoldsteinScale</th>\n",
       "      <th>NumMentions</th>\n",
       "      <th>NumSources</th>\n",
       "      <th>...</th>\n",
       "      <th>Actor1Geo_Type</th>\n",
       "      <th>Actor1Geo_Lat</th>\n",
       "      <th>Actor1Geo_Long</th>\n",
       "      <th>Actor2Geo_Type</th>\n",
       "      <th>Actor2Geo_Lat</th>\n",
       "      <th>Actor2Geo_Long</th>\n",
       "      <th>ActionGeo_Type</th>\n",
       "      <th>ActionGeo_Lat</th>\n",
       "      <th>ActionGeo_Long</th>\n",
       "      <th>DATEADDED</th>\n",
       "    </tr>\n",
       "  </thead>\n",
       "  <tbody>\n",
       "    <tr>\n",
       "      <th>count</th>\n",
       "      <td>2.149300e+04</td>\n",
       "      <td>2.149300e+04</td>\n",
       "      <td>21493.000000</td>\n",
       "      <td>21493.000000</td>\n",
       "      <td>21493.000000</td>\n",
       "      <td>21493.000000</td>\n",
       "      <td>21493.000000</td>\n",
       "      <td>21493.000000</td>\n",
       "      <td>21493.000000</td>\n",
       "      <td>21493.000000</td>\n",
       "      <td>...</td>\n",
       "      <td>21493.000000</td>\n",
       "      <td>18699.000000</td>\n",
       "      <td>18701.000000</td>\n",
       "      <td>21493.000000</td>\n",
       "      <td>14229.000000</td>\n",
       "      <td>14230.000000</td>\n",
       "      <td>21493.000000</td>\n",
       "      <td>20828.000000</td>\n",
       "      <td>20830.000000</td>\n",
       "      <td>2.149300e+04</td>\n",
       "    </tr>\n",
       "    <tr>\n",
       "      <th>mean</th>\n",
       "      <td>9.542017e+08</td>\n",
       "      <td>2.020106e+07</td>\n",
       "      <td>202010.547760</td>\n",
       "      <td>2019.995580</td>\n",
       "      <td>2020.836276</td>\n",
       "      <td>0.514633</td>\n",
       "      <td>1.798260</td>\n",
       "      <td>0.454841</td>\n",
       "      <td>4.968455</td>\n",
       "      <td>1.132880</td>\n",
       "      <td>...</td>\n",
       "      <td>2.396269</td>\n",
       "      <td>31.790814</td>\n",
       "      <td>-22.413706</td>\n",
       "      <td>1.830736</td>\n",
       "      <td>31.611770</td>\n",
       "      <td>-19.875901</td>\n",
       "      <td>2.678360</td>\n",
       "      <td>31.373551</td>\n",
       "      <td>-22.176108</td>\n",
       "      <td>2.020111e+13</td>\n",
       "    </tr>\n",
       "    <tr>\n",
       "      <th>std</th>\n",
       "      <td>8.832235e+03</td>\n",
       "      <td>6.633097e+02</td>\n",
       "      <td>6.633868</td>\n",
       "      <td>0.066338</td>\n",
       "      <td>0.066321</td>\n",
       "      <td>0.499797</td>\n",
       "      <td>1.106956</td>\n",
       "      <td>4.513479</td>\n",
       "      <td>5.638806</td>\n",
       "      <td>0.910842</td>\n",
       "      <td>...</td>\n",
       "      <td>1.430927</td>\n",
       "      <td>19.521295</td>\n",
       "      <td>77.823786</td>\n",
       "      <td>1.623194</td>\n",
       "      <td>19.556769</td>\n",
       "      <td>78.178721</td>\n",
       "      <td>1.245941</td>\n",
       "      <td>19.731835</td>\n",
       "      <td>78.130335</td>\n",
       "      <td>9.312152e+03</td>\n",
       "    </tr>\n",
       "    <tr>\n",
       "      <th>min</th>\n",
       "      <td>9.541879e+08</td>\n",
       "      <td>2.019111e+07</td>\n",
       "      <td>201911.000000</td>\n",
       "      <td>2019.000000</td>\n",
       "      <td>2019.843800</td>\n",
       "      <td>0.000000</td>\n",
       "      <td>1.000000</td>\n",
       "      <td>-10.000000</td>\n",
       "      <td>1.000000</td>\n",
       "      <td>1.000000</td>\n",
       "      <td>...</td>\n",
       "      <td>0.000000</td>\n",
       "      <td>-85.622100</td>\n",
       "      <td>-175.000000</td>\n",
       "      <td>0.000000</td>\n",
       "      <td>-45.933300</td>\n",
       "      <td>-172.178309</td>\n",
       "      <td>0.000000</td>\n",
       "      <td>-85.622100</td>\n",
       "      <td>-172.178309</td>\n",
       "      <td>2.020111e+13</td>\n",
       "    </tr>\n",
       "    <tr>\n",
       "      <th>25%</th>\n",
       "      <td>9.541932e+08</td>\n",
       "      <td>2.020111e+07</td>\n",
       "      <td>202011.000000</td>\n",
       "      <td>2020.000000</td>\n",
       "      <td>2020.841100</td>\n",
       "      <td>0.000000</td>\n",
       "      <td>1.000000</td>\n",
       "      <td>-2.000000</td>\n",
       "      <td>2.000000</td>\n",
       "      <td>1.000000</td>\n",
       "      <td>...</td>\n",
       "      <td>1.000000</td>\n",
       "      <td>27.833300</td>\n",
       "      <td>-83.648700</td>\n",
       "      <td>0.000000</td>\n",
       "      <td>27.833300</td>\n",
       "      <td>-83.648700</td>\n",
       "      <td>2.000000</td>\n",
       "      <td>27.748100</td>\n",
       "      <td>-83.648700</td>\n",
       "      <td>2.020111e+13</td>\n",
       "    </tr>\n",
       "    <tr>\n",
       "      <th>50%</th>\n",
       "      <td>9.542018e+08</td>\n",
       "      <td>2.020111e+07</td>\n",
       "      <td>202011.000000</td>\n",
       "      <td>2020.000000</td>\n",
       "      <td>2020.841100</td>\n",
       "      <td>1.000000</td>\n",
       "      <td>1.000000</td>\n",
       "      <td>1.000000</td>\n",
       "      <td>4.000000</td>\n",
       "      <td>1.000000</td>\n",
       "      <td>...</td>\n",
       "      <td>2.000000</td>\n",
       "      <td>37.768000</td>\n",
       "      <td>-70.666700</td>\n",
       "      <td>2.000000</td>\n",
       "      <td>37.553800</td>\n",
       "      <td>-43.263300</td>\n",
       "      <td>3.000000</td>\n",
       "      <td>37.400100</td>\n",
       "      <td>-69.397700</td>\n",
       "      <td>2.020111e+13</td>\n",
       "    </tr>\n",
       "    <tr>\n",
       "      <th>75%</th>\n",
       "      <td>9.542095e+08</td>\n",
       "      <td>2.020111e+07</td>\n",
       "      <td>202011.000000</td>\n",
       "      <td>2020.000000</td>\n",
       "      <td>2020.841100</td>\n",
       "      <td>1.000000</td>\n",
       "      <td>3.000000</td>\n",
       "      <td>3.400000</td>\n",
       "      <td>6.000000</td>\n",
       "      <td>1.000000</td>\n",
       "      <td>...</td>\n",
       "      <td>4.000000</td>\n",
       "      <td>42.149700</td>\n",
       "      <td>35.233300</td>\n",
       "      <td>3.000000</td>\n",
       "      <td>42.149700</td>\n",
       "      <td>35.776800</td>\n",
       "      <td>4.000000</td>\n",
       "      <td>42.149700</td>\n",
       "      <td>35.233300</td>\n",
       "      <td>2.020111e+13</td>\n",
       "    </tr>\n",
       "    <tr>\n",
       "      <th>max</th>\n",
       "      <td>9.542170e+08</td>\n",
       "      <td>2.020111e+07</td>\n",
       "      <td>202011.000000</td>\n",
       "      <td>2020.000000</td>\n",
       "      <td>2020.841100</td>\n",
       "      <td>1.000000</td>\n",
       "      <td>4.000000</td>\n",
       "      <td>10.000000</td>\n",
       "      <td>164.000000</td>\n",
       "      <td>27.000000</td>\n",
       "      <td>...</td>\n",
       "      <td>5.000000</td>\n",
       "      <td>68.900000</td>\n",
       "      <td>179.500000</td>\n",
       "      <td>5.000000</td>\n",
       "      <td>65.000000</td>\n",
       "      <td>179.500000</td>\n",
       "      <td>5.000000</td>\n",
       "      <td>68.900000</td>\n",
       "      <td>179.500000</td>\n",
       "      <td>2.020111e+13</td>\n",
       "    </tr>\n",
       "  </tbody>\n",
       "</table>\n",
       "<p>8 rows × 22 columns</p>\n",
       "</div>"
      ],
      "text/plain": [
       "       GLOBALEVENTID       SQLDATE      MonthYear          Year  FractionDate  \\\n",
       "count   2.149300e+04  2.149300e+04   21493.000000  21493.000000  21493.000000   \n",
       "mean    9.542017e+08  2.020106e+07  202010.547760   2019.995580   2020.836276   \n",
       "std     8.832235e+03  6.633097e+02       6.633868      0.066338      0.066321   \n",
       "min     9.541879e+08  2.019111e+07  201911.000000   2019.000000   2019.843800   \n",
       "25%     9.541932e+08  2.020111e+07  202011.000000   2020.000000   2020.841100   \n",
       "50%     9.542018e+08  2.020111e+07  202011.000000   2020.000000   2020.841100   \n",
       "75%     9.542095e+08  2.020111e+07  202011.000000   2020.000000   2020.841100   \n",
       "max     9.542170e+08  2.020111e+07  202011.000000   2020.000000   2020.841100   \n",
       "\n",
       "        IsRootEvent     QuadClass  GoldsteinScale   NumMentions    NumSources  \\\n",
       "count  21493.000000  21493.000000    21493.000000  21493.000000  21493.000000   \n",
       "mean       0.514633      1.798260        0.454841      4.968455      1.132880   \n",
       "std        0.499797      1.106956        4.513479      5.638806      0.910842   \n",
       "min        0.000000      1.000000      -10.000000      1.000000      1.000000   \n",
       "25%        0.000000      1.000000       -2.000000      2.000000      1.000000   \n",
       "50%        1.000000      1.000000        1.000000      4.000000      1.000000   \n",
       "75%        1.000000      3.000000        3.400000      6.000000      1.000000   \n",
       "max        1.000000      4.000000       10.000000    164.000000     27.000000   \n",
       "\n",
       "       ...  Actor1Geo_Type  Actor1Geo_Lat  Actor1Geo_Long  Actor2Geo_Type  \\\n",
       "count  ...    21493.000000   18699.000000    18701.000000    21493.000000   \n",
       "mean   ...        2.396269      31.790814      -22.413706        1.830736   \n",
       "std    ...        1.430927      19.521295       77.823786        1.623194   \n",
       "min    ...        0.000000     -85.622100     -175.000000        0.000000   \n",
       "25%    ...        1.000000      27.833300      -83.648700        0.000000   \n",
       "50%    ...        2.000000      37.768000      -70.666700        2.000000   \n",
       "75%    ...        4.000000      42.149700       35.233300        3.000000   \n",
       "max    ...        5.000000      68.900000      179.500000        5.000000   \n",
       "\n",
       "       Actor2Geo_Lat  Actor2Geo_Long  ActionGeo_Type  ActionGeo_Lat  \\\n",
       "count   14229.000000    14230.000000    21493.000000   20828.000000   \n",
       "mean       31.611770      -19.875901        2.678360      31.373551   \n",
       "std        19.556769       78.178721        1.245941      19.731835   \n",
       "min       -45.933300     -172.178309        0.000000     -85.622100   \n",
       "25%        27.833300      -83.648700        2.000000      27.748100   \n",
       "50%        37.553800      -43.263300        3.000000      37.400100   \n",
       "75%        42.149700       35.776800        4.000000      42.149700   \n",
       "max        65.000000      179.500000        5.000000      68.900000   \n",
       "\n",
       "       ActionGeo_Long     DATEADDED  \n",
       "count    20830.000000  2.149300e+04  \n",
       "mean       -22.176108  2.020111e+13  \n",
       "std         78.130335  9.312152e+03  \n",
       "min       -172.178309  2.020111e+13  \n",
       "25%        -83.648700  2.020111e+13  \n",
       "50%        -69.397700  2.020111e+13  \n",
       "75%         35.233300  2.020111e+13  \n",
       "max        179.500000  2.020111e+13  \n",
       "\n",
       "[8 rows x 22 columns]"
      ]
     },
     "execution_count": 3,
     "metadata": {},
     "output_type": "execute_result"
    }
   ],
   "source": [
    "#events = get_today_events()\n",
    "events = get_yesterday_events()\n",
    "events.describe()"
   ]
  },
  {
   "cell_type": "markdown",
   "metadata": {},
   "source": [
    "## Plot the number of sources\n",
    "We are using a logarithmic scale for plotting the number of sources."
   ]
  },
  {
   "cell_type": "code",
   "execution_count": 4,
   "metadata": {},
   "outputs": [
    {
     "data": {
      "text/plain": [
       "Text(0,0.5,'Count')"
      ]
     },
     "execution_count": 4,
     "metadata": {},
     "output_type": "execute_result"
    },
    {
     "data": {
      "image/png": "[encoded data removed]",
      "text/plain": [
       "<Figure size 1080x504 with 1 Axes>"
      ]
     },
     "metadata": {},
     "output_type": "display_data"
    }
   ],
   "source": [
    "seaborn.set_style(\"whitegrid\")\n",
    "plot.rcParams[\"figure.figsize\"] = (15, 7)\n",
    "\n",
    "figure, axis = plot.subplots()\n",
    "events[\"NumSources\"].hist(ax=axis, bins=100)\n",
    "axis.set_yscale(\"log\")\n",
    "axis.tick_params(labelsize=14)\n",
    "axis.set_xlabel(\"Sources\", fontsize=14)\n",
    "axis.set_ylabel(\"Count\", fontsize=14)"
   ]
  },
  {
   "cell_type": "markdown",
   "metadata": {},
   "source": [
    "## Connect to ArcGIS Online anonymously"
   ]
  },
  {
   "cell_type": "code",
   "execution_count": 5,
   "metadata": {},
   "outputs": [],
   "source": [
    "gis = GIS()"
   ]
  },
  {
   "cell_type": "markdown",
   "metadata": {},
   "source": [
    "## Display a map of europe\n",
    "***Hint:*** *map.basemaps shows a list of all available basemaps*"
   ]
  },
  {
   "cell_type": "code",
   "execution_count": 6,
   "metadata": {},
   "outputs": [],
   "source": [
    "def get_europe_map():\n",
    "    focus_map = gis.map(\"Europe\")\n",
    "    focus_map.basemap = \"dark-gray-vector\"\n",
    "    return focus_map\n",
    "\n",
    "focus_map = get_europe_map()"
   ]
  },
  {
   "cell_type": "code",
   "execution_count": 7,
   "metadata": {
    "scrolled": true
   },
   "outputs": [
    {
     "data": {
      "application/vnd.jupyter.widget-view+json": {
       "model_id": "7999fdcde3034247b0991a19137920bb",
       "version_major": 2,
       "version_minor": 0
      },
      "text/html": [
       "<p>Failed to display Jupyter Widget of type <code>MapView</code>.</p>\n",
       "<p>\n",
       "  If you're reading this message in the Jupyter Notebook or JupyterLab Notebook, it may mean\n",
       "  that the widgets JavaScript is still loading. If this message persists, it\n",
       "  likely means that the widgets JavaScript library is either not installed or\n",
       "  not enabled. See the <a href=\"https://ipywidgets.readthedocs.io/en/stable/user_install.html\">Jupyter\n",
       "  Widgets Documentation</a> for setup instructions.\n",
       "</p>\n",
       "<p>\n",
       "  If you're reading this message in another frontend (for example, a static\n",
       "  rendering on GitHub or <a href=\"https://nbviewer.jupyter.org/\">NBViewer</a>),\n",
       "  it may mean that your frontend doesn't currently support widgets.\n",
       "</p>\n"
      ],
      "text/plain": [
       "MapView(layout=Layout(height='400px', width='100%'))"
      ]
     },
     "metadata": {},
     "output_type": "display_data"
    },
    {
     "data": {
      "text/html": [
       "<div class=\"map-static-img-preview-9abc4df0-5de4-4ab7-adfb-2bd6f876b76f\"><img src=\"\"></img></div>"
      ],
      "text/plain": [
       "<IPython.core.display.HTML object>"
      ]
     },
     "metadata": {},
     "output_type": "display_data"
    }
   ],
   "source": [
    "focus_map"
   ]
  },
  {
   "cell_type": "markdown",
   "metadata": {},
   "source": [
    "## Create a spatial dataframe for mapping the events from the pandas dataframe\n",
    "We are using the ActionGeo_Long and ActionGeo_Lat for locating the events. The spatial reference is WGS84 having EPSG-Code of 4326.\n",
    "- Extract only the columns relevant for mapping and having a simple type (e.g. int64, float64)\n",
    "- We are dropping all records having \"not a number\" for latitude or longitude\n",
    "- We are slicing and creating a deep copy from the events dataframe"
   ]
  },
  {
   "cell_type": "code",
   "execution_count": 8,
   "metadata": {
    "scrolled": true
   },
   "outputs": [
    {
     "name": "stdout",
     "output_type": "stream",
     "text": [
      "<class 'pandas.core.frame.DataFrame'>\n",
      "Int64Index: 51802 entries, 0 to 53241\n",
      "Data columns (total 7 columns):\n",
      " #   Column              Non-Null Count  Dtype   \n",
      "---  ------              --------------  -----   \n",
      " 0   GLOBALEVENTID       51802 non-null  int64   \n",
      " 1   ActionGeo_FullName  51802 non-null  object  \n",
      " 2   ActionGeo_Long      51802 non-null  float64 \n",
      " 3   ActionGeo_Lat       51802 non-null  float64 \n",
      " 4   NumMentions         51802 non-null  int64   \n",
      " 5   SOURCEURL           51802 non-null  object  \n",
      " 6   SHAPE               51802 non-null  geometry\n",
      "dtypes: float64(2), geometry(1), int64(2), object(2)\n",
      "memory usage: 3.2+ MB\n"
     ]
    }
   ],
   "source": [
    "mapping_events = events[[\"GLOBALEVENTID\", \n",
    "                         \"ActionGeo_FullName\", \n",
    "                         \"ActionGeo_Long\", \n",
    "                         \"ActionGeo_Lat\", \n",
    "                         \"NumMentions\", \n",
    "                         \"SOURCEURL\"]].dropna(subset=[\"ActionGeo_Lat\", \"ActionGeo_Long\"]) \n",
    "geo_events = geo.from_xy(mapping_events, x_column=\"ActionGeo_Long\", y_column=\"ActionGeo_Lat\", sr=4326)\n",
    "geo_events.info()"
   ]
  },
  {
   "cell_type": "markdown",
   "metadata": {},
   "source": [
    "## Display a subset of GDELT events on the map\n",
    "- Sort the events by using the number of mentions in all source documents. The number of mentions could be used to determine how important the event is. Multiple references within a single document are counted too."
   ]
  },
  {
   "cell_type": "code",
   "execution_count": 9,
   "metadata": {},
   "outputs": [
    {
     "data": {
      "application/vnd.jupyter.widget-view+json": {
       "model_id": "addd6f3cd261463f93556e95431a8e74",
       "version_major": 2,
       "version_minor": 0
      },
      "text/html": [
       "<p>Failed to display Jupyter Widget of type <code>MapView</code>.</p>\n",
       "<p>\n",
       "  If you're reading this message in the Jupyter Notebook or JupyterLab Notebook, it may mean\n",
       "  that the widgets JavaScript is still loading. If this message persists, it\n",
       "  likely means that the widgets JavaScript library is either not installed or\n",
       "  not enabled. See the <a href=\"https://ipywidgets.readthedocs.io/en/stable/user_install.html\">Jupyter\n",
       "  Widgets Documentation</a> for setup instructions.\n",
       "</p>\n",
       "<p>\n",
       "  If you're reading this message in another frontend (for example, a static\n",
       "  rendering on GitHub or <a href=\"https://nbviewer.jupyter.org/\">NBViewer</a>),\n",
       "  it may mean that your frontend doesn't currently support widgets.\n",
       "</p>\n"
      ],
      "text/plain": [
       "MapView(layout=Layout(height='400px', width='100%'))"
      ]
     },
     "metadata": {},
     "output_type": "display_data"
    },
    {
     "data": {
      "text/html": [
       "<div class=\"map-static-img-preview-07057cfe-1bd2-40a8-b57e-e293e20bd1e3\"><img src=\"\"></img></div>"
      ],
      "text/plain": [
       "<IPython.core.display.HTML object>"
      ]
     },
     "metadata": {},
     "output_type": "display_data"
    }
   ],
   "source": [
    "del focus_map\n",
    "focus_map = get_europe_map()\n",
    "top_mapping_events = mapping_events.sort_values(by=\"NumMentions\", ascending=False).head(n=1000)\n",
    "top_geo_events = geo.from_xy(top_mapping_events, x_column=\"ActionGeo_Long\", y_column=\"ActionGeo_Lat\", sr=4326)\n",
    "top_geo_events.spatial.plot(map_widget=focus_map)\n",
    "focus_map"
   ]
  },
  {
   "cell_type": "markdown",
   "metadata": {},
   "source": [
    "## Display the GDELT events using a heatmap\n",
    "We are creating a new map widget and convert all \"mapping events\" to a spatial data frame."
   ]
  },
  {
   "cell_type": "code",
   "execution_count": 10,
   "metadata": {},
   "outputs": [
    {
     "data": {
      "application/vnd.jupyter.widget-view+json": {
       "model_id": "a2d60e5a230f4dec9908830687522fea",
       "version_major": 2,
       "version_minor": 0
      },
      "text/html": [
       "<p>Failed to display Jupyter Widget of type <code>MapView</code>.</p>\n",
       "<p>\n",
       "  If you're reading this message in the Jupyter Notebook or JupyterLab Notebook, it may mean\n",
       "  that the widgets JavaScript is still loading. If this message persists, it\n",
       "  likely means that the widgets JavaScript library is either not installed or\n",
       "  not enabled. See the <a href=\"https://ipywidgets.readthedocs.io/en/stable/user_install.html\">Jupyter\n",
       "  Widgets Documentation</a> for setup instructions.\n",
       "</p>\n",
       "<p>\n",
       "  If you're reading this message in another frontend (for example, a static\n",
       "  rendering on GitHub or <a href=\"https://nbviewer.jupyter.org/\">NBViewer</a>),\n",
       "  it may mean that your frontend doesn't currently support widgets.\n",
       "</p>\n"
      ],
      "text/plain": [
       "MapView(layout=Layout(height='400px', width='100%'))"
      ]
     },
     "metadata": {},
     "output_type": "display_data"
    },
    {
     "data": {
      "text/html": [
       "<div class=\"map-static-img-preview-bb456d98-c8f0-41b6-8efd-19f8b39017d0\"><img src=\"\"></img></div>"
      ],
      "text/plain": [
       "<IPython.core.display.HTML object>"
      ]
     },
     "metadata": {},
     "output_type": "display_data"
    }
   ],
   "source": [
    "del focus_map\n",
    "heat_focus_map = get_europe_map()\n",
    "geo_events.spatial.plot(map_widget=heat_focus_map, renderer_type=\"h\")\n",
    "heat_focus_map"
   ]
  },
  {
   "cell_type": "code",
   "execution_count": null,
   "metadata": {},
   "outputs": [],
   "source": []
  }
 ],
 "metadata": {
  "kernelspec": {
   "display_name": "Python 3",
   "language": "python",
   "name": "python3"
  },
  "language_info": {
   "codemirror_mode": {
    "name": "ipython",
    "version": 3
   },
   "file_extension": ".py",
   "mimetype": "text/x-python",
   "name": "python",
   "nbconvert_exporter": "python",
   "pygments_lexer": "ipython3",
   "version": "3.6.4"
  }
 },
 "nbformat": 4,
 "nbformat_minor": 2
}
