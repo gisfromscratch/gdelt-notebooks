{
 "cells": [
  {
   "cell_type": "markdown",
   "metadata": {},
   "source": [
    "# Mapping GDELT Events"
   ]
  },
  {
   "cell_type": "markdown",
   "metadata": {},
   "source": [
    "## Requirements"
   ]
  },
  {
   "cell_type": "code",
   "execution_count": null,
   "metadata": {},
   "outputs": [],
   "source": [
    "!pip install --user arcgis\n",
    "!pip install --user gdelt"
   ]
  },
  {
   "cell_type": "markdown",
   "metadata": {},
   "source": [
    "## Import modules"
   ]
  },
  {
   "cell_type": "code",
   "execution_count": 1,
   "metadata": {},
   "outputs": [],
   "source": [
    "from arcgis.gis import GIS\n",
    "from arcgis.features import GeoAccessor as geo\n",
    "from datetime import date\n",
    "from gdelt import gdelt as gdelt_client\n",
    "import matplotlib.pyplot as plot\n",
    "import seaborn"
   ]
  },
  {
   "cell_type": "markdown",
   "metadata": {},
   "source": [
    "## Getting GDELT events of today\n",
    "Date must be formatted as a string."
   ]
  },
  {
   "cell_type": "code",
   "execution_count": 2,
   "metadata": {},
   "outputs": [],
   "source": [
    "def get_events(date):\n",
    "    client = gdelt_client(version=2)\n",
    "    events = client.Search(date.strftime(\"%Y %m %d\"), table=\"events\", coverage=True)\n",
    "    del client\n",
    "    return events\n",
    "\n",
    "def get_today_events():\n",
    "    return get_events(date.today())"
   ]
  },
  {
   "cell_type": "code",
   "execution_count": 3,
   "metadata": {},
   "outputs": [
    {
     "data": {
      "text/html": [
       "<div>\n",
       "<style scoped>\n",
       "    .dataframe tbody tr th:only-of-type {\n",
       "        vertical-align: middle;\n",
       "    }\n",
       "\n",
       "    .dataframe tbody tr th {\n",
       "        vertical-align: top;\n",
       "    }\n",
       "\n",
       "    .dataframe thead th {\n",
       "        text-align: right;\n",
       "    }\n",
       "</style>\n",
       "<table border=\"1\" class=\"dataframe\">\n",
       "  <thead>\n",
       "    <tr style=\"text-align: right;\">\n",
       "      <th></th>\n",
       "      <th>GLOBALEVENTID</th>\n",
       "      <th>SQLDATE</th>\n",
       "      <th>MonthYear</th>\n",
       "      <th>Year</th>\n",
       "      <th>FractionDate</th>\n",
       "      <th>IsRootEvent</th>\n",
       "      <th>QuadClass</th>\n",
       "      <th>GoldsteinScale</th>\n",
       "      <th>NumMentions</th>\n",
       "      <th>NumSources</th>\n",
       "      <th>...</th>\n",
       "      <th>Actor1Geo_Type</th>\n",
       "      <th>Actor1Geo_Lat</th>\n",
       "      <th>Actor1Geo_Long</th>\n",
       "      <th>Actor2Geo_Type</th>\n",
       "      <th>Actor2Geo_Lat</th>\n",
       "      <th>Actor2Geo_Long</th>\n",
       "      <th>ActionGeo_Type</th>\n",
       "      <th>ActionGeo_Lat</th>\n",
       "      <th>ActionGeo_Long</th>\n",
       "      <th>DATEADDED</th>\n",
       "    </tr>\n",
       "  </thead>\n",
       "  <tbody>\n",
       "    <tr>\n",
       "      <th>count</th>\n",
       "      <td>1.084160e+05</td>\n",
       "      <td>1.084160e+05</td>\n",
       "      <td>108416.000000</td>\n",
       "      <td>108416.000000</td>\n",
       "      <td>108416.000000</td>\n",
       "      <td>108416.000000</td>\n",
       "      <td>108416.00000</td>\n",
       "      <td>108416.000000</td>\n",
       "      <td>108416.000000</td>\n",
       "      <td>108416.000000</td>\n",
       "      <td>...</td>\n",
       "      <td>108416.000000</td>\n",
       "      <td>95162.000000</td>\n",
       "      <td>95171.000000</td>\n",
       "      <td>108416.000000</td>\n",
       "      <td>74520.000000</td>\n",
       "      <td>74524.000000</td>\n",
       "      <td>108416.000000</td>\n",
       "      <td>105429.000000</td>\n",
       "      <td>105434.000000</td>\n",
       "      <td>1.084160e+05</td>\n",
       "    </tr>\n",
       "    <tr>\n",
       "      <th>mean</th>\n",
       "      <td>9.412113e+08</td>\n",
       "      <td>2.020073e+07</td>\n",
       "      <td>202007.101913</td>\n",
       "      <td>2019.991071</td>\n",
       "      <td>2020.612342</td>\n",
       "      <td>0.580293</td>\n",
       "      <td>1.76699</td>\n",
       "      <td>0.659217</td>\n",
       "      <td>5.058395</td>\n",
       "      <td>1.066724</td>\n",
       "      <td>...</td>\n",
       "      <td>2.502287</td>\n",
       "      <td>30.074704</td>\n",
       "      <td>1.359797</td>\n",
       "      <td>1.950266</td>\n",
       "      <td>30.377232</td>\n",
       "      <td>3.545816</td>\n",
       "      <td>2.781185</td>\n",
       "      <td>30.004063</td>\n",
       "      <td>0.717391</td>\n",
       "      <td>2.020082e+13</td>\n",
       "    </tr>\n",
       "    <tr>\n",
       "      <th>std</th>\n",
       "      <td>4.773691e+04</td>\n",
       "      <td>1.569032e+03</td>\n",
       "      <td>15.691158</td>\n",
       "      <td>0.156913</td>\n",
       "      <td>0.156775</td>\n",
       "      <td>0.493513</td>\n",
       "      <td>1.09711</td>\n",
       "      <td>4.574971</td>\n",
       "      <td>4.816361</td>\n",
       "      <td>0.507485</td>\n",
       "      <td>...</td>\n",
       "      <td>1.527607</td>\n",
       "      <td>21.827497</td>\n",
       "      <td>78.765452</td>\n",
       "      <td>1.702609</td>\n",
       "      <td>21.522220</td>\n",
       "      <td>77.308409</td>\n",
       "      <td>1.349623</td>\n",
       "      <td>21.892468</td>\n",
       "      <td>79.138858</td>\n",
       "      <td>5.671739e+04</td>\n",
       "    </tr>\n",
       "    <tr>\n",
       "      <th>min</th>\n",
       "      <td>9.411309e+08</td>\n",
       "      <td>2.010082e+07</td>\n",
       "      <td>201008.000000</td>\n",
       "      <td>2010.000000</td>\n",
       "      <td>2010.630100</td>\n",
       "      <td>0.000000</td>\n",
       "      <td>1.00000</td>\n",
       "      <td>-10.000000</td>\n",
       "      <td>1.000000</td>\n",
       "      <td>1.000000</td>\n",
       "      <td>...</td>\n",
       "      <td>0.000000</td>\n",
       "      <td>-85.622100</td>\n",
       "      <td>-176.533000</td>\n",
       "      <td>0.000000</td>\n",
       "      <td>-85.622100</td>\n",
       "      <td>-176.533000</td>\n",
       "      <td>0.000000</td>\n",
       "      <td>-85.622100</td>\n",
       "      <td>-176.533000</td>\n",
       "      <td>2.020082e+13</td>\n",
       "    </tr>\n",
       "    <tr>\n",
       "      <th>25%</th>\n",
       "      <td>9.411692e+08</td>\n",
       "      <td>2.020082e+07</td>\n",
       "      <td>202008.000000</td>\n",
       "      <td>2020.000000</td>\n",
       "      <td>2020.621900</td>\n",
       "      <td>0.000000</td>\n",
       "      <td>1.00000</td>\n",
       "      <td>-2.000000</td>\n",
       "      <td>2.000000</td>\n",
       "      <td>1.000000</td>\n",
       "      <td>...</td>\n",
       "      <td>1.000000</td>\n",
       "      <td>23.116700</td>\n",
       "      <td>-77.036400</td>\n",
       "      <td>0.000000</td>\n",
       "      <td>24.000000</td>\n",
       "      <td>-77.036400</td>\n",
       "      <td>1.000000</td>\n",
       "      <td>22.616300</td>\n",
       "      <td>-77.264000</td>\n",
       "      <td>2.020082e+13</td>\n",
       "    </tr>\n",
       "    <tr>\n",
       "      <th>50%</th>\n",
       "      <td>9.412116e+08</td>\n",
       "      <td>2.020082e+07</td>\n",
       "      <td>202008.000000</td>\n",
       "      <td>2020.000000</td>\n",
       "      <td>2020.621900</td>\n",
       "      <td>1.000000</td>\n",
       "      <td>1.00000</td>\n",
       "      <td>1.900000</td>\n",
       "      <td>4.000000</td>\n",
       "      <td>1.000000</td>\n",
       "      <td>...</td>\n",
       "      <td>3.000000</td>\n",
       "      <td>35.641100</td>\n",
       "      <td>8.500000</td>\n",
       "      <td>2.000000</td>\n",
       "      <td>35.641100</td>\n",
       "      <td>12.483300</td>\n",
       "      <td>3.000000</td>\n",
       "      <td>35.641100</td>\n",
       "      <td>8.000000</td>\n",
       "      <td>2.020082e+13</td>\n",
       "    </tr>\n",
       "    <tr>\n",
       "      <th>75%</th>\n",
       "      <td>9.412533e+08</td>\n",
       "      <td>2.020082e+07</td>\n",
       "      <td>202008.000000</td>\n",
       "      <td>2020.000000</td>\n",
       "      <td>2020.621900</td>\n",
       "      <td>1.000000</td>\n",
       "      <td>3.00000</td>\n",
       "      <td>3.400000</td>\n",
       "      <td>8.000000</td>\n",
       "      <td>1.000000</td>\n",
       "      <td>...</td>\n",
       "      <td>4.000000</td>\n",
       "      <td>42.237300</td>\n",
       "      <td>51.514800</td>\n",
       "      <td>4.000000</td>\n",
       "      <td>42.237300</td>\n",
       "      <td>51.514800</td>\n",
       "      <td>4.000000</td>\n",
       "      <td>42.237300</td>\n",
       "      <td>51.533300</td>\n",
       "      <td>2.020082e+13</td>\n",
       "    </tr>\n",
       "    <tr>\n",
       "      <th>max</th>\n",
       "      <td>9.412918e+08</td>\n",
       "      <td>2.020082e+07</td>\n",
       "      <td>202008.000000</td>\n",
       "      <td>2020.000000</td>\n",
       "      <td>2020.621900</td>\n",
       "      <td>1.000000</td>\n",
       "      <td>4.00000</td>\n",
       "      <td>10.000000</td>\n",
       "      <td>180.000000</td>\n",
       "      <td>17.000000</td>\n",
       "      <td>...</td>\n",
       "      <td>5.000000</td>\n",
       "      <td>81.000000</td>\n",
       "      <td>180.000000</td>\n",
       "      <td>5.000000</td>\n",
       "      <td>81.000000</td>\n",
       "      <td>180.000000</td>\n",
       "      <td>5.000000</td>\n",
       "      <td>81.000000</td>\n",
       "      <td>180.000000</td>\n",
       "      <td>2.020082e+13</td>\n",
       "    </tr>\n",
       "  </tbody>\n",
       "</table>\n",
       "<p>8 rows × 22 columns</p>\n",
       "</div>"
      ],
      "text/plain": [
       "       GLOBALEVENTID       SQLDATE      MonthYear           Year  \\\n",
       "count   1.084160e+05  1.084160e+05  108416.000000  108416.000000   \n",
       "mean    9.412113e+08  2.020073e+07  202007.101913    2019.991071   \n",
       "std     4.773691e+04  1.569032e+03      15.691158       0.156913   \n",
       "min     9.411309e+08  2.010082e+07  201008.000000    2010.000000   \n",
       "25%     9.411692e+08  2.020082e+07  202008.000000    2020.000000   \n",
       "50%     9.412116e+08  2.020082e+07  202008.000000    2020.000000   \n",
       "75%     9.412533e+08  2.020082e+07  202008.000000    2020.000000   \n",
       "max     9.412918e+08  2.020082e+07  202008.000000    2020.000000   \n",
       "\n",
       "        FractionDate    IsRootEvent     QuadClass  GoldsteinScale  \\\n",
       "count  108416.000000  108416.000000  108416.00000   108416.000000   \n",
       "mean     2020.612342       0.580293       1.76699        0.659217   \n",
       "std         0.156775       0.493513       1.09711        4.574971   \n",
       "min      2010.630100       0.000000       1.00000      -10.000000   \n",
       "25%      2020.621900       0.000000       1.00000       -2.000000   \n",
       "50%      2020.621900       1.000000       1.00000        1.900000   \n",
       "75%      2020.621900       1.000000       3.00000        3.400000   \n",
       "max      2020.621900       1.000000       4.00000       10.000000   \n",
       "\n",
       "         NumMentions     NumSources  ...  Actor1Geo_Type  Actor1Geo_Lat  \\\n",
       "count  108416.000000  108416.000000  ...   108416.000000   95162.000000   \n",
       "mean        5.058395       1.066724  ...        2.502287      30.074704   \n",
       "std         4.816361       0.507485  ...        1.527607      21.827497   \n",
       "min         1.000000       1.000000  ...        0.000000     -85.622100   \n",
       "25%         2.000000       1.000000  ...        1.000000      23.116700   \n",
       "50%         4.000000       1.000000  ...        3.000000      35.641100   \n",
       "75%         8.000000       1.000000  ...        4.000000      42.237300   \n",
       "max       180.000000      17.000000  ...        5.000000      81.000000   \n",
       "\n",
       "       Actor1Geo_Long  Actor2Geo_Type  Actor2Geo_Lat  Actor2Geo_Long  \\\n",
       "count    95171.000000   108416.000000   74520.000000    74524.000000   \n",
       "mean         1.359797        1.950266      30.377232        3.545816   \n",
       "std         78.765452        1.702609      21.522220       77.308409   \n",
       "min       -176.533000        0.000000     -85.622100     -176.533000   \n",
       "25%        -77.036400        0.000000      24.000000      -77.036400   \n",
       "50%          8.500000        2.000000      35.641100       12.483300   \n",
       "75%         51.514800        4.000000      42.237300       51.514800   \n",
       "max        180.000000        5.000000      81.000000      180.000000   \n",
       "\n",
       "       ActionGeo_Type  ActionGeo_Lat  ActionGeo_Long     DATEADDED  \n",
       "count   108416.000000  105429.000000   105434.000000  1.084160e+05  \n",
       "mean         2.781185      30.004063        0.717391  2.020082e+13  \n",
       "std          1.349623      21.892468       79.138858  5.671739e+04  \n",
       "min          0.000000     -85.622100     -176.533000  2.020082e+13  \n",
       "25%          1.000000      22.616300      -77.264000  2.020082e+13  \n",
       "50%          3.000000      35.641100        8.000000  2.020082e+13  \n",
       "75%          4.000000      42.237300       51.533300  2.020082e+13  \n",
       "max          5.000000      81.000000      180.000000  2.020082e+13  \n",
       "\n",
       "[8 rows x 22 columns]"
      ]
     },
     "execution_count": 3,
     "metadata": {},
     "output_type": "execute_result"
    }
   ],
   "source": [
    "events = get_today_events()\n",
    "events.describe()"
   ]
  },
  {
   "cell_type": "markdown",
   "metadata": {},
   "source": [
    "## Plot the number of sources\n",
    "We are using a logarithmic scale for plotting the number of sources."
   ]
  },
  {
   "cell_type": "code",
   "execution_count": 5,
   "metadata": {},
   "outputs": [
    {
     "data": {
      "text/plain": [
       "Text(0,0.5,'Count')"
      ]
     },
     "execution_count": 5,
     "metadata": {},
     "output_type": "execute_result"
    },
    {
     "data": {
      "image/png": "[encoded data removed]",
      "text/plain": [
       "<Figure size 1080x504 with 1 Axes>"
      ]
     },
     "metadata": {},
     "output_type": "display_data"
    }
   ],
   "source": [
    "seaborn.set_style(\"whitegrid\")\n",
    "plot.rcParams[\"figure.figsize\"] = (15, 7)\n",
    "\n",
    "figure, axis = plot.subplots()\n",
    "events[\"NumSources\"].hist(ax=axis, bins=100)\n",
    "axis.set_yscale(\"log\")\n",
    "axis.tick_params(labelsize=14)\n",
    "axis.set_xlabel(\"Sources\", fontsize=14)\n",
    "axis.set_ylabel(\"Count\", fontsize=14)"
   ]
  },
  {
   "cell_type": "markdown",
   "metadata": {},
   "source": [
    "## Connect to ArcGIS Online anonymously"
   ]
  },
  {
   "cell_type": "code",
   "execution_count": 6,
   "metadata": {},
   "outputs": [],
   "source": [
    "gis = GIS()"
   ]
  },
  {
   "cell_type": "markdown",
   "metadata": {},
   "source": [
    "## Display a map of europe\n",
    "***Hint:*** *map.basemaps shows a list of all available basemaps*"
   ]
  },
  {
   "cell_type": "code",
   "execution_count": 7,
   "metadata": {},
   "outputs": [],
   "source": [
    "def get_europe_map():\n",
    "    focus_map = gis.map(\"Europe\")\n",
    "    focus_map.basemap = \"dark-gray-vector\"\n",
    "    return focus_map\n",
    "\n",
    "focus_map = get_europe_map()"
   ]
  },
  {
   "cell_type": "code",
   "execution_count": 8,
   "metadata": {
    "scrolled": true
   },
   "outputs": [
    {
     "data": {
      "application/vnd.jupyter.widget-view+json": {
       "model_id": "3aab0b1ad05f437b87f61af0fa89a7a9",
       "version_major": 2,
       "version_minor": 0
      },
      "text/html": [
       "<p>Failed to display Jupyter Widget of type <code>MapView</code>.</p>\n",
       "<p>\n",
       "  If you're reading this message in the Jupyter Notebook or JupyterLab Notebook, it may mean\n",
       "  that the widgets JavaScript is still loading. If this message persists, it\n",
       "  likely means that the widgets JavaScript library is either not installed or\n",
       "  not enabled. See the <a href=\"https://ipywidgets.readthedocs.io/en/stable/user_install.html\">Jupyter\n",
       "  Widgets Documentation</a> for setup instructions.\n",
       "</p>\n",
       "<p>\n",
       "  If you're reading this message in another frontend (for example, a static\n",
       "  rendering on GitHub or <a href=\"https://nbviewer.jupyter.org/\">NBViewer</a>),\n",
       "  it may mean that your frontend doesn't currently support widgets.\n",
       "</p>\n"
      ],
      "text/plain": [
       "MapView(layout=Layout(height='400px', width='100%'))"
      ]
     },
     "metadata": {},
     "output_type": "display_data"
    },
    {
     "data": {
      "text/html": [
       "<div class=\"map-static-img-preview-40179389-12e3-4ade-bda1-101e682880c2\"><img src=\"\"></img></div>"
      ],
      "text/plain": [
       "<IPython.core.display.HTML object>"
      ]
     },
     "metadata": {},
     "output_type": "display_data"
    }
   ],
   "source": [
    "focus_map"
   ]
  },
  {
   "cell_type": "markdown",
   "metadata": {},
   "source": [
    "## Create a spatial dataframe for mapping the events from the pandas dataframe\n",
    "We are using the ActionGeo_Long and ActionGeo_Lat for locating the events. The spatial reference is WGS84 having EPSG-Code of 4326.\n",
    "- Extract only the columns relevant for mapping and having a simple type (e.g. int64, float64)\n",
    "- We are dropping all records having \"not a number\" for latitude or longitude\n",
    "- We are slicing and creating a deep copy from the events dataframe"
   ]
  },
  {
   "cell_type": "code",
   "execution_count": 9,
   "metadata": {
    "scrolled": true
   },
   "outputs": [
    {
     "name": "stdout",
     "output_type": "stream",
     "text": [
      "<class 'pandas.core.frame.DataFrame'>\n",
      "Int64Index: 105429 entries, 0 to 108415\n",
      "Data columns (total 7 columns):\n",
      " #   Column              Non-Null Count   Dtype   \n",
      "---  ------              --------------   -----   \n",
      " 0   GLOBALEVENTID       105429 non-null  int64   \n",
      " 1   ActionGeo_FullName  105429 non-null  object  \n",
      " 2   ActionGeo_Long      105429 non-null  float64 \n",
      " 3   ActionGeo_Lat       105429 non-null  float64 \n",
      " 4   NumMentions         105429 non-null  int64   \n",
      " 5   SOURCEURL           105429 non-null  object  \n",
      " 6   SHAPE               105429 non-null  geometry\n",
      "dtypes: float64(2), geometry(1), int64(2), object(2)\n",
      "memory usage: 6.4+ MB\n"
     ]
    }
   ],
   "source": [
    "mapping_events = events[[\"GLOBALEVENTID\", \n",
    "                         \"ActionGeo_FullName\", \n",
    "                         \"ActionGeo_Long\", \n",
    "                         \"ActionGeo_Lat\", \n",
    "                         \"NumMentions\", \n",
    "                         \"SOURCEURL\"]].dropna(subset=[\"ActionGeo_Lat\", \"ActionGeo_Long\"]) \n",
    "geo_events = geo.from_xy(mapping_events, x_column=\"ActionGeo_Long\", y_column=\"ActionGeo_Lat\", sr=4326)\n",
    "geo_events.info()"
   ]
  },
  {
   "cell_type": "markdown",
   "metadata": {},
   "source": [
    "## Display a subset of GDELT events on the map\n",
    "- Sort the events by using the number of mentions in all source documents. The number of mentions could be used to determine how important the event is. Multiple references within a single document are counted too."
   ]
  },
  {
   "cell_type": "code",
   "execution_count": 10,
   "metadata": {},
   "outputs": [
    {
     "data": {
      "application/vnd.jupyter.widget-view+json": {
       "model_id": "90ff35d3ebc94609af0252a7783b11ea",
       "version_major": 2,
       "version_minor": 0
      },
      "text/html": [
       "<p>Failed to display Jupyter Widget of type <code>MapView</code>.</p>\n",
       "<p>\n",
       "  If you're reading this message in the Jupyter Notebook or JupyterLab Notebook, it may mean\n",
       "  that the widgets JavaScript is still loading. If this message persists, it\n",
       "  likely means that the widgets JavaScript library is either not installed or\n",
       "  not enabled. See the <a href=\"https://ipywidgets.readthedocs.io/en/stable/user_install.html\">Jupyter\n",
       "  Widgets Documentation</a> for setup instructions.\n",
       "</p>\n",
       "<p>\n",
       "  If you're reading this message in another frontend (for example, a static\n",
       "  rendering on GitHub or <a href=\"https://nbviewer.jupyter.org/\">NBViewer</a>),\n",
       "  it may mean that your frontend doesn't currently support widgets.\n",
       "</p>\n"
      ],
      "text/plain": [
       "MapView(layout=Layout(height='400px', width='100%'))"
      ]
     },
     "metadata": {},
     "output_type": "display_data"
    },
    {
     "data": {
      "text/html": [
       "<div class=\"map-static-img-preview-0afb7be8-8421-41dc-ba11-903dc13f0414\"><img src=\"\"></img></div>"
      ],
      "text/plain": [
       "<IPython.core.display.HTML object>"
      ]
     },
     "metadata": {},
     "output_type": "display_data"
    }
   ],
   "source": [
    "del focus_map\n",
    "focus_map = get_europe_map()\n",
    "top_mapping_events = mapping_events.sort_values(by=\"NumMentions\", ascending=False).head(n=1000)\n",
    "top_geo_events = geo.from_xy(top_mapping_events, x_column=\"ActionGeo_Long\", y_column=\"ActionGeo_Lat\", sr=4326)\n",
    "top_geo_events.spatial.plot(map_widget=focus_map)\n",
    "focus_map"
   ]
  },
  {
   "cell_type": "markdown",
   "metadata": {},
   "source": [
    "## Display the GDELT events using a heatmap\n",
    "We are creating a new map widget and convert all \"mapping events\" to a spatial data frame."
   ]
  },
  {
   "cell_type": "code",
   "execution_count": 12,
   "metadata": {},
   "outputs": [
    {
     "data": {
      "application/vnd.jupyter.widget-view+json": {
       "model_id": "2166712d729c489b85d4fe624deeb269",
       "version_major": 2,
       "version_minor": 0
      },
      "text/html": [
       "<p>Failed to display Jupyter Widget of type <code>MapView</code>.</p>\n",
       "<p>\n",
       "  If you're reading this message in the Jupyter Notebook or JupyterLab Notebook, it may mean\n",
       "  that the widgets JavaScript is still loading. If this message persists, it\n",
       "  likely means that the widgets JavaScript library is either not installed or\n",
       "  not enabled. See the <a href=\"https://ipywidgets.readthedocs.io/en/stable/user_install.html\">Jupyter\n",
       "  Widgets Documentation</a> for setup instructions.\n",
       "</p>\n",
       "<p>\n",
       "  If you're reading this message in another frontend (for example, a static\n",
       "  rendering on GitHub or <a href=\"https://nbviewer.jupyter.org/\">NBViewer</a>),\n",
       "  it may mean that your frontend doesn't currently support widgets.\n",
       "</p>\n"
      ],
      "text/plain": [
       "MapView(layout=Layout(height='400px', width='100%'))"
      ]
     },
     "metadata": {},
     "output_type": "display_data"
    },
    {
     "data": {
      "text/html": [
       "<div class=\"map-static-img-preview-b4bb7c17-0c0f-4298-ae18-d331c0091827\"><img src=\"\"></img></div>"
      ],
      "text/plain": [
       "<IPython.core.display.HTML object>"
      ]
     },
     "metadata": {},
     "output_type": "display_data"
    }
   ],
   "source": [
    "del focus_map\n",
    "heat_focus_map = get_europe_map()\n",
    "geo_events.spatial.plot(map_widget=heat_focus_map, renderer_type=\"h\")\n",
    "heat_focus_map"
   ]
  },
  {
   "cell_type": "code",
   "execution_count": null,
   "metadata": {},
   "outputs": [],
   "source": []
  }
 ],
 "metadata": {
  "kernelspec": {
   "display_name": "Python 3",
   "language": "python",
   "name": "python3"
  },
  "language_info": {
   "codemirror_mode": {
    "name": "ipython",
    "version": 3
   },
   "file_extension": ".py",
   "mimetype": "text/x-python",
   "name": "python",
   "nbconvert_exporter": "python",
   "pygments_lexer": "ipython3",
   "version": "3.6.4"
  }
 },
 "nbformat": 4,
 "nbformat_minor": 2
}
